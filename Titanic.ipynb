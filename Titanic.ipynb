{
 "cells": [
  {
   "cell_type": "markdown",
   "metadata": {},
   "source": [
    "# Importing libreries required for analysis"
   ]
  },
  {
   "cell_type": "code",
   "execution_count": 3,
   "metadata": {},
   "outputs": [],
   "source": [
    "import pandas as pd\n",
    "import numpy as np\n",
    "import matplotlib.pyplot as plt\n",
    "import seaborn as sns\n",
    "import warnings\n",
    "warnings.filterwarnings(\"ignore\")"
   ]
  },
  {
   "cell_type": "markdown",
   "metadata": {},
   "source": [
    "# Loading the dataset"
   ]
  },
  {
   "cell_type": "code",
   "execution_count": 4,
   "metadata": {},
   "outputs": [
    {
     "data": {
      "text/html": [
       "<div>\n",
       "<style scoped>\n",
       "    .dataframe tbody tr th:only-of-type {\n",
       "        vertical-align: middle;\n",
       "    }\n",
       "\n",
       "    .dataframe tbody tr th {\n",
       "        vertical-align: top;\n",
       "    }\n",
       "\n",
       "    .dataframe thead th {\n",
       "        text-align: right;\n",
       "    }\n",
       "</style>\n",
       "<table border=\"1\" class=\"dataframe\">\n",
       "  <thead>\n",
       "    <tr style=\"text-align: right;\">\n",
       "      <th></th>\n",
       "      <th>PassengerId</th>\n",
       "      <th>Survived</th>\n",
       "      <th>Pclass</th>\n",
       "      <th>Name</th>\n",
       "      <th>Sex</th>\n",
       "      <th>Age</th>\n",
       "      <th>SibSp</th>\n",
       "      <th>Parch</th>\n",
       "      <th>Ticket</th>\n",
       "      <th>Fare</th>\n",
       "      <th>Cabin</th>\n",
       "      <th>Embarked</th>\n",
       "    </tr>\n",
       "  </thead>\n",
       "  <tbody>\n",
       "    <tr>\n",
       "      <th>0</th>\n",
       "      <td>1</td>\n",
       "      <td>0</td>\n",
       "      <td>3</td>\n",
       "      <td>Braund, Mr. Owen Harris</td>\n",
       "      <td>male</td>\n",
       "      <td>22.0</td>\n",
       "      <td>1</td>\n",
       "      <td>0</td>\n",
       "      <td>A/5 21171</td>\n",
       "      <td>7.2500</td>\n",
       "      <td>NaN</td>\n",
       "      <td>S</td>\n",
       "    </tr>\n",
       "    <tr>\n",
       "      <th>1</th>\n",
       "      <td>2</td>\n",
       "      <td>1</td>\n",
       "      <td>1</td>\n",
       "      <td>Cumings, Mrs. John Bradley (Florence Briggs Th...</td>\n",
       "      <td>female</td>\n",
       "      <td>38.0</td>\n",
       "      <td>1</td>\n",
       "      <td>0</td>\n",
       "      <td>PC 17599</td>\n",
       "      <td>71.2833</td>\n",
       "      <td>C85</td>\n",
       "      <td>C</td>\n",
       "    </tr>\n",
       "    <tr>\n",
       "      <th>2</th>\n",
       "      <td>3</td>\n",
       "      <td>1</td>\n",
       "      <td>3</td>\n",
       "      <td>Heikkinen, Miss. Laina</td>\n",
       "      <td>female</td>\n",
       "      <td>26.0</td>\n",
       "      <td>0</td>\n",
       "      <td>0</td>\n",
       "      <td>STON/O2. 3101282</td>\n",
       "      <td>7.9250</td>\n",
       "      <td>NaN</td>\n",
       "      <td>S</td>\n",
       "    </tr>\n",
       "    <tr>\n",
       "      <th>3</th>\n",
       "      <td>4</td>\n",
       "      <td>1</td>\n",
       "      <td>1</td>\n",
       "      <td>Futrelle, Mrs. Jacques Heath (Lily May Peel)</td>\n",
       "      <td>female</td>\n",
       "      <td>35.0</td>\n",
       "      <td>1</td>\n",
       "      <td>0</td>\n",
       "      <td>113803</td>\n",
       "      <td>53.1000</td>\n",
       "      <td>C123</td>\n",
       "      <td>S</td>\n",
       "    </tr>\n",
       "    <tr>\n",
       "      <th>4</th>\n",
       "      <td>5</td>\n",
       "      <td>0</td>\n",
       "      <td>3</td>\n",
       "      <td>Allen, Mr. William Henry</td>\n",
       "      <td>male</td>\n",
       "      <td>35.0</td>\n",
       "      <td>0</td>\n",
       "      <td>0</td>\n",
       "      <td>373450</td>\n",
       "      <td>8.0500</td>\n",
       "      <td>NaN</td>\n",
       "      <td>S</td>\n",
       "    </tr>\n",
       "  </tbody>\n",
       "</table>\n",
       "</div>"
      ],
      "text/plain": [
       "   PassengerId  Survived  Pclass  \\\n",
       "0            1         0       3   \n",
       "1            2         1       1   \n",
       "2            3         1       3   \n",
       "3            4         1       1   \n",
       "4            5         0       3   \n",
       "\n",
       "                                                Name     Sex   Age  SibSp  \\\n",
       "0                            Braund, Mr. Owen Harris    male  22.0      1   \n",
       "1  Cumings, Mrs. John Bradley (Florence Briggs Th...  female  38.0      1   \n",
       "2                             Heikkinen, Miss. Laina  female  26.0      0   \n",
       "3       Futrelle, Mrs. Jacques Heath (Lily May Peel)  female  35.0      1   \n",
       "4                           Allen, Mr. William Henry    male  35.0      0   \n",
       "\n",
       "   Parch            Ticket     Fare Cabin Embarked  \n",
       "0      0         A/5 21171   7.2500   NaN        S  \n",
       "1      0          PC 17599  71.2833   C85        C  \n",
       "2      0  STON/O2. 3101282   7.9250   NaN        S  \n",
       "3      0            113803  53.1000  C123        S  \n",
       "4      0            373450   8.0500   NaN        S  "
      ]
     },
     "execution_count": 4,
     "metadata": {},
     "output_type": "execute_result"
    }
   ],
   "source": [
    "df=pd.read_csv(\"Titanic.csv\")\n",
    "df.head()"
   ]
  },
  {
   "cell_type": "code",
   "execution_count": 5,
   "metadata": {},
   "outputs": [
    {
     "data": {
      "text/html": [
       "<div>\n",
       "<style scoped>\n",
       "    .dataframe tbody tr th:only-of-type {\n",
       "        vertical-align: middle;\n",
       "    }\n",
       "\n",
       "    .dataframe tbody tr th {\n",
       "        vertical-align: top;\n",
       "    }\n",
       "\n",
       "    .dataframe thead th {\n",
       "        text-align: right;\n",
       "    }\n",
       "</style>\n",
       "<table border=\"1\" class=\"dataframe\">\n",
       "  <thead>\n",
       "    <tr style=\"text-align: right;\">\n",
       "      <th></th>\n",
       "      <th>PassengerId</th>\n",
       "      <th>Survived</th>\n",
       "      <th>Pclass</th>\n",
       "      <th>Age</th>\n",
       "      <th>SibSp</th>\n",
       "      <th>Parch</th>\n",
       "      <th>Fare</th>\n",
       "    </tr>\n",
       "  </thead>\n",
       "  <tbody>\n",
       "    <tr>\n",
       "      <th>count</th>\n",
       "      <td>891.000000</td>\n",
       "      <td>891.000000</td>\n",
       "      <td>891.000000</td>\n",
       "      <td>714.000000</td>\n",
       "      <td>891.000000</td>\n",
       "      <td>891.000000</td>\n",
       "      <td>891.000000</td>\n",
       "    </tr>\n",
       "    <tr>\n",
       "      <th>mean</th>\n",
       "      <td>446.000000</td>\n",
       "      <td>0.383838</td>\n",
       "      <td>2.308642</td>\n",
       "      <td>29.699118</td>\n",
       "      <td>0.523008</td>\n",
       "      <td>0.381594</td>\n",
       "      <td>32.204208</td>\n",
       "    </tr>\n",
       "    <tr>\n",
       "      <th>std</th>\n",
       "      <td>257.353842</td>\n",
       "      <td>0.486592</td>\n",
       "      <td>0.836071</td>\n",
       "      <td>14.526497</td>\n",
       "      <td>1.102743</td>\n",
       "      <td>0.806057</td>\n",
       "      <td>49.693429</td>\n",
       "    </tr>\n",
       "    <tr>\n",
       "      <th>min</th>\n",
       "      <td>1.000000</td>\n",
       "      <td>0.000000</td>\n",
       "      <td>1.000000</td>\n",
       "      <td>0.420000</td>\n",
       "      <td>0.000000</td>\n",
       "      <td>0.000000</td>\n",
       "      <td>0.000000</td>\n",
       "    </tr>\n",
       "    <tr>\n",
       "      <th>25%</th>\n",
       "      <td>223.500000</td>\n",
       "      <td>0.000000</td>\n",
       "      <td>2.000000</td>\n",
       "      <td>20.125000</td>\n",
       "      <td>0.000000</td>\n",
       "      <td>0.000000</td>\n",
       "      <td>7.910400</td>\n",
       "    </tr>\n",
       "    <tr>\n",
       "      <th>50%</th>\n",
       "      <td>446.000000</td>\n",
       "      <td>0.000000</td>\n",
       "      <td>3.000000</td>\n",
       "      <td>28.000000</td>\n",
       "      <td>0.000000</td>\n",
       "      <td>0.000000</td>\n",
       "      <td>14.454200</td>\n",
       "    </tr>\n",
       "    <tr>\n",
       "      <th>75%</th>\n",
       "      <td>668.500000</td>\n",
       "      <td>1.000000</td>\n",
       "      <td>3.000000</td>\n",
       "      <td>38.000000</td>\n",
       "      <td>1.000000</td>\n",
       "      <td>0.000000</td>\n",
       "      <td>31.000000</td>\n",
       "    </tr>\n",
       "    <tr>\n",
       "      <th>max</th>\n",
       "      <td>891.000000</td>\n",
       "      <td>1.000000</td>\n",
       "      <td>3.000000</td>\n",
       "      <td>80.000000</td>\n",
       "      <td>8.000000</td>\n",
       "      <td>6.000000</td>\n",
       "      <td>512.329200</td>\n",
       "    </tr>\n",
       "  </tbody>\n",
       "</table>\n",
       "</div>"
      ],
      "text/plain": [
       "       PassengerId    Survived      Pclass         Age       SibSp  \\\n",
       "count   891.000000  891.000000  891.000000  714.000000  891.000000   \n",
       "mean    446.000000    0.383838    2.308642   29.699118    0.523008   \n",
       "std     257.353842    0.486592    0.836071   14.526497    1.102743   \n",
       "min       1.000000    0.000000    1.000000    0.420000    0.000000   \n",
       "25%     223.500000    0.000000    2.000000   20.125000    0.000000   \n",
       "50%     446.000000    0.000000    3.000000   28.000000    0.000000   \n",
       "75%     668.500000    1.000000    3.000000   38.000000    1.000000   \n",
       "max     891.000000    1.000000    3.000000   80.000000    8.000000   \n",
       "\n",
       "            Parch        Fare  \n",
       "count  891.000000  891.000000  \n",
       "mean     0.381594   32.204208  \n",
       "std      0.806057   49.693429  \n",
       "min      0.000000    0.000000  \n",
       "25%      0.000000    7.910400  \n",
       "50%      0.000000   14.454200  \n",
       "75%      0.000000   31.000000  \n",
       "max      6.000000  512.329200  "
      ]
     },
     "execution_count": 5,
     "metadata": {},
     "output_type": "execute_result"
    }
   ],
   "source": [
    "df.describe()"
   ]
  },
  {
   "cell_type": "code",
   "execution_count": 6,
   "metadata": {},
   "outputs": [
    {
     "name": "stdout",
     "output_type": "stream",
     "text": [
      "<class 'pandas.core.frame.DataFrame'>\n",
      "RangeIndex: 891 entries, 0 to 890\n",
      "Data columns (total 12 columns):\n",
      "PassengerId    891 non-null int64\n",
      "Survived       891 non-null int64\n",
      "Pclass         891 non-null int64\n",
      "Name           891 non-null object\n",
      "Sex            891 non-null object\n",
      "Age            714 non-null float64\n",
      "SibSp          891 non-null int64\n",
      "Parch          891 non-null int64\n",
      "Ticket         891 non-null object\n",
      "Fare           891 non-null float64\n",
      "Cabin          204 non-null object\n",
      "Embarked       889 non-null object\n",
      "dtypes: float64(2), int64(5), object(5)\n",
      "memory usage: 83.6+ KB\n"
     ]
    }
   ],
   "source": [
    "df.info()"
   ]
  },
  {
   "cell_type": "code",
   "execution_count": 7,
   "metadata": {},
   "outputs": [
    {
     "data": {
      "text/plain": [
       "PassengerId      0\n",
       "Survived         0\n",
       "Pclass           0\n",
       "Name             0\n",
       "Sex              0\n",
       "Age            177\n",
       "SibSp            0\n",
       "Parch            0\n",
       "Ticket           0\n",
       "Fare             0\n",
       "Cabin          687\n",
       "Embarked         2\n",
       "dtype: int64"
      ]
     },
     "execution_count": 7,
     "metadata": {},
     "output_type": "execute_result"
    }
   ],
   "source": [
    "df.isnull().sum()"
   ]
  },
  {
   "cell_type": "markdown",
   "metadata": {},
   "source": [
    "From the above observations we can see\n",
    " 1)Age , embarked and cabin has NAN values\n",
    " 2)columns like Name, Ticket, and cabin are not required and can be droped\n",
    " 3)NAN values of age and embarked colums should be replaced\n",
    " 4) string values of sex and embarked should be replaced with numbers"
   ]
  },
  {
   "cell_type": "code",
   "execution_count": 8,
   "metadata": {},
   "outputs": [],
   "source": [
    "df1=df.drop(labels=[\"Name\", \"Ticket\", \"Cabin\"], axis=1, inplace=True)"
   ]
  },
  {
   "cell_type": "code",
   "execution_count": 9,
   "metadata": {},
   "outputs": [
    {
     "data": {
      "text/plain": [
       "PassengerId      0\n",
       "Survived         0\n",
       "Pclass           0\n",
       "Sex              0\n",
       "Age            177\n",
       "SibSp            0\n",
       "Parch            0\n",
       "Fare             0\n",
       "Embarked         2\n",
       "dtype: int64"
      ]
     },
     "execution_count": 9,
     "metadata": {},
     "output_type": "execute_result"
    }
   ],
   "source": [
    "df.isnull().sum()"
   ]
  },
  {
   "cell_type": "code",
   "execution_count": 10,
   "metadata": {},
   "outputs": [
    {
     "data": {
      "text/plain": [
       "S    644\n",
       "C    168\n",
       "Q     77\n",
       "Name: Embarked, dtype: int64"
      ]
     },
     "execution_count": 10,
     "metadata": {},
     "output_type": "execute_result"
    }
   ],
   "source": [
    "df[\"Embarked\"].value_counts()"
   ]
  },
  {
   "cell_type": "markdown",
   "metadata": {},
   "source": [
    "most of the values in embarked column is belongs to \"S\" we will replace NaN values with s\n",
    "and will replace Nan values from age colum with median value"
   ]
  },
  {
   "cell_type": "code",
   "execution_count": 11,
   "metadata": {},
   "outputs": [],
   "source": [
    "df[\"Age\"].fillna(df[\"Age\"].median(), inplace=True)\n",
    "df[\"Embarked\"].fillna(\"S\", inplace=True)"
   ]
  },
  {
   "cell_type": "code",
   "execution_count": 12,
   "metadata": {},
   "outputs": [
    {
     "data": {
      "text/html": [
       "<div>\n",
       "<style scoped>\n",
       "    .dataframe tbody tr th:only-of-type {\n",
       "        vertical-align: middle;\n",
       "    }\n",
       "\n",
       "    .dataframe tbody tr th {\n",
       "        vertical-align: top;\n",
       "    }\n",
       "\n",
       "    .dataframe thead th {\n",
       "        text-align: right;\n",
       "    }\n",
       "</style>\n",
       "<table border=\"1\" class=\"dataframe\">\n",
       "  <thead>\n",
       "    <tr style=\"text-align: right;\">\n",
       "      <th></th>\n",
       "      <th>PassengerId</th>\n",
       "      <th>Survived</th>\n",
       "      <th>Pclass</th>\n",
       "      <th>Age</th>\n",
       "      <th>SibSp</th>\n",
       "      <th>Parch</th>\n",
       "      <th>Fare</th>\n",
       "    </tr>\n",
       "  </thead>\n",
       "  <tbody>\n",
       "    <tr>\n",
       "      <th>count</th>\n",
       "      <td>891.000000</td>\n",
       "      <td>891.000000</td>\n",
       "      <td>891.000000</td>\n",
       "      <td>891.000000</td>\n",
       "      <td>891.000000</td>\n",
       "      <td>891.000000</td>\n",
       "      <td>891.000000</td>\n",
       "    </tr>\n",
       "    <tr>\n",
       "      <th>mean</th>\n",
       "      <td>446.000000</td>\n",
       "      <td>0.383838</td>\n",
       "      <td>2.308642</td>\n",
       "      <td>29.361582</td>\n",
       "      <td>0.523008</td>\n",
       "      <td>0.381594</td>\n",
       "      <td>32.204208</td>\n",
       "    </tr>\n",
       "    <tr>\n",
       "      <th>std</th>\n",
       "      <td>257.353842</td>\n",
       "      <td>0.486592</td>\n",
       "      <td>0.836071</td>\n",
       "      <td>13.019697</td>\n",
       "      <td>1.102743</td>\n",
       "      <td>0.806057</td>\n",
       "      <td>49.693429</td>\n",
       "    </tr>\n",
       "    <tr>\n",
       "      <th>min</th>\n",
       "      <td>1.000000</td>\n",
       "      <td>0.000000</td>\n",
       "      <td>1.000000</td>\n",
       "      <td>0.420000</td>\n",
       "      <td>0.000000</td>\n",
       "      <td>0.000000</td>\n",
       "      <td>0.000000</td>\n",
       "    </tr>\n",
       "    <tr>\n",
       "      <th>25%</th>\n",
       "      <td>223.500000</td>\n",
       "      <td>0.000000</td>\n",
       "      <td>2.000000</td>\n",
       "      <td>22.000000</td>\n",
       "      <td>0.000000</td>\n",
       "      <td>0.000000</td>\n",
       "      <td>7.910400</td>\n",
       "    </tr>\n",
       "    <tr>\n",
       "      <th>50%</th>\n",
       "      <td>446.000000</td>\n",
       "      <td>0.000000</td>\n",
       "      <td>3.000000</td>\n",
       "      <td>28.000000</td>\n",
       "      <td>0.000000</td>\n",
       "      <td>0.000000</td>\n",
       "      <td>14.454200</td>\n",
       "    </tr>\n",
       "    <tr>\n",
       "      <th>75%</th>\n",
       "      <td>668.500000</td>\n",
       "      <td>1.000000</td>\n",
       "      <td>3.000000</td>\n",
       "      <td>35.000000</td>\n",
       "      <td>1.000000</td>\n",
       "      <td>0.000000</td>\n",
       "      <td>31.000000</td>\n",
       "    </tr>\n",
       "    <tr>\n",
       "      <th>max</th>\n",
       "      <td>891.000000</td>\n",
       "      <td>1.000000</td>\n",
       "      <td>3.000000</td>\n",
       "      <td>80.000000</td>\n",
       "      <td>8.000000</td>\n",
       "      <td>6.000000</td>\n",
       "      <td>512.329200</td>\n",
       "    </tr>\n",
       "  </tbody>\n",
       "</table>\n",
       "</div>"
      ],
      "text/plain": [
       "       PassengerId    Survived      Pclass         Age       SibSp  \\\n",
       "count   891.000000  891.000000  891.000000  891.000000  891.000000   \n",
       "mean    446.000000    0.383838    2.308642   29.361582    0.523008   \n",
       "std     257.353842    0.486592    0.836071   13.019697    1.102743   \n",
       "min       1.000000    0.000000    1.000000    0.420000    0.000000   \n",
       "25%     223.500000    0.000000    2.000000   22.000000    0.000000   \n",
       "50%     446.000000    0.000000    3.000000   28.000000    0.000000   \n",
       "75%     668.500000    1.000000    3.000000   35.000000    1.000000   \n",
       "max     891.000000    1.000000    3.000000   80.000000    8.000000   \n",
       "\n",
       "            Parch        Fare  \n",
       "count  891.000000  891.000000  \n",
       "mean     0.381594   32.204208  \n",
       "std      0.806057   49.693429  \n",
       "min      0.000000    0.000000  \n",
       "25%      0.000000    7.910400  \n",
       "50%      0.000000   14.454200  \n",
       "75%      0.000000   31.000000  \n",
       "max      6.000000  512.329200  "
      ]
     },
     "execution_count": 12,
     "metadata": {},
     "output_type": "execute_result"
    }
   ],
   "source": [
    "df.describe()"
   ]
  },
  {
   "cell_type": "code",
   "execution_count": 13,
   "metadata": {},
   "outputs": [
    {
     "data": {
      "text/plain": [
       "PassengerId    0\n",
       "Survived       0\n",
       "Pclass         0\n",
       "Sex            0\n",
       "Age            0\n",
       "SibSp          0\n",
       "Parch          0\n",
       "Fare           0\n",
       "Embarked       0\n",
       "dtype: int64"
      ]
     },
     "execution_count": 13,
     "metadata": {},
     "output_type": "execute_result"
    }
   ],
   "source": [
    "df.isnull().sum()"
   ]
  },
  {
   "cell_type": "markdown",
   "metadata": {},
   "source": [
    "#now we can see their are no NAN values , now we convert embarked and sex value to numbers"
   ]
  },
  {
   "cell_type": "code",
   "execution_count": 14,
   "metadata": {},
   "outputs": [],
   "source": [
    "import sklearn\n",
    "from sklearn.preprocessing import LabelEncoder\n",
    "le=LabelEncoder()\n",
    "df[\"Sex\"] =le.fit_transform(df[\"Sex\"])\n",
    "df[\"Embarked\"]=le.fit_transform(df[\"Embarked\"])"
   ]
  },
  {
   "cell_type": "code",
   "execution_count": 15,
   "metadata": {},
   "outputs": [
    {
     "name": "stdout",
     "output_type": "stream",
     "text": [
      "2    646\n",
      "0    168\n",
      "1     77\n",
      "Name: Embarked, dtype: int64\n",
      "1    577\n",
      "0    314\n",
      "Name: Sex, dtype: int64\n",
      "   PassengerId  Survived  Pclass  Sex   Age  SibSp  Parch     Fare  Embarked\n",
      "0            1         0       3    1  22.0      1      0   7.2500         2\n",
      "1            2         1       1    0  38.0      1      0  71.2833         0\n",
      "2            3         1       3    0  26.0      0      0   7.9250         2\n",
      "3            4         1       1    0  35.0      1      0  53.1000         2\n",
      "4            5         0       3    1  35.0      0      0   8.0500         2\n"
     ]
    }
   ],
   "source": [
    "print(df[\"Embarked\"].value_counts())\n",
    "print(df[\"Sex\"].value_counts())\n",
    "print(df.head())"
   ]
  },
  {
   "cell_type": "markdown",
   "metadata": {},
   "source": [
    "all the values of sex and embarked are converted into numbers"
   ]
  },
  {
   "cell_type": "markdown",
   "metadata": {},
   "source": [
    "# EDA"
   ]
  },
  {
   "cell_type": "markdown",
   "metadata": {},
   "source": [
    " Analysis of the sex with respect to survival rate( male=1, female=0)"
   ]
  },
  {
   "cell_type": "code",
   "execution_count": 16,
   "metadata": {},
   "outputs": [
    {
     "data": {
      "text/plain": [
       "<matplotlib.axes._subplots.AxesSubplot at 0xa748438>"
      ]
     },
     "execution_count": 16,
     "metadata": {},
     "output_type": "execute_result"
    },
    {
     "data": {
      "image/png": "[encoded data removed]",
      "text/plain": [
       "<Figure size 432x288 with 1 Axes>"
      ]
     },
     "metadata": {
      "needs_background": "light"
     },
     "output_type": "display_data"
    }
   ],
   "source": [
    "sns.countplot(df[\"Sex\"])"
   ]
  },
  {
   "cell_type": "code",
   "execution_count": 17,
   "metadata": {},
   "outputs": [
    {
     "name": "stdout",
     "output_type": "stream",
     "text": [
      "total female survived: 233\n",
      "total male survived: 109\n",
      "total survived: 342\n"
     ]
    },
    {
     "data": {
      "image/png": "[encoded data removed]",
      "text/plain": [
       "<Figure size 432x288 with 1 Axes>"
      ]
     },
     "metadata": {
      "needs_background": "light"
     },
     "output_type": "display_data"
    }
   ],
   "source": [
    "sns.countplot(df[\"Survived\"],hue=df[\"Sex\"])\n",
    "total_survived_females = df[df.Sex == 0][\"Survived\"].sum()\n",
    "total_survived_males = df[df.Sex == 1][\"Survived\"].sum()\n",
    "print(\"total female survived:\",total_survived_females)\n",
    "print(\"total male survived:\",total_survived_males)\n",
    "print(\"total survived:\",total_survived_males+total_survived_females)"
   ]
  },
  {
   "cell_type": "markdown",
   "metadata": {},
   "source": [
    "From the above grapgh we can see that propotion of the female survived is more then that of male"
   ]
  },
  {
   "cell_type": "markdown",
   "metadata": {},
   "source": [
    "Analysis of the Pclass with respect to survival rate"
   ]
  },
  {
   "cell_type": "code",
   "execution_count": 18,
   "metadata": {},
   "outputs": [
    {
     "name": "stdout",
     "output_type": "stream",
     "text": [
      "total_survived class one = 136\n",
      "total_survived class two = 87\n",
      "total_survived class three =  119\n",
      "total_survived class = 342\n"
     ]
    },
    {
     "data": {
      "image/png": "[encoded data removed]",
      "text/plain": [
       "<Figure size 432x288 with 1 Axes>"
      ]
     },
     "metadata": {
      "needs_background": "light"
     },
     "output_type": "display_data"
    }
   ],
   "source": [
    "sns.countplot(df[\"Pclass\"], hue=df[\"Survived\"])\n",
    "\n",
    "print(\"total_survived class one =\", df[df.Pclass == 1][\"Survived\"].sum())\n",
    "print(\"total_survived class two =\",df[df.Pclass == 2][\"Survived\"].sum())\n",
    "print(\"total_survived class three = \",df[df.Pclass == 3][\"Survived\"].sum())\n",
    "print(\"total_survived class =\",  df[df.Pclass == 1][\"Survived\"].sum()+df[df.Pclass == 2][\"Survived\"].sum()+df[df.Pclass == 3][\"Survived\"].sum())"
   ]
  },
  {
   "cell_type": "markdown",
   "metadata": {},
   "source": [
    "From the above grapgh we can see that survival rate in class one people is higest and class three is lowest"
   ]
  },
  {
   "cell_type": "markdown",
   "metadata": {},
   "source": [
    " Analysis of age"
   ]
  },
  {
   "cell_type": "code",
   "execution_count": 19,
   "metadata": {},
   "outputs": [
    {
     "data": {
      "text/plain": [
       "Text(0, 0.5, 'Not survived')"
      ]
     },
     "execution_count": 19,
     "metadata": {},
     "output_type": "execute_result"
    },
    {
     "data": {
      "image/png": "[encoded data removed]",
      "text/plain": [
       "<Figure size 432x288 with 2 Axes>"
      ]
     },
     "metadata": {
      "needs_background": "light"
     },
     "output_type": "display_data"
    }
   ],
   "source": [
    "plt.subplot(1, 2, 1)\n",
    "plt.hist(df[df.Survived == 1][\"Age\"])\n",
    "plt.title(\" who survived\")\n",
    "plt.xlabel(\"age\")\n",
    "plt.ylabel(\"people survived\")\n",
    "plt.subplot(1, 2, 2)\n",
    "plt.hist(df[df.Survived == 0][\"Age\"])\n",
    "plt.title(\" who is not survived\")\n",
    "plt.xlabel(\"age\")\n",
    "plt.ylabel(\"Not survived\")"
   ]
  },
  {
   "cell_type": "markdown",
   "metadata": {},
   "source": [
    "By comparing the two grapgh we can conclude that most of the people who survived are younger age and who is not survived are belongs old age\n",
    "\n",
    "lets compare all the independent variables using a pair plot"
   ]
  },
  {
   "cell_type": "code",
   "execution_count": 20,
   "metadata": {},
   "outputs": [
    {
     "data": {
      "text/plain": [
       "<seaborn.axisgrid.PairGrid at 0xa7217b8>"
      ]
     },
     "execution_count": 20,
     "metadata": {},
     "output_type": "execute_result"
    },
    {
     "data": {
      "image/png": "[encoded data removed]",
      "text/plain": [
       "<Figure size 1620x1620 with 90 Axes>"
      ]
     },
     "metadata": {
      "needs_background": "light"
     },
     "output_type": "display_data"
    }
   ],
   "source": [
    "sns.pairplot(df)"
   ]
  },
  {
   "cell_type": "markdown",
   "metadata": {},
   "source": [
    "# Data cleaning"
   ]
  },
  {
   "cell_type": "code",
   "execution_count": 21,
   "metadata": {},
   "outputs": [
    {
     "data": {
      "text/plain": [
       "<matplotlib.axes._subplots.AxesSubplot at 0xd04b390>"
      ]
     },
     "execution_count": 21,
     "metadata": {},
     "output_type": "execute_result"
    },
    {
     "data": {
      "image/png": "[encoded data removed]",
      "text/plain": [
       "<Figure size 1080x864 with 2 Axes>"
      ]
     },
     "metadata": {
      "needs_background": "light"
     },
     "output_type": "display_data"
    }
   ],
   "source": [
    "#check the correlation\n",
    "plt.figure(figsize=(15,12))\n",
    "sns.heatmap(df.corr(),annot=True)"
   ]
  },
  {
   "cell_type": "markdown",
   "metadata": {},
   "source": [
    "from the above heat map their is no corelation between PassengerID and survived so we can drop that column"
   ]
  },
  {
   "cell_type": "code",
   "execution_count": 22,
   "metadata": {},
   "outputs": [],
   "source": [
    "df.drop(labels=[\"PassengerId\"], axis=1, inplace=True)"
   ]
  },
  {
   "cell_type": "code",
   "execution_count": 23,
   "metadata": {},
   "outputs": [
    {
     "data": {
      "text/html": [
       "<div>\n",
       "<style scoped>\n",
       "    .dataframe tbody tr th:only-of-type {\n",
       "        vertical-align: middle;\n",
       "    }\n",
       "\n",
       "    .dataframe tbody tr th {\n",
       "        vertical-align: top;\n",
       "    }\n",
       "\n",
       "    .dataframe thead th {\n",
       "        text-align: right;\n",
       "    }\n",
       "</style>\n",
       "<table border=\"1\" class=\"dataframe\">\n",
       "  <thead>\n",
       "    <tr style=\"text-align: right;\">\n",
       "      <th></th>\n",
       "      <th>Survived</th>\n",
       "      <th>Pclass</th>\n",
       "      <th>Sex</th>\n",
       "      <th>Age</th>\n",
       "      <th>SibSp</th>\n",
       "      <th>Parch</th>\n",
       "      <th>Fare</th>\n",
       "      <th>Embarked</th>\n",
       "    </tr>\n",
       "  </thead>\n",
       "  <tbody>\n",
       "    <tr>\n",
       "      <th>0</th>\n",
       "      <td>0</td>\n",
       "      <td>3</td>\n",
       "      <td>1</td>\n",
       "      <td>22.0</td>\n",
       "      <td>1</td>\n",
       "      <td>0</td>\n",
       "      <td>7.2500</td>\n",
       "      <td>2</td>\n",
       "    </tr>\n",
       "    <tr>\n",
       "      <th>1</th>\n",
       "      <td>1</td>\n",
       "      <td>1</td>\n",
       "      <td>0</td>\n",
       "      <td>38.0</td>\n",
       "      <td>1</td>\n",
       "      <td>0</td>\n",
       "      <td>71.2833</td>\n",
       "      <td>0</td>\n",
       "    </tr>\n",
       "    <tr>\n",
       "      <th>2</th>\n",
       "      <td>1</td>\n",
       "      <td>3</td>\n",
       "      <td>0</td>\n",
       "      <td>26.0</td>\n",
       "      <td>0</td>\n",
       "      <td>0</td>\n",
       "      <td>7.9250</td>\n",
       "      <td>2</td>\n",
       "    </tr>\n",
       "    <tr>\n",
       "      <th>3</th>\n",
       "      <td>1</td>\n",
       "      <td>1</td>\n",
       "      <td>0</td>\n",
       "      <td>35.0</td>\n",
       "      <td>1</td>\n",
       "      <td>0</td>\n",
       "      <td>53.1000</td>\n",
       "      <td>2</td>\n",
       "    </tr>\n",
       "    <tr>\n",
       "      <th>4</th>\n",
       "      <td>0</td>\n",
       "      <td>3</td>\n",
       "      <td>1</td>\n",
       "      <td>35.0</td>\n",
       "      <td>0</td>\n",
       "      <td>0</td>\n",
       "      <td>8.0500</td>\n",
       "      <td>2</td>\n",
       "    </tr>\n",
       "  </tbody>\n",
       "</table>\n",
       "</div>"
      ],
      "text/plain": [
       "   Survived  Pclass  Sex   Age  SibSp  Parch     Fare  Embarked\n",
       "0         0       3    1  22.0      1      0   7.2500         2\n",
       "1         1       1    0  38.0      1      0  71.2833         0\n",
       "2         1       3    0  26.0      0      0   7.9250         2\n",
       "3         1       1    0  35.0      1      0  53.1000         2\n",
       "4         0       3    1  35.0      0      0   8.0500         2"
      ]
     },
     "execution_count": 23,
     "metadata": {},
     "output_type": "execute_result"
    }
   ],
   "source": [
    "df.head()"
   ]
  },
  {
   "cell_type": "markdown",
   "metadata": {},
   "source": [
    "Cheking the skewness and removing the outliers "
   ]
  },
  {
   "cell_type": "code",
   "execution_count": 24,
   "metadata": {},
   "outputs": [
    {
     "data": {
      "text/plain": [
       "Survived    0.478523\n",
       "Pclass     -0.630548\n",
       "Sex        -0.618921\n",
       "Age         0.510245\n",
       "SibSp       3.695352\n",
       "Parch       2.749117\n",
       "Fare        4.787317\n",
       "Embarked   -1.264823\n",
       "dtype: float64"
      ]
     },
     "execution_count": 24,
     "metadata": {},
     "output_type": "execute_result"
    }
   ],
   "source": [
    "df.skew()"
   ]
  },
  {
   "cell_type": "code",
   "execution_count": null,
   "metadata": {},
   "outputs": [],
   "source": []
  },
  {
   "cell_type": "code",
   "execution_count": 25,
   "metadata": {},
   "outputs": [
    {
     "data": {
      "text/plain": [
       "array([[<matplotlib.axes._subplots.AxesSubplot object at 0x000000000B16F358>,\n",
       "        <matplotlib.axes._subplots.AxesSubplot object at 0x000000000F760240>,\n",
       "        <matplotlib.axes._subplots.AxesSubplot object at 0x000000000F9887B8>],\n",
       "       [<matplotlib.axes._subplots.AxesSubplot object at 0x000000000F9B0D30>,\n",
       "        <matplotlib.axes._subplots.AxesSubplot object at 0x000000000F9E12E8>,\n",
       "        <matplotlib.axes._subplots.AxesSubplot object at 0x000000000FA09860>],\n",
       "       [<matplotlib.axes._subplots.AxesSubplot object at 0x000000000FA30DD8>,\n",
       "        <matplotlib.axes._subplots.AxesSubplot object at 0x000000000FA633C8>,\n",
       "        <matplotlib.axes._subplots.AxesSubplot object at 0x000000000FA63400>]],\n",
       "      dtype=object)"
      ]
     },
     "execution_count": 25,
     "metadata": {},
     "output_type": "execute_result"
    },
    {
     "data": {
      "image/png": "[encoded data removed]",
      "text/plain": [
       "<Figure size 1440x1440 with 9 Axes>"
      ]
     },
     "metadata": {
      "needs_background": "light"
     },
     "output_type": "display_data"
    }
   ],
   "source": [
    "df.hist(edgecolor=\"red\",linewidth=1.5,figsize=(20,20))"
   ]
  },
  {
   "cell_type": "markdown",
   "metadata": {},
   "source": [
    "Thier are some skewsness is present in columns like SibSp,Parch,Fare,Embarked  we need to remove the skewness"
   ]
  },
  {
   "cell_type": "code",
   "execution_count": 26,
   "metadata": {},
   "outputs": [
    {
     "data": {
      "text/plain": [
       "Survived       AxesSubplot(0.125,0.536818;0.168478x0.343182)\n",
       "Pclass      AxesSubplot(0.327174,0.536818;0.168478x0.343182)\n",
       "Sex         AxesSubplot(0.529348,0.536818;0.168478x0.343182)\n",
       "Age         AxesSubplot(0.731522,0.536818;0.168478x0.343182)\n",
       "SibSp             AxesSubplot(0.125,0.125;0.168478x0.343182)\n",
       "Parch          AxesSubplot(0.327174,0.125;0.168478x0.343182)\n",
       "Fare           AxesSubplot(0.529348,0.125;0.168478x0.343182)\n",
       "Embarked       AxesSubplot(0.731522,0.125;0.168478x0.343182)\n",
       "dtype: object"
      ]
     },
     "execution_count": 26,
     "metadata": {},
     "output_type": "execute_result"
    },
    {
     "data": {
      "image/png": "[encoded data removed]",
      "text/plain": [
       "<Figure size 1440x1440 with 8 Axes>"
      ]
     },
     "metadata": {
      "needs_background": "light"
     },
     "output_type": "display_data"
    }
   ],
   "source": [
    "#checking outliers\n",
    "df.plot(kind=\"box\", subplots=True, layout=(2,4),figsize=(20,20))"
   ]
  },
  {
   "cell_type": "markdown",
   "metadata": {},
   "source": [
    "Removal of outliers"
   ]
  },
  {
   "cell_type": "code",
   "execution_count": 27,
   "metadata": {},
   "outputs": [
    {
     "data": {
      "text/plain": [
       "array([[0.78927234, 0.82737724, 0.73769513, ..., 0.47367361, 0.50244517,\n",
       "        0.58595414],\n",
       "       [1.2669898 , 1.56610693, 1.35557354, ..., 0.47367361, 0.78684529,\n",
       "        1.9423032 ],\n",
       "       [1.2669898 , 0.82737724, 1.35557354, ..., 0.47367361, 0.48885426,\n",
       "        0.58595414],\n",
       "       ...,\n",
       "       [0.78927234, 0.82737724, 1.35557354, ..., 2.00893337, 0.17626324,\n",
       "        0.58595414],\n",
       "       [1.2669898 , 1.56610693, 0.73769513, ..., 0.47367361, 0.04438104,\n",
       "        1.9423032 ],\n",
       "       [0.78927234, 0.82737724, 0.73769513, ..., 0.47367361, 0.49237783,\n",
       "        0.67817453]])"
      ]
     },
     "execution_count": 27,
     "metadata": {},
     "output_type": "execute_result"
    }
   ],
   "source": [
    "from scipy.stats import zscore\n",
    "z=np.abs(zscore(df))\n",
    "z"
   ]
  },
  {
   "cell_type": "code",
   "execution_count": 28,
   "metadata": {},
   "outputs": [
    {
     "name": "stdout",
     "output_type": "stream",
     "text": [
      "(array([ 13,  16,  25,  27,  50,  59,  68,  71,  86,  88,  96, 116, 118,\n",
      "       119, 159, 164, 167, 171, 180, 182, 201, 233, 258, 261, 266, 278,\n",
      "       299, 311, 324, 341, 360, 377, 380, 386, 437, 438, 438, 480, 493,\n",
      "       527, 541, 542, 557, 567, 610, 630, 638, 672, 678, 679, 683, 686,\n",
      "       689, 700, 716, 730, 736, 737, 742, 745, 774, 779, 787, 792, 813,\n",
      "       824, 846, 850, 851, 858, 863, 885], dtype=int64), array([5, 4, 5, 6, 4, 4, 4, 4, 5, 6, 3, 3, 6, 4, 4, 4, 5, 4, 4, 4, 4, 4,\n",
      "       6, 4, 4, 4, 6, 6, 4, 6, 5, 6, 6, 4, 5, 5, 6, 4, 3, 6, 4, 4, 6, 5,\n",
      "       5, 3, 5, 3, 5, 6, 4, 4, 6, 6, 6, 6, 5, 6, 6, 3, 5, 6, 4, 4, 4, 4,\n",
      "       4, 4, 3, 5, 4, 5], dtype=int64))\n"
     ]
    }
   ],
   "source": [
    "print(np.where(z>3))"
   ]
  },
  {
   "cell_type": "code",
   "execution_count": 29,
   "metadata": {},
   "outputs": [
    {
     "name": "stdout",
     "output_type": "stream",
     "text": [
      "<class 'pandas.core.frame.DataFrame'>\n",
      "Int64Index: 820 entries, 0 to 890\n",
      "Data columns (total 8 columns):\n",
      "Survived    820 non-null int64\n",
      "Pclass      820 non-null int64\n",
      "Sex         820 non-null int32\n",
      "Age         820 non-null float64\n",
      "SibSp       820 non-null int64\n",
      "Parch       820 non-null int64\n",
      "Fare        820 non-null float64\n",
      "Embarked    820 non-null int32\n",
      "dtypes: float64(2), int32(2), int64(4)\n",
      "memory usage: 51.2 KB\n",
      "using z score percentage of outlier removed: 8.658536585365853\n"
     ]
    }
   ],
   "source": [
    "df_new=df[(z<3).all(axis=1)]\n",
    "df_new.info()\n",
    "percentage_ofouliers=(71/820)*100\n",
    "\n",
    "print(\"using z score percentage of outlier removed:\",percentage_ofouliers)"
   ]
  },
  {
   "cell_type": "code",
   "execution_count": 30,
   "metadata": {},
   "outputs": [
    {
     "name": "stdout",
     "output_type": "stream",
     "text": [
      "Survived     1.0000\n",
      "Pclass       1.0000\n",
      "Sex          1.0000\n",
      "Age         13.0000\n",
      "SibSp        1.0000\n",
      "Parch        0.0000\n",
      "Fare        23.0896\n",
      "Embarked     1.0000\n",
      "dtype: float64\n"
     ]
    }
   ],
   "source": [
    "#lets check with IQR method\n",
    "Q1=df.quantile(0.25)\n",
    "Q3=df.quantile(0.75)\n",
    "IQR=Q3-Q1\n",
    "print(IQR)"
   ]
  },
  {
   "cell_type": "code",
   "execution_count": 31,
   "metadata": {},
   "outputs": [
    {
     "name": "stdout",
     "output_type": "stream",
     "text": [
      "(577, 8)\n",
      "38.29268292682927\n"
     ]
    }
   ],
   "source": [
    "df_new1=df[~((df<(Q1-1.5 *IQR))|(df>(Q3+1.5*IQR))).any(axis=1)]\n",
    "print(df_new1.shape)\n",
    "percentage_ofouliers=(314/820)*100\n",
    "print(percentage_ofouliers)"
   ]
  },
  {
   "cell_type": "markdown",
   "metadata": {},
   "source": [
    "Using the z score method the outlier is 8.65% and using IQR method the outliers are 38.29% which is quite high, so we will use z score removl method"
   ]
  },
  {
   "cell_type": "code",
   "execution_count": 74,
   "metadata": {},
   "outputs": [],
   "source": [
    "features = [\"Pclass\",\"Sex\",\"Age\", \"SibSp\",\"Parch\", \"Fare\",\"Embarked\"]\n",
    "x=df_new[features]\n",
    "y=df_new[\"Survived\"]"
   ]
  },
  {
   "cell_type": "code",
   "execution_count": 75,
   "metadata": {},
   "outputs": [
    {
     "data": {
      "text/html": [
       "<div>\n",
       "<style scoped>\n",
       "    .dataframe tbody tr th:only-of-type {\n",
       "        vertical-align: middle;\n",
       "    }\n",
       "\n",
       "    .dataframe tbody tr th {\n",
       "        vertical-align: top;\n",
       "    }\n",
       "\n",
       "    .dataframe thead th {\n",
       "        text-align: right;\n",
       "    }\n",
       "</style>\n",
       "<table border=\"1\" class=\"dataframe\">\n",
       "  <thead>\n",
       "    <tr style=\"text-align: right;\">\n",
       "      <th></th>\n",
       "      <th>Pclass</th>\n",
       "      <th>Sex</th>\n",
       "      <th>Age</th>\n",
       "      <th>SibSp</th>\n",
       "      <th>Parch</th>\n",
       "      <th>Fare</th>\n",
       "      <th>Embarked</th>\n",
       "    </tr>\n",
       "  </thead>\n",
       "  <tbody>\n",
       "    <tr>\n",
       "      <th>0</th>\n",
       "      <td>3</td>\n",
       "      <td>1</td>\n",
       "      <td>22.0</td>\n",
       "      <td>1</td>\n",
       "      <td>0</td>\n",
       "      <td>7.2500</td>\n",
       "      <td>2</td>\n",
       "    </tr>\n",
       "    <tr>\n",
       "      <th>1</th>\n",
       "      <td>1</td>\n",
       "      <td>0</td>\n",
       "      <td>38.0</td>\n",
       "      <td>1</td>\n",
       "      <td>0</td>\n",
       "      <td>71.2833</td>\n",
       "      <td>0</td>\n",
       "    </tr>\n",
       "    <tr>\n",
       "      <th>2</th>\n",
       "      <td>3</td>\n",
       "      <td>0</td>\n",
       "      <td>26.0</td>\n",
       "      <td>0</td>\n",
       "      <td>0</td>\n",
       "      <td>7.9250</td>\n",
       "      <td>2</td>\n",
       "    </tr>\n",
       "    <tr>\n",
       "      <th>3</th>\n",
       "      <td>1</td>\n",
       "      <td>0</td>\n",
       "      <td>35.0</td>\n",
       "      <td>1</td>\n",
       "      <td>0</td>\n",
       "      <td>53.1000</td>\n",
       "      <td>2</td>\n",
       "    </tr>\n",
       "    <tr>\n",
       "      <th>4</th>\n",
       "      <td>3</td>\n",
       "      <td>1</td>\n",
       "      <td>35.0</td>\n",
       "      <td>0</td>\n",
       "      <td>0</td>\n",
       "      <td>8.0500</td>\n",
       "      <td>2</td>\n",
       "    </tr>\n",
       "    <tr>\n",
       "      <th>5</th>\n",
       "      <td>3</td>\n",
       "      <td>1</td>\n",
       "      <td>28.0</td>\n",
       "      <td>0</td>\n",
       "      <td>0</td>\n",
       "      <td>8.4583</td>\n",
       "      <td>1</td>\n",
       "    </tr>\n",
       "    <tr>\n",
       "      <th>6</th>\n",
       "      <td>1</td>\n",
       "      <td>1</td>\n",
       "      <td>54.0</td>\n",
       "      <td>0</td>\n",
       "      <td>0</td>\n",
       "      <td>51.8625</td>\n",
       "      <td>2</td>\n",
       "    </tr>\n",
       "    <tr>\n",
       "      <th>7</th>\n",
       "      <td>3</td>\n",
       "      <td>1</td>\n",
       "      <td>2.0</td>\n",
       "      <td>3</td>\n",
       "      <td>1</td>\n",
       "      <td>21.0750</td>\n",
       "      <td>2</td>\n",
       "    </tr>\n",
       "    <tr>\n",
       "      <th>8</th>\n",
       "      <td>3</td>\n",
       "      <td>0</td>\n",
       "      <td>27.0</td>\n",
       "      <td>0</td>\n",
       "      <td>2</td>\n",
       "      <td>11.1333</td>\n",
       "      <td>2</td>\n",
       "    </tr>\n",
       "    <tr>\n",
       "      <th>9</th>\n",
       "      <td>2</td>\n",
       "      <td>0</td>\n",
       "      <td>14.0</td>\n",
       "      <td>1</td>\n",
       "      <td>0</td>\n",
       "      <td>30.0708</td>\n",
       "      <td>0</td>\n",
       "    </tr>\n",
       "    <tr>\n",
       "      <th>10</th>\n",
       "      <td>3</td>\n",
       "      <td>0</td>\n",
       "      <td>4.0</td>\n",
       "      <td>1</td>\n",
       "      <td>1</td>\n",
       "      <td>16.7000</td>\n",
       "      <td>2</td>\n",
       "    </tr>\n",
       "    <tr>\n",
       "      <th>11</th>\n",
       "      <td>1</td>\n",
       "      <td>0</td>\n",
       "      <td>58.0</td>\n",
       "      <td>0</td>\n",
       "      <td>0</td>\n",
       "      <td>26.5500</td>\n",
       "      <td>2</td>\n",
       "    </tr>\n",
       "    <tr>\n",
       "      <th>12</th>\n",
       "      <td>3</td>\n",
       "      <td>1</td>\n",
       "      <td>20.0</td>\n",
       "      <td>0</td>\n",
       "      <td>0</td>\n",
       "      <td>8.0500</td>\n",
       "      <td>2</td>\n",
       "    </tr>\n",
       "    <tr>\n",
       "      <th>14</th>\n",
       "      <td>3</td>\n",
       "      <td>0</td>\n",
       "      <td>14.0</td>\n",
       "      <td>0</td>\n",
       "      <td>0</td>\n",
       "      <td>7.8542</td>\n",
       "      <td>2</td>\n",
       "    </tr>\n",
       "    <tr>\n",
       "      <th>15</th>\n",
       "      <td>2</td>\n",
       "      <td>0</td>\n",
       "      <td>55.0</td>\n",
       "      <td>0</td>\n",
       "      <td>0</td>\n",
       "      <td>16.0000</td>\n",
       "      <td>2</td>\n",
       "    </tr>\n",
       "    <tr>\n",
       "      <th>17</th>\n",
       "      <td>2</td>\n",
       "      <td>1</td>\n",
       "      <td>28.0</td>\n",
       "      <td>0</td>\n",
       "      <td>0</td>\n",
       "      <td>13.0000</td>\n",
       "      <td>2</td>\n",
       "    </tr>\n",
       "    <tr>\n",
       "      <th>18</th>\n",
       "      <td>3</td>\n",
       "      <td>0</td>\n",
       "      <td>31.0</td>\n",
       "      <td>1</td>\n",
       "      <td>0</td>\n",
       "      <td>18.0000</td>\n",
       "      <td>2</td>\n",
       "    </tr>\n",
       "    <tr>\n",
       "      <th>19</th>\n",
       "      <td>3</td>\n",
       "      <td>0</td>\n",
       "      <td>28.0</td>\n",
       "      <td>0</td>\n",
       "      <td>0</td>\n",
       "      <td>7.2250</td>\n",
       "      <td>0</td>\n",
       "    </tr>\n",
       "    <tr>\n",
       "      <th>20</th>\n",
       "      <td>2</td>\n",
       "      <td>1</td>\n",
       "      <td>35.0</td>\n",
       "      <td>0</td>\n",
       "      <td>0</td>\n",
       "      <td>26.0000</td>\n",
       "      <td>2</td>\n",
       "    </tr>\n",
       "    <tr>\n",
       "      <th>21</th>\n",
       "      <td>2</td>\n",
       "      <td>1</td>\n",
       "      <td>34.0</td>\n",
       "      <td>0</td>\n",
       "      <td>0</td>\n",
       "      <td>13.0000</td>\n",
       "      <td>2</td>\n",
       "    </tr>\n",
       "    <tr>\n",
       "      <th>22</th>\n",
       "      <td>3</td>\n",
       "      <td>0</td>\n",
       "      <td>15.0</td>\n",
       "      <td>0</td>\n",
       "      <td>0</td>\n",
       "      <td>8.0292</td>\n",
       "      <td>1</td>\n",
       "    </tr>\n",
       "    <tr>\n",
       "      <th>23</th>\n",
       "      <td>1</td>\n",
       "      <td>1</td>\n",
       "      <td>28.0</td>\n",
       "      <td>0</td>\n",
       "      <td>0</td>\n",
       "      <td>35.5000</td>\n",
       "      <td>2</td>\n",
       "    </tr>\n",
       "    <tr>\n",
       "      <th>24</th>\n",
       "      <td>3</td>\n",
       "      <td>0</td>\n",
       "      <td>8.0</td>\n",
       "      <td>3</td>\n",
       "      <td>1</td>\n",
       "      <td>21.0750</td>\n",
       "      <td>2</td>\n",
       "    </tr>\n",
       "    <tr>\n",
       "      <th>26</th>\n",
       "      <td>3</td>\n",
       "      <td>1</td>\n",
       "      <td>28.0</td>\n",
       "      <td>0</td>\n",
       "      <td>0</td>\n",
       "      <td>7.2250</td>\n",
       "      <td>0</td>\n",
       "    </tr>\n",
       "    <tr>\n",
       "      <th>28</th>\n",
       "      <td>3</td>\n",
       "      <td>0</td>\n",
       "      <td>28.0</td>\n",
       "      <td>0</td>\n",
       "      <td>0</td>\n",
       "      <td>7.8792</td>\n",
       "      <td>1</td>\n",
       "    </tr>\n",
       "    <tr>\n",
       "      <th>29</th>\n",
       "      <td>3</td>\n",
       "      <td>1</td>\n",
       "      <td>28.0</td>\n",
       "      <td>0</td>\n",
       "      <td>0</td>\n",
       "      <td>7.8958</td>\n",
       "      <td>2</td>\n",
       "    </tr>\n",
       "    <tr>\n",
       "      <th>30</th>\n",
       "      <td>1</td>\n",
       "      <td>1</td>\n",
       "      <td>40.0</td>\n",
       "      <td>0</td>\n",
       "      <td>0</td>\n",
       "      <td>27.7208</td>\n",
       "      <td>0</td>\n",
       "    </tr>\n",
       "    <tr>\n",
       "      <th>31</th>\n",
       "      <td>1</td>\n",
       "      <td>0</td>\n",
       "      <td>28.0</td>\n",
       "      <td>1</td>\n",
       "      <td>0</td>\n",
       "      <td>146.5208</td>\n",
       "      <td>0</td>\n",
       "    </tr>\n",
       "    <tr>\n",
       "      <th>32</th>\n",
       "      <td>3</td>\n",
       "      <td>0</td>\n",
       "      <td>28.0</td>\n",
       "      <td>0</td>\n",
       "      <td>0</td>\n",
       "      <td>7.7500</td>\n",
       "      <td>1</td>\n",
       "    </tr>\n",
       "    <tr>\n",
       "      <th>33</th>\n",
       "      <td>2</td>\n",
       "      <td>1</td>\n",
       "      <td>66.0</td>\n",
       "      <td>0</td>\n",
       "      <td>0</td>\n",
       "      <td>10.5000</td>\n",
       "      <td>2</td>\n",
       "    </tr>\n",
       "    <tr>\n",
       "      <th>...</th>\n",
       "      <td>...</td>\n",
       "      <td>...</td>\n",
       "      <td>...</td>\n",
       "      <td>...</td>\n",
       "      <td>...</td>\n",
       "      <td>...</td>\n",
       "      <td>...</td>\n",
       "    </tr>\n",
       "    <tr>\n",
       "      <th>859</th>\n",
       "      <td>3</td>\n",
       "      <td>1</td>\n",
       "      <td>28.0</td>\n",
       "      <td>0</td>\n",
       "      <td>0</td>\n",
       "      <td>7.2292</td>\n",
       "      <td>0</td>\n",
       "    </tr>\n",
       "    <tr>\n",
       "      <th>860</th>\n",
       "      <td>3</td>\n",
       "      <td>1</td>\n",
       "      <td>41.0</td>\n",
       "      <td>2</td>\n",
       "      <td>0</td>\n",
       "      <td>14.1083</td>\n",
       "      <td>2</td>\n",
       "    </tr>\n",
       "    <tr>\n",
       "      <th>861</th>\n",
       "      <td>2</td>\n",
       "      <td>1</td>\n",
       "      <td>21.0</td>\n",
       "      <td>1</td>\n",
       "      <td>0</td>\n",
       "      <td>11.5000</td>\n",
       "      <td>2</td>\n",
       "    </tr>\n",
       "    <tr>\n",
       "      <th>862</th>\n",
       "      <td>1</td>\n",
       "      <td>0</td>\n",
       "      <td>48.0</td>\n",
       "      <td>0</td>\n",
       "      <td>0</td>\n",
       "      <td>25.9292</td>\n",
       "      <td>2</td>\n",
       "    </tr>\n",
       "    <tr>\n",
       "      <th>864</th>\n",
       "      <td>2</td>\n",
       "      <td>1</td>\n",
       "      <td>24.0</td>\n",
       "      <td>0</td>\n",
       "      <td>0</td>\n",
       "      <td>13.0000</td>\n",
       "      <td>2</td>\n",
       "    </tr>\n",
       "    <tr>\n",
       "      <th>865</th>\n",
       "      <td>2</td>\n",
       "      <td>0</td>\n",
       "      <td>42.0</td>\n",
       "      <td>0</td>\n",
       "      <td>0</td>\n",
       "      <td>13.0000</td>\n",
       "      <td>2</td>\n",
       "    </tr>\n",
       "    <tr>\n",
       "      <th>866</th>\n",
       "      <td>2</td>\n",
       "      <td>0</td>\n",
       "      <td>27.0</td>\n",
       "      <td>1</td>\n",
       "      <td>0</td>\n",
       "      <td>13.8583</td>\n",
       "      <td>0</td>\n",
       "    </tr>\n",
       "    <tr>\n",
       "      <th>867</th>\n",
       "      <td>1</td>\n",
       "      <td>1</td>\n",
       "      <td>31.0</td>\n",
       "      <td>0</td>\n",
       "      <td>0</td>\n",
       "      <td>50.4958</td>\n",
       "      <td>2</td>\n",
       "    </tr>\n",
       "    <tr>\n",
       "      <th>868</th>\n",
       "      <td>3</td>\n",
       "      <td>1</td>\n",
       "      <td>28.0</td>\n",
       "      <td>0</td>\n",
       "      <td>0</td>\n",
       "      <td>9.5000</td>\n",
       "      <td>2</td>\n",
       "    </tr>\n",
       "    <tr>\n",
       "      <th>869</th>\n",
       "      <td>3</td>\n",
       "      <td>1</td>\n",
       "      <td>4.0</td>\n",
       "      <td>1</td>\n",
       "      <td>1</td>\n",
       "      <td>11.1333</td>\n",
       "      <td>2</td>\n",
       "    </tr>\n",
       "    <tr>\n",
       "      <th>870</th>\n",
       "      <td>3</td>\n",
       "      <td>1</td>\n",
       "      <td>26.0</td>\n",
       "      <td>0</td>\n",
       "      <td>0</td>\n",
       "      <td>7.8958</td>\n",
       "      <td>2</td>\n",
       "    </tr>\n",
       "    <tr>\n",
       "      <th>871</th>\n",
       "      <td>1</td>\n",
       "      <td>0</td>\n",
       "      <td>47.0</td>\n",
       "      <td>1</td>\n",
       "      <td>1</td>\n",
       "      <td>52.5542</td>\n",
       "      <td>2</td>\n",
       "    </tr>\n",
       "    <tr>\n",
       "      <th>872</th>\n",
       "      <td>1</td>\n",
       "      <td>1</td>\n",
       "      <td>33.0</td>\n",
       "      <td>0</td>\n",
       "      <td>0</td>\n",
       "      <td>5.0000</td>\n",
       "      <td>2</td>\n",
       "    </tr>\n",
       "    <tr>\n",
       "      <th>873</th>\n",
       "      <td>3</td>\n",
       "      <td>1</td>\n",
       "      <td>47.0</td>\n",
       "      <td>0</td>\n",
       "      <td>0</td>\n",
       "      <td>9.0000</td>\n",
       "      <td>2</td>\n",
       "    </tr>\n",
       "    <tr>\n",
       "      <th>874</th>\n",
       "      <td>2</td>\n",
       "      <td>0</td>\n",
       "      <td>28.0</td>\n",
       "      <td>1</td>\n",
       "      <td>0</td>\n",
       "      <td>24.0000</td>\n",
       "      <td>0</td>\n",
       "    </tr>\n",
       "    <tr>\n",
       "      <th>875</th>\n",
       "      <td>3</td>\n",
       "      <td>0</td>\n",
       "      <td>15.0</td>\n",
       "      <td>0</td>\n",
       "      <td>0</td>\n",
       "      <td>7.2250</td>\n",
       "      <td>0</td>\n",
       "    </tr>\n",
       "    <tr>\n",
       "      <th>876</th>\n",
       "      <td>3</td>\n",
       "      <td>1</td>\n",
       "      <td>20.0</td>\n",
       "      <td>0</td>\n",
       "      <td>0</td>\n",
       "      <td>9.8458</td>\n",
       "      <td>2</td>\n",
       "    </tr>\n",
       "    <tr>\n",
       "      <th>877</th>\n",
       "      <td>3</td>\n",
       "      <td>1</td>\n",
       "      <td>19.0</td>\n",
       "      <td>0</td>\n",
       "      <td>0</td>\n",
       "      <td>7.8958</td>\n",
       "      <td>2</td>\n",
       "    </tr>\n",
       "    <tr>\n",
       "      <th>878</th>\n",
       "      <td>3</td>\n",
       "      <td>1</td>\n",
       "      <td>28.0</td>\n",
       "      <td>0</td>\n",
       "      <td>0</td>\n",
       "      <td>7.8958</td>\n",
       "      <td>2</td>\n",
       "    </tr>\n",
       "    <tr>\n",
       "      <th>879</th>\n",
       "      <td>1</td>\n",
       "      <td>0</td>\n",
       "      <td>56.0</td>\n",
       "      <td>0</td>\n",
       "      <td>1</td>\n",
       "      <td>83.1583</td>\n",
       "      <td>0</td>\n",
       "    </tr>\n",
       "    <tr>\n",
       "      <th>880</th>\n",
       "      <td>2</td>\n",
       "      <td>0</td>\n",
       "      <td>25.0</td>\n",
       "      <td>0</td>\n",
       "      <td>1</td>\n",
       "      <td>26.0000</td>\n",
       "      <td>2</td>\n",
       "    </tr>\n",
       "    <tr>\n",
       "      <th>881</th>\n",
       "      <td>3</td>\n",
       "      <td>1</td>\n",
       "      <td>33.0</td>\n",
       "      <td>0</td>\n",
       "      <td>0</td>\n",
       "      <td>7.8958</td>\n",
       "      <td>2</td>\n",
       "    </tr>\n",
       "    <tr>\n",
       "      <th>882</th>\n",
       "      <td>3</td>\n",
       "      <td>0</td>\n",
       "      <td>22.0</td>\n",
       "      <td>0</td>\n",
       "      <td>0</td>\n",
       "      <td>10.5167</td>\n",
       "      <td>2</td>\n",
       "    </tr>\n",
       "    <tr>\n",
       "      <th>883</th>\n",
       "      <td>2</td>\n",
       "      <td>1</td>\n",
       "      <td>28.0</td>\n",
       "      <td>0</td>\n",
       "      <td>0</td>\n",
       "      <td>10.5000</td>\n",
       "      <td>2</td>\n",
       "    </tr>\n",
       "    <tr>\n",
       "      <th>884</th>\n",
       "      <td>3</td>\n",
       "      <td>1</td>\n",
       "      <td>25.0</td>\n",
       "      <td>0</td>\n",
       "      <td>0</td>\n",
       "      <td>7.0500</td>\n",
       "      <td>2</td>\n",
       "    </tr>\n",
       "    <tr>\n",
       "      <th>886</th>\n",
       "      <td>2</td>\n",
       "      <td>1</td>\n",
       "      <td>27.0</td>\n",
       "      <td>0</td>\n",
       "      <td>0</td>\n",
       "      <td>13.0000</td>\n",
       "      <td>2</td>\n",
       "    </tr>\n",
       "    <tr>\n",
       "      <th>887</th>\n",
       "      <td>1</td>\n",
       "      <td>0</td>\n",
       "      <td>19.0</td>\n",
       "      <td>0</td>\n",
       "      <td>0</td>\n",
       "      <td>30.0000</td>\n",
       "      <td>2</td>\n",
       "    </tr>\n",
       "    <tr>\n",
       "      <th>888</th>\n",
       "      <td>3</td>\n",
       "      <td>0</td>\n",
       "      <td>28.0</td>\n",
       "      <td>1</td>\n",
       "      <td>2</td>\n",
       "      <td>23.4500</td>\n",
       "      <td>2</td>\n",
       "    </tr>\n",
       "    <tr>\n",
       "      <th>889</th>\n",
       "      <td>1</td>\n",
       "      <td>1</td>\n",
       "      <td>26.0</td>\n",
       "      <td>0</td>\n",
       "      <td>0</td>\n",
       "      <td>30.0000</td>\n",
       "      <td>0</td>\n",
       "    </tr>\n",
       "    <tr>\n",
       "      <th>890</th>\n",
       "      <td>3</td>\n",
       "      <td>1</td>\n",
       "      <td>32.0</td>\n",
       "      <td>0</td>\n",
       "      <td>0</td>\n",
       "      <td>7.7500</td>\n",
       "      <td>1</td>\n",
       "    </tr>\n",
       "  </tbody>\n",
       "</table>\n",
       "<p>820 rows × 7 columns</p>\n",
       "</div>"
      ],
      "text/plain": [
       "     Pclass  Sex   Age  SibSp  Parch      Fare  Embarked\n",
       "0         3    1  22.0      1      0    7.2500         2\n",
       "1         1    0  38.0      1      0   71.2833         0\n",
       "2         3    0  26.0      0      0    7.9250         2\n",
       "3         1    0  35.0      1      0   53.1000         2\n",
       "4         3    1  35.0      0      0    8.0500         2\n",
       "5         3    1  28.0      0      0    8.4583         1\n",
       "6         1    1  54.0      0      0   51.8625         2\n",
       "7         3    1   2.0      3      1   21.0750         2\n",
       "8         3    0  27.0      0      2   11.1333         2\n",
       "9         2    0  14.0      1      0   30.0708         0\n",
       "10        3    0   4.0      1      1   16.7000         2\n",
       "11        1    0  58.0      0      0   26.5500         2\n",
       "12        3    1  20.0      0      0    8.0500         2\n",
       "14        3    0  14.0      0      0    7.8542         2\n",
       "15        2    0  55.0      0      0   16.0000         2\n",
       "17        2    1  28.0      0      0   13.0000         2\n",
       "18        3    0  31.0      1      0   18.0000         2\n",
       "19        3    0  28.0      0      0    7.2250         0\n",
       "20        2    1  35.0      0      0   26.0000         2\n",
       "21        2    1  34.0      0      0   13.0000         2\n",
       "22        3    0  15.0      0      0    8.0292         1\n",
       "23        1    1  28.0      0      0   35.5000         2\n",
       "24        3    0   8.0      3      1   21.0750         2\n",
       "26        3    1  28.0      0      0    7.2250         0\n",
       "28        3    0  28.0      0      0    7.8792         1\n",
       "29        3    1  28.0      0      0    7.8958         2\n",
       "30        1    1  40.0      0      0   27.7208         0\n",
       "31        1    0  28.0      1      0  146.5208         0\n",
       "32        3    0  28.0      0      0    7.7500         1\n",
       "33        2    1  66.0      0      0   10.5000         2\n",
       "..      ...  ...   ...    ...    ...       ...       ...\n",
       "859       3    1  28.0      0      0    7.2292         0\n",
       "860       3    1  41.0      2      0   14.1083         2\n",
       "861       2    1  21.0      1      0   11.5000         2\n",
       "862       1    0  48.0      0      0   25.9292         2\n",
       "864       2    1  24.0      0      0   13.0000         2\n",
       "865       2    0  42.0      0      0   13.0000         2\n",
       "866       2    0  27.0      1      0   13.8583         0\n",
       "867       1    1  31.0      0      0   50.4958         2\n",
       "868       3    1  28.0      0      0    9.5000         2\n",
       "869       3    1   4.0      1      1   11.1333         2\n",
       "870       3    1  26.0      0      0    7.8958         2\n",
       "871       1    0  47.0      1      1   52.5542         2\n",
       "872       1    1  33.0      0      0    5.0000         2\n",
       "873       3    1  47.0      0      0    9.0000         2\n",
       "874       2    0  28.0      1      0   24.0000         0\n",
       "875       3    0  15.0      0      0    7.2250         0\n",
       "876       3    1  20.0      0      0    9.8458         2\n",
       "877       3    1  19.0      0      0    7.8958         2\n",
       "878       3    1  28.0      0      0    7.8958         2\n",
       "879       1    0  56.0      0      1   83.1583         0\n",
       "880       2    0  25.0      0      1   26.0000         2\n",
       "881       3    1  33.0      0      0    7.8958         2\n",
       "882       3    0  22.0      0      0   10.5167         2\n",
       "883       2    1  28.0      0      0   10.5000         2\n",
       "884       3    1  25.0      0      0    7.0500         2\n",
       "886       2    1  27.0      0      0   13.0000         2\n",
       "887       1    0  19.0      0      0   30.0000         2\n",
       "888       3    0  28.0      1      2   23.4500         2\n",
       "889       1    1  26.0      0      0   30.0000         0\n",
       "890       3    1  32.0      0      0    7.7500         1\n",
       "\n",
       "[820 rows x 7 columns]"
      ]
     },
     "execution_count": 75,
     "metadata": {},
     "output_type": "execute_result"
    }
   ],
   "source": [
    "x"
   ]
  },
  {
   "cell_type": "code",
   "execution_count": 76,
   "metadata": {},
   "outputs": [
    {
     "data": {
      "text/plain": [
       "(820,)"
      ]
     },
     "execution_count": 76,
     "metadata": {},
     "output_type": "execute_result"
    }
   ],
   "source": [
    "y.shape"
   ]
  },
  {
   "cell_type": "code",
   "execution_count": 86,
   "metadata": {},
   "outputs": [
    {
     "data": {
      "text/plain": [
       "array([[-0.8 ],\n",
       "       [ 1.25],\n",
       "       [ 1.25],\n",
       "       [ 1.25],\n",
       "       [-0.8 ],\n",
       "       [-0.8 ],\n",
       "       [-0.8 ],\n",
       "       [-0.8 ],\n",
       "       [ 1.25],\n",
       "       [ 1.25],\n",
       "       [ 1.25],\n",
       "       [ 1.25],\n",
       "       [-0.8 ],\n",
       "       [-0.8 ],\n",
       "       [ 1.25],\n",
       "       [ 1.25],\n",
       "       [-0.8 ],\n",
       "       [ 1.25],\n",
       "       [-0.8 ],\n",
       "       [ 1.25],\n",
       "       [ 1.25],\n",
       "       [ 1.25],\n",
       "       [-0.8 ],\n",
       "       [-0.8 ],\n",
       "       [ 1.25],\n",
       "       [-0.8 ],\n",
       "       [-0.8 ],\n",
       "       [ 1.25],\n",
       "       [ 1.25],\n",
       "       [-0.8 ],\n",
       "       [-0.8 ],\n",
       "       [-0.8 ],\n",
       "       [ 1.25],\n",
       "       [-0.8 ],\n",
       "       [-0.8 ],\n",
       "       [ 1.25],\n",
       "       [-0.8 ],\n",
       "       [-0.8 ],\n",
       "       [-0.8 ],\n",
       "       [ 1.25],\n",
       "       [ 1.25],\n",
       "       [-0.8 ],\n",
       "       [-0.8 ],\n",
       "       [ 1.25],\n",
       "       [-0.8 ],\n",
       "       [-0.8 ],\n",
       "       [-0.8 ],\n",
       "       [ 1.25],\n",
       "       [ 1.25],\n",
       "       [-0.8 ],\n",
       "       [ 1.25],\n",
       "       [ 1.25],\n",
       "       [-0.8 ],\n",
       "       [ 1.25],\n",
       "       [-0.8 ],\n",
       "       [ 1.25],\n",
       "       [-0.8 ],\n",
       "       [-0.8 ],\n",
       "       [-0.8 ],\n",
       "       [ 1.25],\n",
       "       [ 1.25],\n",
       "       [-0.8 ],\n",
       "       [-0.8 ],\n",
       "       [-0.8 ],\n",
       "       [-0.8 ],\n",
       "       [-0.8 ],\n",
       "       [ 1.25],\n",
       "       [-0.8 ],\n",
       "       [-0.8 ],\n",
       "       [-0.8 ],\n",
       "       [ 1.25],\n",
       "       [ 1.25],\n",
       "       [-0.8 ],\n",
       "       [ 1.25],\n",
       "       [ 1.25],\n",
       "       [-0.8 ],\n",
       "       [ 1.25],\n",
       "       [ 1.25],\n",
       "       [-0.8 ],\n",
       "       [-0.8 ],\n",
       "       [-0.8 ],\n",
       "       [-0.8 ],\n",
       "       [-0.8 ],\n",
       "       [-0.8 ],\n",
       "       [-0.8 ],\n",
       "       [-0.8 ],\n",
       "       [ 1.25],\n",
       "       [ 1.25],\n",
       "       [-0.8 ],\n",
       "       [-0.8 ],\n",
       "       [-0.8 ],\n",
       "       [-0.8 ],\n",
       "       [-0.8 ],\n",
       "       [-0.8 ],\n",
       "       [-0.8 ],\n",
       "       [ 1.25],\n",
       "       [ 1.25],\n",
       "       [-0.8 ],\n",
       "       [ 1.25],\n",
       "       [-0.8 ],\n",
       "       [-0.8 ],\n",
       "       [-0.8 ],\n",
       "       [-0.8 ],\n",
       "       [-0.8 ],\n",
       "       [-0.8 ],\n",
       "       [-0.8 ],\n",
       "       [-0.8 ],\n",
       "       [-0.8 ],\n",
       "       [-0.8 ],\n",
       "       [ 1.25],\n",
       "       [-0.8 ],\n",
       "       [ 1.25],\n",
       "       [-0.8 ],\n",
       "       [ 1.25],\n",
       "       [ 1.25],\n",
       "       [-0.8 ],\n",
       "       [-0.8 ],\n",
       "       [-0.8 ],\n",
       "       [-0.8 ],\n",
       "       [ 1.25],\n",
       "       [-0.8 ],\n",
       "       [-0.8 ],\n",
       "       [ 1.25],\n",
       "       [-0.8 ],\n",
       "       [-0.8 ],\n",
       "       [-0.8 ],\n",
       "       [-0.8 ],\n",
       "       [ 1.25],\n",
       "       [ 1.25],\n",
       "       [-0.8 ],\n",
       "       [-0.8 ],\n",
       "       [-0.8 ],\n",
       "       [ 1.25],\n",
       "       [-0.8 ],\n",
       "       [-0.8 ],\n",
       "       [-0.8 ],\n",
       "       [-0.8 ],\n",
       "       [ 1.25],\n",
       "       [-0.8 ],\n",
       "       [-0.8 ],\n",
       "       [-0.8 ],\n",
       "       [-0.8 ],\n",
       "       [ 1.25],\n",
       "       [-0.8 ],\n",
       "       [-0.8 ],\n",
       "       [-0.8 ],\n",
       "       [ 1.25],\n",
       "       [-0.8 ],\n",
       "       [-0.8 ],\n",
       "       [ 1.25],\n",
       "       [ 1.25],\n",
       "       [-0.8 ],\n",
       "       [-0.8 ],\n",
       "       [-0.8 ],\n",
       "       [ 1.25],\n",
       "       [-0.8 ],\n",
       "       [-0.8 ],\n",
       "       [-0.8 ],\n",
       "       [-0.8 ],\n",
       "       [-0.8 ],\n",
       "       [-0.8 ],\n",
       "       [-0.8 ],\n",
       "       [-0.8 ],\n",
       "       [ 1.25],\n",
       "       [ 1.25],\n",
       "       [-0.8 ],\n",
       "       [ 1.25],\n",
       "       [ 1.25],\n",
       "       [-0.8 ],\n",
       "       [-0.8 ],\n",
       "       [ 1.25],\n",
       "       [-0.8 ],\n",
       "       [ 1.25],\n",
       "       [ 1.25],\n",
       "       [ 1.25],\n",
       "       [ 1.25],\n",
       "       [-0.8 ],\n",
       "       [-0.8 ],\n",
       "       [ 1.25],\n",
       "       [-0.8 ],\n",
       "       [-0.8 ],\n",
       "       [-0.8 ],\n",
       "       [-0.8 ],\n",
       "       [ 1.25],\n",
       "       [-0.8 ],\n",
       "       [-0.8 ],\n",
       "       [ 1.25],\n",
       "       [ 1.25],\n",
       "       [ 1.25],\n",
       "       [-0.8 ],\n",
       "       [ 1.25],\n",
       "       [-0.8 ],\n",
       "       [-0.8 ],\n",
       "       [-0.8 ],\n",
       "       [ 1.25],\n",
       "       [ 1.25],\n",
       "       [-0.8 ],\n",
       "       [ 1.25],\n",
       "       [-0.8 ],\n",
       "       [ 1.25],\n",
       "       [-0.8 ],\n",
       "       [-0.8 ],\n",
       "       [-0.8 ],\n",
       "       [ 1.25],\n",
       "       [-0.8 ],\n",
       "       [ 1.25],\n",
       "       [-0.8 ],\n",
       "       [-0.8 ],\n",
       "       [-0.8 ],\n",
       "       [ 1.25],\n",
       "       [-0.8 ],\n",
       "       [-0.8 ],\n",
       "       [-0.8 ],\n",
       "       [-0.8 ],\n",
       "       [-0.8 ],\n",
       "       [ 1.25],\n",
       "       [-0.8 ],\n",
       "       [-0.8 ],\n",
       "       [-0.8 ],\n",
       "       [ 1.25],\n",
       "       [-0.8 ],\n",
       "       [-0.8 ],\n",
       "       [-0.8 ],\n",
       "       [-0.8 ],\n",
       "       [-0.8 ],\n",
       "       [ 1.25],\n",
       "       [ 1.25],\n",
       "       [-0.8 ],\n",
       "       [-0.8 ],\n",
       "       [-0.8 ],\n",
       "       [-0.8 ],\n",
       "       [-0.8 ],\n",
       "       [-0.8 ],\n",
       "       [ 1.25],\n",
       "       [ 1.25],\n",
       "       [ 1.25],\n",
       "       [ 1.25],\n",
       "       [-0.8 ],\n",
       "       [-0.8 ],\n",
       "       [-0.8 ],\n",
       "       [-0.8 ],\n",
       "       [-0.8 ],\n",
       "       [ 1.25],\n",
       "       [ 1.25],\n",
       "       [ 1.25],\n",
       "       [-0.8 ],\n",
       "       [ 1.25],\n",
       "       [ 1.25],\n",
       "       [-0.8 ],\n",
       "       [ 1.25],\n",
       "       [ 1.25],\n",
       "       [-0.8 ],\n",
       "       [-0.8 ],\n",
       "       [ 1.25],\n",
       "       [-0.8 ],\n",
       "       [-0.8 ],\n",
       "       [-0.8 ],\n",
       "       [ 1.25],\n",
       "       [-0.8 ],\n",
       "       [-0.8 ],\n",
       "       [ 1.25],\n",
       "       [-0.8 ],\n",
       "       [ 1.25],\n",
       "       [ 1.25],\n",
       "       [ 1.25],\n",
       "       [ 1.25],\n",
       "       [-0.8 ],\n",
       "       [-0.8 ],\n",
       "       [-0.8 ],\n",
       "       [-0.8 ],\n",
       "       [-0.8 ],\n",
       "       [-0.8 ],\n",
       "       [ 1.25],\n",
       "       [ 1.25],\n",
       "       [ 1.25],\n",
       "       [-0.8 ],\n",
       "       [ 1.25],\n",
       "       [-0.8 ],\n",
       "       [ 1.25],\n",
       "       [ 1.25],\n",
       "       [ 1.25],\n",
       "       [-0.8 ],\n",
       "       [ 1.25],\n",
       "       [ 1.25],\n",
       "       [-0.8 ],\n",
       "       [-0.8 ],\n",
       "       [-0.8 ],\n",
       "       [ 1.25],\n",
       "       [ 1.25],\n",
       "       [-0.8 ],\n",
       "       [ 1.25],\n",
       "       [ 1.25],\n",
       "       [-0.8 ],\n",
       "       [-0.8 ],\n",
       "       [ 1.25],\n",
       "       [ 1.25],\n",
       "       [ 1.25],\n",
       "       [-0.8 ],\n",
       "       [ 1.25],\n",
       "       [ 1.25],\n",
       "       [ 1.25],\n",
       "       [ 1.25],\n",
       "       [-0.8 ],\n",
       "       [-0.8 ],\n",
       "       [-0.8 ],\n",
       "       [ 1.25],\n",
       "       [-0.8 ],\n",
       "       [-0.8 ],\n",
       "       [ 1.25],\n",
       "       [ 1.25],\n",
       "       [-0.8 ],\n",
       "       [ 1.25],\n",
       "       [-0.8 ],\n",
       "       [-0.8 ],\n",
       "       [-0.8 ],\n",
       "       [ 1.25],\n",
       "       [ 1.25],\n",
       "       [ 1.25],\n",
       "       [ 1.25],\n",
       "       [-0.8 ],\n",
       "       [-0.8 ],\n",
       "       [-0.8 ],\n",
       "       [-0.8 ],\n",
       "       [-0.8 ],\n",
       "       [-0.8 ],\n",
       "       [-0.8 ],\n",
       "       [ 1.25],\n",
       "       [-0.8 ],\n",
       "       [ 1.25],\n",
       "       [ 1.25],\n",
       "       [-0.8 ],\n",
       "       [-0.8 ],\n",
       "       [-0.8 ],\n",
       "       [-0.8 ],\n",
       "       [-0.8 ],\n",
       "       [ 1.25],\n",
       "       [ 1.25],\n",
       "       [ 1.25],\n",
       "       [ 1.25],\n",
       "       [ 1.25],\n",
       "       [-0.8 ],\n",
       "       [-0.8 ],\n",
       "       [-0.8 ],\n",
       "       [-0.8 ],\n",
       "       [ 1.25],\n",
       "       [ 1.25],\n",
       "       [-0.8 ],\n",
       "       [-0.8 ],\n",
       "       [ 1.25],\n",
       "       [-0.8 ],\n",
       "       [ 1.25],\n",
       "       [-0.8 ],\n",
       "       [-0.8 ],\n",
       "       [ 1.25],\n",
       "       [-0.8 ],\n",
       "       [ 1.25],\n",
       "       [ 1.25],\n",
       "       [ 1.25],\n",
       "       [-0.8 ],\n",
       "       [ 1.25],\n",
       "       [ 1.25],\n",
       "       [-0.8 ],\n",
       "       [-0.8 ],\n",
       "       [-0.8 ],\n",
       "       [-0.8 ],\n",
       "       [ 1.25],\n",
       "       [ 1.25],\n",
       "       [-0.8 ],\n",
       "       [-0.8 ],\n",
       "       [-0.8 ],\n",
       "       [-0.8 ],\n",
       "       [-0.8 ],\n",
       "       [-0.8 ],\n",
       "       [ 1.25],\n",
       "       [-0.8 ],\n",
       "       [-0.8 ],\n",
       "       [-0.8 ],\n",
       "       [-0.8 ],\n",
       "       [ 1.25],\n",
       "       [-0.8 ],\n",
       "       [ 1.25],\n",
       "       [-0.8 ],\n",
       "       [ 1.25],\n",
       "       [ 1.25],\n",
       "       [-0.8 ],\n",
       "       [-0.8 ],\n",
       "       [-0.8 ],\n",
       "       [-0.8 ],\n",
       "       [-0.8 ],\n",
       "       [-0.8 ],\n",
       "       [-0.8 ],\n",
       "       [-0.8 ],\n",
       "       [ 1.25],\n",
       "       [ 1.25],\n",
       "       [-0.8 ],\n",
       "       [ 1.25],\n",
       "       [ 1.25],\n",
       "       [ 1.25],\n",
       "       [ 1.25],\n",
       "       [-0.8 ],\n",
       "       [-0.8 ],\n",
       "       [ 1.25],\n",
       "       [-0.8 ],\n",
       "       [-0.8 ],\n",
       "       [ 1.25],\n",
       "       [-0.8 ],\n",
       "       [-0.8 ],\n",
       "       [ 1.25],\n",
       "       [ 1.25],\n",
       "       [ 1.25],\n",
       "       [ 1.25],\n",
       "       [ 1.25],\n",
       "       [ 1.25],\n",
       "       [ 1.25],\n",
       "       [-0.8 ],\n",
       "       [-0.8 ],\n",
       "       [-0.8 ],\n",
       "       [ 1.25],\n",
       "       [-0.8 ],\n",
       "       [ 1.25],\n",
       "       [-0.8 ],\n",
       "       [ 1.25],\n",
       "       [ 1.25],\n",
       "       [-0.8 ],\n",
       "       [ 1.25],\n",
       "       [-0.8 ],\n",
       "       [-0.8 ],\n",
       "       [-0.8 ],\n",
       "       [-0.8 ],\n",
       "       [-0.8 ],\n",
       "       [-0.8 ],\n",
       "       [-0.8 ],\n",
       "       [-0.8 ],\n",
       "       [ 1.25],\n",
       "       [-0.8 ],\n",
       "       [-0.8 ],\n",
       "       [ 1.25],\n",
       "       [ 1.25],\n",
       "       [-0.8 ],\n",
       "       [-0.8 ],\n",
       "       [-0.8 ],\n",
       "       [-0.8 ],\n",
       "       [-0.8 ],\n",
       "       [ 1.25],\n",
       "       [-0.8 ],\n",
       "       [-0.8 ],\n",
       "       [ 1.25],\n",
       "       [ 1.25],\n",
       "       [-0.8 ],\n",
       "       [ 1.25],\n",
       "       [-0.8 ],\n",
       "       [-0.8 ],\n",
       "       [ 1.25],\n",
       "       [-0.8 ],\n",
       "       [-0.8 ],\n",
       "       [-0.8 ],\n",
       "       [-0.8 ],\n",
       "       [-0.8 ],\n",
       "       [ 1.25],\n",
       "       [-0.8 ],\n",
       "       [-0.8 ],\n",
       "       [-0.8 ],\n",
       "       [-0.8 ],\n",
       "       [-0.8 ],\n",
       "       [-0.8 ],\n",
       "       [-0.8 ],\n",
       "       [ 1.25],\n",
       "       [-0.8 ],\n",
       "       [ 1.25],\n",
       "       [ 1.25],\n",
       "       [-0.8 ],\n",
       "       [ 1.25],\n",
       "       [ 1.25],\n",
       "       [-0.8 ],\n",
       "       [ 1.25],\n",
       "       [ 1.25],\n",
       "       [-0.8 ],\n",
       "       [-0.8 ],\n",
       "       [ 1.25],\n",
       "       [-0.8 ],\n",
       "       [ 1.25],\n",
       "       [-0.8 ],\n",
       "       [ 1.25],\n",
       "       [-0.8 ],\n",
       "       [-0.8 ],\n",
       "       [ 1.25],\n",
       "       [-0.8 ],\n",
       "       [-0.8 ],\n",
       "       [ 1.25],\n",
       "       [-0.8 ],\n",
       "       [-0.8 ],\n",
       "       [ 1.25],\n",
       "       [-0.8 ],\n",
       "       [-0.8 ],\n",
       "       [ 1.25],\n",
       "       [-0.8 ],\n",
       "       [ 1.25],\n",
       "       [-0.8 ],\n",
       "       [ 1.25],\n",
       "       [-0.8 ],\n",
       "       [ 1.25],\n",
       "       [ 1.25],\n",
       "       [ 1.25],\n",
       "       [-0.8 ],\n",
       "       [-0.8 ],\n",
       "       [ 1.25],\n",
       "       [ 1.25],\n",
       "       [-0.8 ],\n",
       "       [ 1.25],\n",
       "       [ 1.25],\n",
       "       [-0.8 ],\n",
       "       [-0.8 ],\n",
       "       [ 1.25],\n",
       "       [ 1.25],\n",
       "       [-0.8 ],\n",
       "       [ 1.25],\n",
       "       [ 1.25],\n",
       "       [ 1.25],\n",
       "       [-0.8 ],\n",
       "       [-0.8 ],\n",
       "       [-0.8 ],\n",
       "       [-0.8 ],\n",
       "       [-0.8 ],\n",
       "       [-0.8 ],\n",
       "       [-0.8 ],\n",
       "       [-0.8 ],\n",
       "       [ 1.25],\n",
       "       [ 1.25],\n",
       "       [ 1.25],\n",
       "       [ 1.25],\n",
       "       [ 1.25],\n",
       "       [-0.8 ],\n",
       "       [-0.8 ],\n",
       "       [ 1.25],\n",
       "       [ 1.25],\n",
       "       [-0.8 ],\n",
       "       [ 1.25],\n",
       "       [ 1.25],\n",
       "       [ 1.25],\n",
       "       [-0.8 ],\n",
       "       [-0.8 ],\n",
       "       [-0.8 ],\n",
       "       [ 1.25],\n",
       "       [-0.8 ],\n",
       "       [ 1.25],\n",
       "       [-0.8 ],\n",
       "       [-0.8 ],\n",
       "       [-0.8 ],\n",
       "       [ 1.25],\n",
       "       [-0.8 ],\n",
       "       [-0.8 ],\n",
       "       [-0.8 ],\n",
       "       [-0.8 ],\n",
       "       [ 1.25],\n",
       "       [-0.8 ],\n",
       "       [-0.8 ],\n",
       "       [ 1.25],\n",
       "       [ 1.25],\n",
       "       [-0.8 ],\n",
       "       [-0.8 ],\n",
       "       [-0.8 ],\n",
       "       [ 1.25],\n",
       "       [-0.8 ],\n",
       "       [-0.8 ],\n",
       "       [ 1.25],\n",
       "       [ 1.25],\n",
       "       [ 1.25],\n",
       "       [-0.8 ],\n",
       "       [ 1.25],\n",
       "       [-0.8 ],\n",
       "       [-0.8 ],\n",
       "       [ 1.25],\n",
       "       [-0.8 ],\n",
       "       [-0.8 ],\n",
       "       [ 1.25],\n",
       "       [-0.8 ],\n",
       "       [-0.8 ],\n",
       "       [ 1.25],\n",
       "       [ 1.25],\n",
       "       [-0.8 ],\n",
       "       [-0.8 ],\n",
       "       [-0.8 ],\n",
       "       [-0.8 ],\n",
       "       [ 1.25],\n",
       "       [-0.8 ],\n",
       "       [-0.8 ],\n",
       "       [-0.8 ],\n",
       "       [ 1.25],\n",
       "       [-0.8 ],\n",
       "       [-0.8 ],\n",
       "       [ 1.25],\n",
       "       [-0.8 ],\n",
       "       [-0.8 ],\n",
       "       [-0.8 ],\n",
       "       [-0.8 ],\n",
       "       [ 1.25],\n",
       "       [-0.8 ],\n",
       "       [ 1.25],\n",
       "       [ 1.25],\n",
       "       [ 1.25],\n",
       "       [-0.8 ],\n",
       "       [ 1.25],\n",
       "       [-0.8 ],\n",
       "       [ 1.25],\n",
       "       [-0.8 ],\n",
       "       [ 1.25],\n",
       "       [-0.8 ],\n",
       "       [ 1.25],\n",
       "       [-0.8 ],\n",
       "       [-0.8 ],\n",
       "       [-0.8 ],\n",
       "       [-0.8 ],\n",
       "       [-0.8 ],\n",
       "       [-0.8 ],\n",
       "       [ 1.25],\n",
       "       [-0.8 ],\n",
       "       [-0.8 ],\n",
       "       [-0.8 ],\n",
       "       [ 1.25],\n",
       "       [-0.8 ],\n",
       "       [-0.8 ],\n",
       "       [-0.8 ],\n",
       "       [-0.8 ],\n",
       "       [ 1.25],\n",
       "       [ 1.25],\n",
       "       [-0.8 ],\n",
       "       [ 1.25],\n",
       "       [-0.8 ],\n",
       "       [-0.8 ],\n",
       "       [-0.8 ],\n",
       "       [ 1.25],\n",
       "       [-0.8 ],\n",
       "       [ 1.25],\n",
       "       [-0.8 ],\n",
       "       [-0.8 ],\n",
       "       [-0.8 ],\n",
       "       [-0.8 ],\n",
       "       [-0.8 ],\n",
       "       [ 1.25],\n",
       "       [ 1.25],\n",
       "       [ 1.25],\n",
       "       [-0.8 ],\n",
       "       [-0.8 ],\n",
       "       [-0.8 ],\n",
       "       [-0.8 ],\n",
       "       [ 1.25],\n",
       "       [-0.8 ],\n",
       "       [-0.8 ],\n",
       "       [ 1.25],\n",
       "       [-0.8 ],\n",
       "       [-0.8 ],\n",
       "       [-0.8 ],\n",
       "       [-0.8 ],\n",
       "       [ 1.25],\n",
       "       [ 1.25],\n",
       "       [ 1.25],\n",
       "       [ 1.25],\n",
       "       [ 1.25],\n",
       "       [-0.8 ],\n",
       "       [ 1.25],\n",
       "       [-0.8 ],\n",
       "       [-0.8 ],\n",
       "       [-0.8 ],\n",
       "       [ 1.25],\n",
       "       [-0.8 ],\n",
       "       [-0.8 ],\n",
       "       [ 1.25],\n",
       "       [-0.8 ],\n",
       "       [-0.8 ],\n",
       "       [-0.8 ],\n",
       "       [ 1.25],\n",
       "       [-0.8 ],\n",
       "       [ 1.25],\n",
       "       [ 1.25],\n",
       "       [-0.8 ],\n",
       "       [-0.8 ],\n",
       "       [-0.8 ],\n",
       "       [-0.8 ],\n",
       "       [-0.8 ],\n",
       "       [-0.8 ],\n",
       "       [-0.8 ],\n",
       "       [-0.8 ],\n",
       "       [-0.8 ],\n",
       "       [ 1.25],\n",
       "       [-0.8 ],\n",
       "       [-0.8 ],\n",
       "       [ 1.25],\n",
       "       [-0.8 ],\n",
       "       [ 1.25],\n",
       "       [-0.8 ],\n",
       "       [-0.8 ],\n",
       "       [ 1.25],\n",
       "       [ 1.25],\n",
       "       [-0.8 ],\n",
       "       [-0.8 ],\n",
       "       [ 1.25],\n",
       "       [ 1.25],\n",
       "       [-0.8 ],\n",
       "       [-0.8 ],\n",
       "       [-0.8 ],\n",
       "       [ 1.25],\n",
       "       [-0.8 ],\n",
       "       [-0.8 ],\n",
       "       [ 1.25],\n",
       "       [ 1.25],\n",
       "       [-0.8 ],\n",
       "       [ 1.25],\n",
       "       [-0.8 ],\n",
       "       [-0.8 ],\n",
       "       [-0.8 ],\n",
       "       [-0.8 ],\n",
       "       [-0.8 ],\n",
       "       [-0.8 ],\n",
       "       [-0.8 ],\n",
       "       [-0.8 ],\n",
       "       [-0.8 ],\n",
       "       [-0.8 ],\n",
       "       [ 1.25],\n",
       "       [-0.8 ],\n",
       "       [ 1.25],\n",
       "       [ 1.25],\n",
       "       [-0.8 ],\n",
       "       [-0.8 ],\n",
       "       [-0.8 ],\n",
       "       [-0.8 ],\n",
       "       [ 1.25],\n",
       "       [ 1.25],\n",
       "       [-0.8 ],\n",
       "       [-0.8 ],\n",
       "       [-0.8 ],\n",
       "       [-0.8 ],\n",
       "       [-0.8 ],\n",
       "       [-0.8 ],\n",
       "       [ 1.25],\n",
       "       [ 1.25],\n",
       "       [-0.8 ],\n",
       "       [-0.8 ],\n",
       "       [-0.8 ],\n",
       "       [ 1.25],\n",
       "       [ 1.25],\n",
       "       [ 1.25],\n",
       "       [ 1.25],\n",
       "       [-0.8 ],\n",
       "       [-0.8 ],\n",
       "       [-0.8 ],\n",
       "       [-0.8 ],\n",
       "       [ 1.25],\n",
       "       [-0.8 ],\n",
       "       [-0.8 ],\n",
       "       [-0.8 ],\n",
       "       [-0.8 ],\n",
       "       [-0.8 ],\n",
       "       [-0.8 ],\n",
       "       [-0.8 ],\n",
       "       [-0.8 ],\n",
       "       [-0.8 ],\n",
       "       [ 1.25],\n",
       "       [ 1.25],\n",
       "       [-0.8 ],\n",
       "       [ 1.25],\n",
       "       [-0.8 ],\n",
       "       [-0.8 ],\n",
       "       [ 1.25],\n",
       "       [ 1.25],\n",
       "       [ 1.25],\n",
       "       [ 1.25],\n",
       "       [ 1.25],\n",
       "       [-0.8 ],\n",
       "       [-0.8 ],\n",
       "       [-0.8 ],\n",
       "       [ 1.25],\n",
       "       [-0.8 ],\n",
       "       [-0.8 ],\n",
       "       [ 1.25],\n",
       "       [ 1.25],\n",
       "       [-0.8 ],\n",
       "       [-0.8 ],\n",
       "       [ 1.25],\n",
       "       [-0.8 ],\n",
       "       [-0.8 ],\n",
       "       [-0.8 ],\n",
       "       [-0.8 ],\n",
       "       [-0.8 ],\n",
       "       [ 1.25],\n",
       "       [-0.8 ],\n",
       "       [ 1.25],\n",
       "       [-0.8 ],\n",
       "       [ 1.25],\n",
       "       [ 1.25],\n",
       "       [ 1.25],\n",
       "       [-0.8 ],\n",
       "       [-0.8 ],\n",
       "       [-0.8 ],\n",
       "       [ 1.25],\n",
       "       [-0.8 ],\n",
       "       [ 1.25],\n",
       "       [ 1.25],\n",
       "       [-0.8 ],\n",
       "       [-0.8 ],\n",
       "       [ 1.25],\n",
       "       [-0.8 ],\n",
       "       [ 1.25],\n",
       "       [-0.8 ],\n",
       "       [-0.8 ],\n",
       "       [ 1.25],\n",
       "       [ 1.25],\n",
       "       [-0.8 ],\n",
       "       [-0.8 ],\n",
       "       [-0.8 ],\n",
       "       [ 1.25],\n",
       "       [ 1.25],\n",
       "       [-0.8 ],\n",
       "       [-0.8 ],\n",
       "       [-0.8 ],\n",
       "       [-0.8 ],\n",
       "       [-0.8 ],\n",
       "       [ 1.25],\n",
       "       [-0.8 ],\n",
       "       [ 1.25],\n",
       "       [-0.8 ]])"
      ]
     },
     "execution_count": 86,
     "metadata": {},
     "output_type": "execute_result"
    }
   ],
   "source": [
    "from sklearn.preprocessing import StandardScaler\n",
    "scaler = StandardScaler()\n",
    "\n",
    "scaler.fit_transform(y.values[Ellipsis, None])"
   ]
  },
  {
   "cell_type": "code",
   "execution_count": null,
   "metadata": {},
   "outputs": [],
   "source": []
  },
  {
   "cell_type": "code",
   "execution_count": 78,
   "metadata": {},
   "outputs": [],
   "source": [
    "from sklearn.preprocessing import power_transform\n",
    "x=power_transform(x,method=(\"yeo-johnson\"))"
   ]
  },
  {
   "cell_type": "markdown",
   "metadata": {},
   "source": [
    "skewness is removed"
   ]
  },
  {
   "cell_type": "markdown",
   "metadata": {},
   "source": [
    "# Model Fitting and Predicting"
   ]
  },
  {
   "cell_type": "code",
   "execution_count": 154,
   "metadata": {},
   "outputs": [],
   "source": [
    "\n",
    "from sklearn.svm import SVC\n",
    "from sklearn.ensemble import RandomForestClassifier\n",
    "from sklearn.linear_model import LogisticRegression\n",
    "from sklearn.neighbors import KNeighborsClassifier\n",
    "from sklearn.naive_bayes import GaussianNB\n",
    "from sklearn.tree import DecisionTreeClassifier\n",
    "from sklearn.naive_bayes import MultinomialNB\n",
    "from sklearn.model_selection import train_test_split\n",
    "from sklearn.metrics import confusion_matrix, accuracy_score, classification_report"
   ]
  },
  {
   "cell_type": "code",
   "execution_count": 80,
   "metadata": {},
   "outputs": [],
   "source": [
    "x_train,x_test,y_train,y_test=train_test_split(x,y,test_size=.39,random_state=48)"
   ]
  },
  {
   "cell_type": "code",
   "execution_count": 81,
   "metadata": {},
   "outputs": [
    {
     "data": {
      "text/plain": [
       "(500, 7)"
      ]
     },
     "execution_count": 81,
     "metadata": {},
     "output_type": "execute_result"
    }
   ],
   "source": [
    "x_train.shape"
   ]
  },
  {
   "cell_type": "code",
   "execution_count": 82,
   "metadata": {},
   "outputs": [
    {
     "data": {
      "text/plain": [
       "(500,)"
      ]
     },
     "execution_count": 82,
     "metadata": {},
     "output_type": "execute_result"
    }
   ],
   "source": [
    "y_train.shape"
   ]
  },
  {
   "cell_type": "code",
   "execution_count": 83,
   "metadata": {},
   "outputs": [
    {
     "data": {
      "text/plain": [
       "(320, 7)"
      ]
     },
     "execution_count": 83,
     "metadata": {},
     "output_type": "execute_result"
    }
   ],
   "source": [
    "x_test.shape"
   ]
  },
  {
   "cell_type": "code",
   "execution_count": 84,
   "metadata": {},
   "outputs": [
    {
     "data": {
      "text/plain": [
       "(320,)"
      ]
     },
     "execution_count": 84,
     "metadata": {},
     "output_type": "execute_result"
    }
   ],
   "source": [
    "y_test.shape"
   ]
  },
  {
   "cell_type": "code",
   "execution_count": null,
   "metadata": {},
   "outputs": [],
   "source": []
  },
  {
   "cell_type": "markdown",
   "metadata": {},
   "source": [
    "# SVC Model"
   ]
  },
  {
   "cell_type": "code",
   "execution_count": 92,
   "metadata": {},
   "outputs": [
    {
     "name": "stdout",
     "output_type": "stream",
     "text": [
      "0.790625\n"
     ]
    }
   ],
   "source": [
    "svc= SVC() \n",
    "svc.fit(x_train, y_train)\n",
    "pred_svc = svc.predict(x_test)\n",
    "acc_svc = accuracy_score(y_test, pred_svc)\n",
    "\n",
    "print(acc_svc)"
   ]
  },
  {
   "cell_type": "markdown",
   "metadata": {},
   "source": [
    "# Logistic regression"
   ]
  },
  {
   "cell_type": "code",
   "execution_count": 103,
   "metadata": {},
   "outputs": [
    {
     "name": "stdout",
     "output_type": "stream",
     "text": [
      "0.7875\n"
     ]
    }
   ],
   "source": [
    "\n",
    "logreg = LogisticRegression()\n",
    "logreg.fit(x_train, y_train)\n",
    "pred_logreg = logreg.predict(x_test)\n",
    "acc_logreg = accuracy_score(y_test, pred_logreg)\n",
    "\n",
    "print(acc_logreg)"
   ]
  },
  {
   "cell_type": "markdown",
   "metadata": {},
   "source": [
    "# KNN"
   ]
  },
  {
   "cell_type": "code",
   "execution_count": 122,
   "metadata": {},
   "outputs": [
    {
     "name": "stdout",
     "output_type": "stream",
     "text": [
      "accuracy: 0.790625\n",
      "\n",
      "\n",
      "confusion matrix [[164  23]\n",
      " [ 44  89]]\n",
      "\n",
      "\n",
      "classificationreport               precision    recall  f1-score   support\n",
      "\n",
      "           0       0.79      0.88      0.83       187\n",
      "           1       0.79      0.67      0.73       133\n",
      "\n",
      "   micro avg       0.79      0.79      0.79       320\n",
      "   macro avg       0.79      0.77      0.78       320\n",
      "weighted avg       0.79      0.79      0.79       320\n",
      "\n"
     ]
    }
   ],
   "source": [
    "knn= KNeighborsClassifier()\n",
    "knn.fit(x_train, y_train)\n",
    "pred_knn = knn.predict((x_test))\n",
    "acc_knn = accuracy_score(y_test, pred_knn)\n",
    "\n",
    "print(\"accuracy:\",acc_knn)\n",
    "print(\"\\n\")\n",
    "print(\"confusion matrix\",confusion_matrix(y_test,pred_knn ))\n",
    "print(\"\\n\")\n",
    "print(\"classificationreport\", classification_report(y_test,pred_knn))"
   ]
  },
  {
   "cell_type": "markdown",
   "metadata": {},
   "source": [
    "# GaussianNB Model"
   ]
  },
  {
   "cell_type": "code",
   "execution_count": 123,
   "metadata": {},
   "outputs": [
    {
     "name": "stdout",
     "output_type": "stream",
     "text": [
      "accuracy: 0.765625\n",
      "\n",
      "\n",
      "confusion matrix [[153  34]\n",
      " [ 41  92]]\n",
      "\n",
      "\n",
      "classificationreport               precision    recall  f1-score   support\n",
      "\n",
      "           0       0.79      0.82      0.80       187\n",
      "           1       0.73      0.69      0.71       133\n",
      "\n",
      "   micro avg       0.77      0.77      0.77       320\n",
      "   macro avg       0.76      0.75      0.76       320\n",
      "weighted avg       0.76      0.77      0.76       320\n",
      "\n"
     ]
    }
   ],
   "source": [
    "\n",
    "gnb= GaussianNB()\n",
    "gnb.fit(x_train, y_train)\n",
    "pred_gnb = gnb.predict(x_test)\n",
    "acc_gnb = accuracy_score(y_test, pred_gnb)\n",
    "\n",
    "print(\"accuracy:\",acc_gnb)\n",
    "print(\"\\n\")\n",
    "print(\"confusion matrix\",confusion_matrix(y_test,pred_gnb ))\n",
    "print(\"\\n\")\n",
    "print(\"classificationreport\", classification_report(y_test,pred_gnb))"
   ]
  },
  {
   "cell_type": "markdown",
   "metadata": {},
   "source": [
    "# DecisionTree Model"
   ]
  },
  {
   "cell_type": "code",
   "execution_count": 124,
   "metadata": {},
   "outputs": [
    {
     "name": "stdout",
     "output_type": "stream",
     "text": [
      "accuracy: 0.746875\n",
      "\n",
      "\n",
      "confusion matrix [[155  32]\n",
      " [ 49  84]]\n",
      "\n",
      "\n",
      "classificationreport               precision    recall  f1-score   support\n",
      "\n",
      "           0       0.76      0.83      0.79       187\n",
      "           1       0.72      0.63      0.67       133\n",
      "\n",
      "   micro avg       0.75      0.75      0.75       320\n",
      "   macro avg       0.74      0.73      0.73       320\n",
      "weighted avg       0.74      0.75      0.74       320\n",
      "\n"
     ]
    }
   ],
   "source": [
    "dt = DecisionTreeClassifier()\n",
    "dt.fit(x_train, y_train)\n",
    "pred_dt = dt.predict(x_test)\n",
    "acc_dt = accuracy_score(y_test, pred_dt)\n",
    "\n",
    "print(\"accuracy:\",acc_dt)\n",
    "print(\"\\n\")\n",
    "print(\"confusion matrix\",confusion_matrix(y_test,pred_dt))\n",
    "print(\"\\n\")\n",
    "print(\"classificationreport\", classification_report(y_test,pred_dt))"
   ]
  },
  {
   "cell_type": "markdown",
   "metadata": {},
   "source": [
    "# Random forest"
   ]
  },
  {
   "cell_type": "code",
   "execution_count": 125,
   "metadata": {},
   "outputs": [
    {
     "name": "stdout",
     "output_type": "stream",
     "text": [
      "accuracy: 0.75625\n",
      "\n",
      "\n",
      "confusion matrix [[159  28]\n",
      " [ 50  83]]\n",
      "\n",
      "\n",
      "classificationreport               precision    recall  f1-score   support\n",
      "\n",
      "           0       0.76      0.85      0.80       187\n",
      "           1       0.75      0.62      0.68       133\n",
      "\n",
      "   micro avg       0.76      0.76      0.76       320\n",
      "   macro avg       0.75      0.74      0.74       320\n",
      "weighted avg       0.76      0.76      0.75       320\n",
      "\n"
     ]
    }
   ],
   "source": [
    "\n",
    "rf = RandomForestClassifier()\n",
    "rf.fit(x_train, y_train)\n",
    "pred_rf = rf.predict(x_test)\n",
    "acc_rf = accuracy_score(y_test, pred_rf)\n",
    "\n",
    "print(\"accuracy:\",acc_rf)\n",
    "print(\"\\n\")\n",
    "print(\"confusion matrix\",confusion_matrix(y_test,pred_rf ))\n",
    "print(\"\\n\")\n",
    "print(\"classificationreport\", classification_report(y_test,pred_rf))"
   ]
  },
  {
   "cell_type": "markdown",
   "metadata": {},
   "source": []
  },
  {
   "cell_type": "markdown",
   "metadata": {},
   "source": [
    "# Evaluating Model Performances"
   ]
  },
  {
   "cell_type": "code",
   "execution_count": 131,
   "metadata": {},
   "outputs": [
    {
     "data": {
      "text/html": [
       "<div>\n",
       "<style scoped>\n",
       "    .dataframe tbody tr th:only-of-type {\n",
       "        vertical-align: middle;\n",
       "    }\n",
       "\n",
       "    .dataframe tbody tr th {\n",
       "        vertical-align: top;\n",
       "    }\n",
       "\n",
       "    .dataframe thead th {\n",
       "        text-align: right;\n",
       "    }\n",
       "</style>\n",
       "<table border=\"1\" class=\"dataframe\">\n",
       "  <thead>\n",
       "    <tr style=\"text-align: right;\">\n",
       "      <th></th>\n",
       "      <th>Model</th>\n",
       "      <th>Accuracy</th>\n",
       "    </tr>\n",
       "  </thead>\n",
       "  <tbody>\n",
       "    <tr>\n",
       "      <th>0</th>\n",
       "      <td>SVC</td>\n",
       "      <td>0.790625</td>\n",
       "    </tr>\n",
       "    <tr>\n",
       "      <th>1</th>\n",
       "      <td>Logistic Regression</td>\n",
       "      <td>0.787500</td>\n",
       "    </tr>\n",
       "    <tr>\n",
       "      <th>2</th>\n",
       "      <td>K Nearest Neighbors</td>\n",
       "      <td>0.790625</td>\n",
       "    </tr>\n",
       "    <tr>\n",
       "      <th>3</th>\n",
       "      <td>Gaussian Naive Bayes</td>\n",
       "      <td>0.765625</td>\n",
       "    </tr>\n",
       "    <tr>\n",
       "      <th>4</th>\n",
       "      <td>Decision Tree</td>\n",
       "      <td>0.746875</td>\n",
       "    </tr>\n",
       "    <tr>\n",
       "      <th>5</th>\n",
       "      <td>Random Forest</td>\n",
       "      <td>0.756250</td>\n",
       "    </tr>\n",
       "  </tbody>\n",
       "</table>\n",
       "</div>"
      ],
      "text/plain": [
       "                  Model  Accuracy\n",
       "0                   SVC  0.790625\n",
       "1   Logistic Regression  0.787500\n",
       "2   K Nearest Neighbors  0.790625\n",
       "3  Gaussian Naive Bayes  0.765625\n",
       "4         Decision Tree  0.746875\n",
       "5         Random Forest  0.756250"
      ]
     },
     "execution_count": 131,
     "metadata": {},
     "output_type": "execute_result"
    }
   ],
   "source": [
    "\n",
    "model_performance = pd.DataFrame({\n",
    "    \"Model\": [\"SVC\", \"Logistic Regression\", \"K Nearest Neighbors\",\n",
    "               \"Gaussian Naive Bayes\",  \n",
    "              \"Decision Tree\",\"Random Forest\"],\n",
    "    \"Accuracy\": [acc_svc,acc_logreg,  \n",
    "                acc_knn, acc_gnb, acc_dt, acc_rf]\n",
    "})\n",
    "model_performance"
   ]
  },
  {
   "cell_type": "markdown",
   "metadata": {},
   "source": [
    "From the above accuracy score table it is found that SVC model is performing best lets tune the parameter for svc model"
   ]
  },
  {
   "cell_type": "markdown",
   "metadata": {},
   "source": [
    "# Regularisation"
   ]
  },
  {
   "cell_type": "code",
   "execution_count": 159,
   "metadata": {},
   "outputs": [],
   "source": [
    "from sklearn.metrics import make_scorer\n",
    "from sklearn.model_selection import GridSearchCV\n",
    "                 "
   ]
  },
  {
   "cell_type": "code",
   "execution_count": 160,
   "metadata": {},
   "outputs": [
    {
     "data": {
      "text/plain": [
       "dict_keys(['C', 'cache_size', 'class_weight', 'coef0', 'decision_function_shape', 'degree', 'gamma', 'kernel', 'max_iter', 'probability', 'random_state', 'shrinking', 'tol', 'verbose'])"
      ]
     },
     "execution_count": 160,
     "metadata": {},
     "output_type": "execute_result"
    }
   ],
   "source": [
    "svc.get_params().keys()"
   ]
  },
  {
   "cell_type": "code",
   "execution_count": 168,
   "metadata": {},
   "outputs": [
    {
     "name": "stdout",
     "output_type": "stream",
     "text": [
      "Our optimized svc model is:\n"
     ]
    },
    {
     "data": {
      "text/plain": [
       "SVC(C=1.0, cache_size=200, class_weight=None, coef0=0.0,\n",
       "  decision_function_shape='ovr', degree=3, gamma='auto_deprecated',\n",
       "  kernel='rbf', max_iter=-1, probability=False, random_state=None,\n",
       "  shrinking=True, tol=0.001, verbose=False)"
      ]
     },
     "execution_count": 168,
     "metadata": {},
     "output_type": "execute_result"
    }
   ],
   "source": [
    "\n",
    "svc = SVC()\n",
    "\n",
    "parameters = {\"kernel\":[\"poly\",\"rbf\",\"linear\"]\n",
    "             }\n",
    "\n",
    "grid_cv = GridSearchCV(svc, parameters, scoring = make_scorer(accuracy_score))\n",
    "grid_cv = grid_cv.fit(x_train, y_train)\n",
    "\n",
    "print(\"Our optimized svc model is:\")\n",
    "grid_cv.best_estimator_\n"
   ]
  },
  {
   "cell_type": "code",
   "execution_count": 169,
   "metadata": {},
   "outputs": [
    {
     "data": {
      "text/plain": [
       "SVC(C=1.0, cache_size=200, class_weight=None, coef0=0.0,\n",
       "  decision_function_shape='ovr', degree=3, gamma='auto_deprecated',\n",
       "  kernel='rbf', max_iter=-1, probability=False, random_state=None,\n",
       "  shrinking=True, tol=0.001, verbose=False)"
      ]
     },
     "execution_count": 169,
     "metadata": {},
     "output_type": "execute_result"
    }
   ],
   "source": [
    "\n",
    "svc = grid_cv.best_estimator_\n",
    "\n",
    "svc.fit(x_train, y_train)"
   ]
  },
  {
   "cell_type": "markdown",
   "metadata": {},
   "source": [
    "Saving the file"
   ]
  },
  {
   "cell_type": "code",
   "execution_count": 173,
   "metadata": {},
   "outputs": [],
   "source": [
    "import pickle"
   ]
  },
  {
   "cell_type": "code",
   "execution_count": 176,
   "metadata": {},
   "outputs": [],
   "source": [
    "filename=\"Titanic.pkl\"\n",
    "pickle.dump(svc,open(filename,\"wb\"))"
   ]
  },
  {
   "cell_type": "code",
   "execution_count": null,
   "metadata": {},
   "outputs": [],
   "source": []
  },
  {
   "cell_type": "code",
   "execution_count": null,
   "metadata": {},
   "outputs": [],
   "source": []
  },
  {
   "cell_type": "code",
   "execution_count": null,
   "metadata": {},
   "outputs": [],
   "source": []
  }
 ],
 "metadata": {
  "kernelspec": {
   "display_name": "Python 3",
   "language": "python",
   "name": "python3"
  },
  "language_info": {
   "codemirror_mode": {
    "name": "ipython",
    "version": 3
   },
   "file_extension": ".py",
   "mimetype": "text/x-python",
   "name": "python",
   "nbconvert_exporter": "python",
   "pygments_lexer": "ipython3",
   "version": "3.7.1"
  }
 },
 "nbformat": 4,
 "nbformat_minor": 2
}
