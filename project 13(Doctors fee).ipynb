{
 "cells": [
  {
   "cell_type": "markdown",
   "metadata": {},
   "source": [
    "Predict A Doctor's Consultation Fee \n",
    "\n",
    "\n",
    "\n",
    "We have all been in situation where we go to a doctor in emergency and find that the consultation fees are too high. As a data scientist we all should do better. What if you have data that records important details about a doctor and you get to build a model to predict the doctor’s consulting fee.? This is the hackathon that lets you do that."
   ]
  },
  {
   "cell_type": "markdown",
   "metadata": {},
   "source": [
    "# Data Processing"
   ]
  },
  {
   "cell_type": "code",
   "execution_count": 428,
   "metadata": {},
   "outputs": [],
   "source": [
    "#importing all the necssary libreray\n",
    "import pandas as pd\n",
    "import numpy as np\n",
    "import matplotlib.pyplot as plt\n",
    "import seaborn as sns\n",
    "\n",
    "#importing warnings\n",
    "import warnings\n",
    "warnings.filterwarnings(\"ignore\")"
   ]
  },
  {
   "cell_type": "code",
   "execution_count": 429,
   "metadata": {},
   "outputs": [
    {
     "data": {
      "text/html": [
       "<div>\n",
       "<style scoped>\n",
       "    .dataframe tbody tr th:only-of-type {\n",
       "        vertical-align: middle;\n",
       "    }\n",
       "\n",
       "    .dataframe tbody tr th {\n",
       "        vertical-align: top;\n",
       "    }\n",
       "\n",
       "    .dataframe thead th {\n",
       "        text-align: right;\n",
       "    }\n",
       "</style>\n",
       "<table border=\"1\" class=\"dataframe\">\n",
       "  <thead>\n",
       "    <tr style=\"text-align: right;\">\n",
       "      <th></th>\n",
       "      <th>Qualification</th>\n",
       "      <th>Experience</th>\n",
       "      <th>Rating</th>\n",
       "      <th>Place</th>\n",
       "      <th>Profile</th>\n",
       "      <th>Miscellaneous_Info</th>\n",
       "      <th>Fees</th>\n",
       "    </tr>\n",
       "  </thead>\n",
       "  <tbody>\n",
       "    <tr>\n",
       "      <th>0</th>\n",
       "      <td>BHMS, MD - Homeopathy</td>\n",
       "      <td>24 years experience</td>\n",
       "      <td>100%</td>\n",
       "      <td>Kakkanad, Ernakulam</td>\n",
       "      <td>Homeopath</td>\n",
       "      <td>100% 16 Feedback Kakkanad, Ernakulam</td>\n",
       "      <td>100</td>\n",
       "    </tr>\n",
       "    <tr>\n",
       "      <th>1</th>\n",
       "      <td>BAMS, MD - Ayurveda Medicine</td>\n",
       "      <td>12 years experience</td>\n",
       "      <td>98%</td>\n",
       "      <td>Whitefield, Bangalore</td>\n",
       "      <td>Ayurveda</td>\n",
       "      <td>98% 76 Feedback Whitefield, Bangalore</td>\n",
       "      <td>350</td>\n",
       "    </tr>\n",
       "    <tr>\n",
       "      <th>2</th>\n",
       "      <td>MBBS, MS - Otorhinolaryngology</td>\n",
       "      <td>9 years experience</td>\n",
       "      <td>NaN</td>\n",
       "      <td>Mathikere - BEL, Bangalore</td>\n",
       "      <td>ENT Specialist</td>\n",
       "      <td>NaN</td>\n",
       "      <td>300</td>\n",
       "    </tr>\n",
       "    <tr>\n",
       "      <th>3</th>\n",
       "      <td>BSc - Zoology, BAMS</td>\n",
       "      <td>12 years experience</td>\n",
       "      <td>NaN</td>\n",
       "      <td>Bannerghatta Road, Bangalore</td>\n",
       "      <td>Ayurveda</td>\n",
       "      <td>Bannerghatta Road, Bangalore ₹250 Available on...</td>\n",
       "      <td>250</td>\n",
       "    </tr>\n",
       "    <tr>\n",
       "      <th>4</th>\n",
       "      <td>BAMS</td>\n",
       "      <td>20 years experience</td>\n",
       "      <td>100%</td>\n",
       "      <td>Keelkattalai, Chennai</td>\n",
       "      <td>Ayurveda</td>\n",
       "      <td>100% 4 Feedback Keelkattalai, Chennai</td>\n",
       "      <td>250</td>\n",
       "    </tr>\n",
       "  </tbody>\n",
       "</table>\n",
       "</div>"
      ],
      "text/plain": [
       "                    Qualification           Experience Rating  \\\n",
       "0           BHMS, MD - Homeopathy  24 years experience   100%   \n",
       "1    BAMS, MD - Ayurveda Medicine  12 years experience    98%   \n",
       "2  MBBS, MS - Otorhinolaryngology   9 years experience    NaN   \n",
       "3             BSc - Zoology, BAMS  12 years experience    NaN   \n",
       "4                            BAMS  20 years experience   100%   \n",
       "\n",
       "                          Place         Profile  \\\n",
       "0           Kakkanad, Ernakulam       Homeopath   \n",
       "1         Whitefield, Bangalore        Ayurveda   \n",
       "2    Mathikere - BEL, Bangalore  ENT Specialist   \n",
       "3  Bannerghatta Road, Bangalore        Ayurveda   \n",
       "4         Keelkattalai, Chennai        Ayurveda   \n",
       "\n",
       "                                  Miscellaneous_Info  Fees  \n",
       "0               100% 16 Feedback Kakkanad, Ernakulam   100  \n",
       "1              98% 76 Feedback Whitefield, Bangalore   350  \n",
       "2                                                NaN   300  \n",
       "3  Bannerghatta Road, Bangalore ₹250 Available on...   250  \n",
       "4              100% 4 Feedback Keelkattalai, Chennai   250  "
      ]
     },
     "execution_count": 429,
     "metadata": {},
     "output_type": "execute_result"
    }
   ],
   "source": [
    "#loading the dataset\n",
    "df=pd.read_excel(\"Final_Train.xlsx\")\n",
    "\n",
    "#lets see insights of the data sets\n",
    "df.head()"
   ]
  },
  {
   "cell_type": "code",
   "execution_count": 430,
   "metadata": {},
   "outputs": [
    {
     "data": {
      "text/html": [
       "<div>\n",
       "<style scoped>\n",
       "    .dataframe tbody tr th:only-of-type {\n",
       "        vertical-align: middle;\n",
       "    }\n",
       "\n",
       "    .dataframe tbody tr th {\n",
       "        vertical-align: top;\n",
       "    }\n",
       "\n",
       "    .dataframe thead th {\n",
       "        text-align: right;\n",
       "    }\n",
       "</style>\n",
       "<table border=\"1\" class=\"dataframe\">\n",
       "  <thead>\n",
       "    <tr style=\"text-align: right;\">\n",
       "      <th></th>\n",
       "      <th>Qualification</th>\n",
       "      <th>Experience</th>\n",
       "      <th>Rating</th>\n",
       "      <th>Place</th>\n",
       "      <th>Profile</th>\n",
       "      <th>Miscellaneous_Info</th>\n",
       "      <th>Fees</th>\n",
       "    </tr>\n",
       "  </thead>\n",
       "  <tbody>\n",
       "    <tr>\n",
       "      <th>5956</th>\n",
       "      <td>MBBS, MS - ENT</td>\n",
       "      <td>19 years experience</td>\n",
       "      <td>98%</td>\n",
       "      <td>Basavanagudi, Bangalore</td>\n",
       "      <td>ENT Specialist</td>\n",
       "      <td>98% 45 Feedback Basavanagudi, Bangalore</td>\n",
       "      <td>300</td>\n",
       "    </tr>\n",
       "    <tr>\n",
       "      <th>5957</th>\n",
       "      <td>MBBS</td>\n",
       "      <td>33 years experience</td>\n",
       "      <td>NaN</td>\n",
       "      <td>Nungambakkam, Chennai</td>\n",
       "      <td>General Medicine</td>\n",
       "      <td>NaN</td>\n",
       "      <td>100</td>\n",
       "    </tr>\n",
       "    <tr>\n",
       "      <th>5958</th>\n",
       "      <td>MBBS</td>\n",
       "      <td>41 years experience</td>\n",
       "      <td>97%</td>\n",
       "      <td>Greater Kailash Part 2, Delhi</td>\n",
       "      <td>General Medicine</td>\n",
       "      <td>97% 11 Feedback Greater Kailash Part 2, Delhi</td>\n",
       "      <td>600</td>\n",
       "    </tr>\n",
       "    <tr>\n",
       "      <th>5959</th>\n",
       "      <td>MBBS, MD - General Medicine</td>\n",
       "      <td>15 years experience</td>\n",
       "      <td>90%</td>\n",
       "      <td>Vileparle West, Mumbai</td>\n",
       "      <td>General Medicine</td>\n",
       "      <td>General Medical Consultation Viral Fever Treat...</td>\n",
       "      <td>100</td>\n",
       "    </tr>\n",
       "    <tr>\n",
       "      <th>5960</th>\n",
       "      <td>BDS, MDS - Orthodontics</td>\n",
       "      <td>17 years experience</td>\n",
       "      <td>100%</td>\n",
       "      <td>Pitampura, Delhi</td>\n",
       "      <td>Dentist</td>\n",
       "      <td>Acrylic Partial Denture Crowns and Bridges Fix...</td>\n",
       "      <td>200</td>\n",
       "    </tr>\n",
       "  </tbody>\n",
       "</table>\n",
       "</div>"
      ],
      "text/plain": [
       "                    Qualification           Experience Rating  \\\n",
       "5956               MBBS, MS - ENT  19 years experience    98%   \n",
       "5957                         MBBS  33 years experience    NaN   \n",
       "5958                         MBBS  41 years experience    97%   \n",
       "5959  MBBS, MD - General Medicine  15 years experience    90%   \n",
       "5960      BDS, MDS - Orthodontics  17 years experience   100%   \n",
       "\n",
       "                              Place           Profile  \\\n",
       "5956        Basavanagudi, Bangalore    ENT Specialist   \n",
       "5957          Nungambakkam, Chennai  General Medicine   \n",
       "5958  Greater Kailash Part 2, Delhi  General Medicine   \n",
       "5959         Vileparle West, Mumbai  General Medicine   \n",
       "5960               Pitampura, Delhi           Dentist   \n",
       "\n",
       "                                     Miscellaneous_Info  Fees  \n",
       "5956            98% 45 Feedback Basavanagudi, Bangalore   300  \n",
       "5957                                                NaN   100  \n",
       "5958      97% 11 Feedback Greater Kailash Part 2, Delhi   600  \n",
       "5959  General Medical Consultation Viral Fever Treat...   100  \n",
       "5960  Acrylic Partial Denture Crowns and Bridges Fix...   200  "
      ]
     },
     "execution_count": 430,
     "metadata": {},
     "output_type": "execute_result"
    }
   ],
   "source": [
    "df.tail()"
   ]
  },
  {
   "cell_type": "code",
   "execution_count": 431,
   "metadata": {},
   "outputs": [
    {
     "data": {
      "text/plain": [
       "Qualification         object\n",
       "Experience            object\n",
       "Rating                object\n",
       "Place                 object\n",
       "Profile               object\n",
       "Miscellaneous_Info    object\n",
       "Fees                   int64\n",
       "dtype: object"
      ]
     },
     "execution_count": 431,
     "metadata": {},
     "output_type": "execute_result"
    }
   ],
   "source": [
    "#checking the data types\n",
    "df.dtypes"
   ]
  },
  {
   "cell_type": "code",
   "execution_count": 432,
   "metadata": {},
   "outputs": [
    {
     "data": {
      "text/plain": [
       "Index(['Qualification', 'Experience', 'Rating', 'Place', 'Profile',\n",
       "       'Miscellaneous_Info', 'Fees'],\n",
       "      dtype='object')"
      ]
     },
     "execution_count": 432,
     "metadata": {},
     "output_type": "execute_result"
    }
   ],
   "source": [
    "#checking the column values\n",
    "df.columns"
   ]
  },
  {
   "cell_type": "code",
   "execution_count": 433,
   "metadata": {},
   "outputs": [
    {
     "name": "stdout",
     "output_type": "stream",
     "text": [
      "<class 'pandas.core.frame.DataFrame'>\n",
      "RangeIndex: 5961 entries, 0 to 5960\n",
      "Data columns (total 7 columns):\n",
      " #   Column              Non-Null Count  Dtype \n",
      "---  ------              --------------  ----- \n",
      " 0   Qualification       5961 non-null   object\n",
      " 1   Experience          5961 non-null   object\n",
      " 2   Rating              2659 non-null   object\n",
      " 3   Place               5936 non-null   object\n",
      " 4   Profile             5961 non-null   object\n",
      " 5   Miscellaneous_Info  3341 non-null   object\n",
      " 6   Fees                5961 non-null   int64 \n",
      "dtypes: int64(1), object(6)\n",
      "memory usage: 326.1+ KB\n"
     ]
    }
   ],
   "source": [
    "#checking info\n",
    "df.info()"
   ]
  },
  {
   "cell_type": "code",
   "execution_count": 434,
   "metadata": {},
   "outputs": [
    {
     "data": {
      "text/plain": [
       "(5961, 7)"
      ]
     },
     "execution_count": 434,
     "metadata": {},
     "output_type": "execute_result"
    }
   ],
   "source": [
    "#cheking the shape\n",
    "df.shape"
   ]
  },
  {
   "cell_type": "markdown",
   "metadata": {},
   "source": [
    "#Observation\n",
    " There are 5961 rows and 7 columns \n",
    "FEATURES:\n",
    "\n",
    "Qualification: Qualification and degrees held by the doctor\n",
    "\n",
    "Experience: Experience of the doctor in number of years\n",
    "\n",
    "Rating: Rating given by patients\n",
    "\n",
    "Profile: Type of the doctor\n",
    "\n",
    "Miscellaeous_Info: Extra information about the doctor\n",
    "\n",
    "Fees: Fees charged by the doctor\n",
    "\n",
    "Place: Area and the city where the doctor is located."
   ]
  },
  {
   "cell_type": "markdown",
   "metadata": {},
   "source": [
    "# Summary statistics"
   ]
  },
  {
   "cell_type": "code",
   "execution_count": 435,
   "metadata": {},
   "outputs": [
    {
     "data": {
      "text/html": [
       "<div>\n",
       "<style scoped>\n",
       "    .dataframe tbody tr th:only-of-type {\n",
       "        vertical-align: middle;\n",
       "    }\n",
       "\n",
       "    .dataframe tbody tr th {\n",
       "        vertical-align: top;\n",
       "    }\n",
       "\n",
       "    .dataframe thead th {\n",
       "        text-align: right;\n",
       "    }\n",
       "</style>\n",
       "<table border=\"1\" class=\"dataframe\">\n",
       "  <thead>\n",
       "    <tr style=\"text-align: right;\">\n",
       "      <th></th>\n",
       "      <th>Qualification</th>\n",
       "      <th>Experience</th>\n",
       "      <th>Rating</th>\n",
       "      <th>Place</th>\n",
       "      <th>Profile</th>\n",
       "      <th>Miscellaneous_Info</th>\n",
       "      <th>Fees</th>\n",
       "    </tr>\n",
       "  </thead>\n",
       "  <tbody>\n",
       "    <tr>\n",
       "      <th>count</th>\n",
       "      <td>5961</td>\n",
       "      <td>5961</td>\n",
       "      <td>2659</td>\n",
       "      <td>5936</td>\n",
       "      <td>5961</td>\n",
       "      <td>3341</td>\n",
       "      <td>5961.000000</td>\n",
       "    </tr>\n",
       "    <tr>\n",
       "      <th>unique</th>\n",
       "      <td>1420</td>\n",
       "      <td>64</td>\n",
       "      <td>51</td>\n",
       "      <td>877</td>\n",
       "      <td>6</td>\n",
       "      <td>2998</td>\n",
       "      <td>NaN</td>\n",
       "    </tr>\n",
       "    <tr>\n",
       "      <th>top</th>\n",
       "      <td>BDS</td>\n",
       "      <td>9 years experience</td>\n",
       "      <td>100%</td>\n",
       "      <td>HSR Layout, Bangalore</td>\n",
       "      <td>Dentist</td>\n",
       "      <td>Acrylic Partial Denture Crowns and Bridges Fix...</td>\n",
       "      <td>NaN</td>\n",
       "    </tr>\n",
       "    <tr>\n",
       "      <th>freq</th>\n",
       "      <td>488</td>\n",
       "      <td>323</td>\n",
       "      <td>684</td>\n",
       "      <td>75</td>\n",
       "      <td>1397</td>\n",
       "      <td>40</td>\n",
       "      <td>NaN</td>\n",
       "    </tr>\n",
       "    <tr>\n",
       "      <th>mean</th>\n",
       "      <td>NaN</td>\n",
       "      <td>NaN</td>\n",
       "      <td>NaN</td>\n",
       "      <td>NaN</td>\n",
       "      <td>NaN</td>\n",
       "      <td>NaN</td>\n",
       "      <td>307.944640</td>\n",
       "    </tr>\n",
       "    <tr>\n",
       "      <th>std</th>\n",
       "      <td>NaN</td>\n",
       "      <td>NaN</td>\n",
       "      <td>NaN</td>\n",
       "      <td>NaN</td>\n",
       "      <td>NaN</td>\n",
       "      <td>NaN</td>\n",
       "      <td>190.920373</td>\n",
       "    </tr>\n",
       "    <tr>\n",
       "      <th>min</th>\n",
       "      <td>NaN</td>\n",
       "      <td>NaN</td>\n",
       "      <td>NaN</td>\n",
       "      <td>NaN</td>\n",
       "      <td>NaN</td>\n",
       "      <td>NaN</td>\n",
       "      <td>5.000000</td>\n",
       "    </tr>\n",
       "    <tr>\n",
       "      <th>25%</th>\n",
       "      <td>NaN</td>\n",
       "      <td>NaN</td>\n",
       "      <td>NaN</td>\n",
       "      <td>NaN</td>\n",
       "      <td>NaN</td>\n",
       "      <td>NaN</td>\n",
       "      <td>150.000000</td>\n",
       "    </tr>\n",
       "    <tr>\n",
       "      <th>50%</th>\n",
       "      <td>NaN</td>\n",
       "      <td>NaN</td>\n",
       "      <td>NaN</td>\n",
       "      <td>NaN</td>\n",
       "      <td>NaN</td>\n",
       "      <td>NaN</td>\n",
       "      <td>300.000000</td>\n",
       "    </tr>\n",
       "    <tr>\n",
       "      <th>75%</th>\n",
       "      <td>NaN</td>\n",
       "      <td>NaN</td>\n",
       "      <td>NaN</td>\n",
       "      <td>NaN</td>\n",
       "      <td>NaN</td>\n",
       "      <td>NaN</td>\n",
       "      <td>500.000000</td>\n",
       "    </tr>\n",
       "    <tr>\n",
       "      <th>max</th>\n",
       "      <td>NaN</td>\n",
       "      <td>NaN</td>\n",
       "      <td>NaN</td>\n",
       "      <td>NaN</td>\n",
       "      <td>NaN</td>\n",
       "      <td>NaN</td>\n",
       "      <td>950.000000</td>\n",
       "    </tr>\n",
       "  </tbody>\n",
       "</table>\n",
       "</div>"
      ],
      "text/plain": [
       "       Qualification          Experience Rating                  Place  \\\n",
       "count           5961                5961   2659                   5936   \n",
       "unique          1420                  64     51                    877   \n",
       "top              BDS  9 years experience   100%  HSR Layout, Bangalore   \n",
       "freq             488                 323    684                     75   \n",
       "mean             NaN                 NaN    NaN                    NaN   \n",
       "std              NaN                 NaN    NaN                    NaN   \n",
       "min              NaN                 NaN    NaN                    NaN   \n",
       "25%              NaN                 NaN    NaN                    NaN   \n",
       "50%              NaN                 NaN    NaN                    NaN   \n",
       "75%              NaN                 NaN    NaN                    NaN   \n",
       "max              NaN                 NaN    NaN                    NaN   \n",
       "\n",
       "        Profile                                 Miscellaneous_Info  \\\n",
       "count      5961                                               3341   \n",
       "unique        6                                               2998   \n",
       "top     Dentist  Acrylic Partial Denture Crowns and Bridges Fix...   \n",
       "freq       1397                                                 40   \n",
       "mean        NaN                                                NaN   \n",
       "std         NaN                                                NaN   \n",
       "min         NaN                                                NaN   \n",
       "25%         NaN                                                NaN   \n",
       "50%         NaN                                                NaN   \n",
       "75%         NaN                                                NaN   \n",
       "max         NaN                                                NaN   \n",
       "\n",
       "               Fees  \n",
       "count   5961.000000  \n",
       "unique          NaN  \n",
       "top             NaN  \n",
       "freq            NaN  \n",
       "mean     307.944640  \n",
       "std      190.920373  \n",
       "min        5.000000  \n",
       "25%      150.000000  \n",
       "50%      300.000000  \n",
       "75%      500.000000  \n",
       "max      950.000000  "
      ]
     },
     "execution_count": 435,
     "metadata": {},
     "output_type": "execute_result"
    }
   ],
   "source": [
    "df.describe(include=\"all\")"
   ]
  },
  {
   "cell_type": "code",
   "execution_count": 436,
   "metadata": {},
   "outputs": [],
   "source": [
    "#there are 1420 unique combinations of qulification\n",
    "#64 unique experices\n",
    "#51 unique ratings and has null values\n",
    "#values are recored in 877 different places over 6 different job profile ,place has null values\n",
    "#fees is normaly distribusted since mean and median is almost same.but chances of outliers are high"
   ]
  },
  {
   "cell_type": "markdown",
   "metadata": {},
   "source": [
    "# Data preprocessing"
   ]
  },
  {
   "cell_type": "code",
   "execution_count": 437,
   "metadata": {},
   "outputs": [],
   "source": [
    "#Converting years of experince in to float\n",
    "\n",
    "df['Experience'] = df['Experience'].str.replace(' years experience', '').astype(float)\n",
    "#it has no null values"
   ]
  },
  {
   "cell_type": "code",
   "execution_count": 438,
   "metadata": {},
   "outputs": [
    {
     "name": "stdout",
     "output_type": "stream",
     "text": [
      "-3.277800928610422\n"
     ]
    }
   ],
   "source": [
    "#conveting rating into float\n",
    "df['Rating'] = df['Rating'].str.replace('%', '').astype(float)\n",
    "#it has  null values\n",
    "print(df['Rating'].skew())\n",
    "#skewness is present hence it is better to replace with median\n",
    "df['Rating'].fillna(df['Rating'].median(),inplace=True)"
   ]
  },
  {
   "cell_type": "code",
   "execution_count": 439,
   "metadata": {},
   "outputs": [],
   "source": [
    "#place has null values lets replace it with Not_Available\n",
    "df['Place'] = df['Place'].fillna('Not_Available')\n",
    "#we can create a sperate column called area\n",
    "df['Area']=df['Place'].str.rsplit(',',1).str.get(0)\n",
    "df['Place']=df['Place'].str.rsplit(',',1).str.get(1)\n",
    "df['Place'] = df['Place'].fillna('Not_Available')"
   ]
  },
  {
   "cell_type": "code",
   "execution_count": 440,
   "metadata": {},
   "outputs": [],
   "source": [
    "#lets drop \"Miscellaneous_Info\"\n",
    "df=df.drop('Miscellaneous_Info',axis=1)"
   ]
  },
  {
   "cell_type": "code",
   "execution_count": 441,
   "metadata": {},
   "outputs": [
    {
     "data": {
      "text/plain": [
       "0"
      ]
     },
     "execution_count": 441,
     "metadata": {},
     "output_type": "execute_result"
    }
   ],
   "source": [
    "\n",
    "df['Qualification'].isnull().sum()\n"
   ]
  },
  {
   "cell_type": "code",
   "execution_count": 442,
   "metadata": {},
   "outputs": [
    {
     "name": "stdout",
     "output_type": "stream",
     "text": [
      "<class 'pandas.core.frame.DataFrame'>\n",
      "RangeIndex: 5961 entries, 0 to 5960\n",
      "Data columns (total 7 columns):\n",
      " #   Column         Non-Null Count  Dtype  \n",
      "---  ------         --------------  -----  \n",
      " 0   Qualification  5961 non-null   object \n",
      " 1   Experience     5961 non-null   float64\n",
      " 2   Rating         5961 non-null   float64\n",
      " 3   Place          5961 non-null   object \n",
      " 4   Profile        5961 non-null   object \n",
      " 5   Fees           5961 non-null   int64  \n",
      " 6   Area           5961 non-null   object \n",
      "dtypes: float64(2), int64(1), object(4)\n",
      "memory usage: 326.1+ KB\n"
     ]
    }
   ],
   "source": [
    "df.info()"
   ]
  },
  {
   "cell_type": "code",
   "execution_count": 443,
   "metadata": {},
   "outputs": [
    {
     "name": "stdout",
     "output_type": "stream",
     "text": [
      "<class 'pandas.core.frame.DataFrame'>\n",
      "RangeIndex: 5961 entries, 0 to 5960\n",
      "Data columns (total 7 columns):\n",
      " #   Column         Non-Null Count  Dtype  \n",
      "---  ------         --------------  -----  \n",
      " 0   Qualification  5961 non-null   object \n",
      " 1   Experience     5961 non-null   float64\n",
      " 2   Rating         5961 non-null   float64\n",
      " 3   Place          5961 non-null   object \n",
      " 4   Profile        5961 non-null   object \n",
      " 5   Fees           5961 non-null   int64  \n",
      " 6   Area           5961 non-null   object \n",
      "dtypes: float64(2), int64(1), object(4)\n",
      "memory usage: 326.1+ KB\n"
     ]
    }
   ],
   "source": [
    "df.info()"
   ]
  },
  {
   "cell_type": "markdown",
   "metadata": {},
   "source": [
    "# Univariant analysis"
   ]
  },
  {
   "cell_type": "code",
   "execution_count": 444,
   "metadata": {},
   "outputs": [
    {
     "name": "stdout",
     "output_type": "stream",
     "text": [
      "count    5961.000000\n",
      "mean      307.944640\n",
      "std       190.920373\n",
      "min         5.000000\n",
      "25%       150.000000\n",
      "50%       300.000000\n",
      "75%       500.000000\n",
      "max       950.000000\n",
      "Name: Fees, dtype: float64\n"
     ]
    },
    {
     "data": {
      "text/plain": [
       "<AxesSubplot:xlabel='Fees', ylabel='Density'>"
      ]
     },
     "execution_count": 444,
     "metadata": {},
     "output_type": "execute_result"
    },
    {
     "data": {
      "image/png": "[encoded data removed]",
      "text/plain": [
       "<Figure size 720x576 with 1 Axes>"
      ]
     },
     "metadata": {},
     "output_type": "display_data"
    }
   ],
   "source": [
    "#Analysis of fees\n",
    "print(df[\"Fees\"].describe())\n",
    "plt.figure(figsize=(10,8))\n",
    "sns.distplot(df[\"Fees\"],color=\"b\")"
   ]
  },
  {
   "cell_type": "code",
   "execution_count": 445,
   "metadata": {},
   "outputs": [],
   "source": [
    "#Observation\n",
    "#Avearge consultation feees all over the county is 307\n",
    "#minimum fees cahrged is 5 rs where as maximum is 950\n",
    "# about 50% of doctors charge less than 300 rs"
   ]
  },
  {
   "cell_type": "code",
   "execution_count": 446,
   "metadata": {},
   "outputs": [
    {
     "name": "stdout",
     "output_type": "stream",
     "text": [
      "count    5961.000000\n",
      "mean       95.948834\n",
      "std         5.373459\n",
      "min         7.000000\n",
      "25%        97.000000\n",
      "50%        97.000000\n",
      "75%        97.000000\n",
      "max       100.000000\n",
      "Name: Rating, dtype: float64\n",
      "0    97.0\n",
      "dtype: float64\n"
     ]
    },
    {
     "data": {
      "text/plain": [
       "<AxesSubplot:xlabel='Rating', ylabel='Density'>"
      ]
     },
     "execution_count": 446,
     "metadata": {},
     "output_type": "execute_result"
    },
    {
     "data": {
      "image/png": "[encoded data removed]",
      "text/plain": [
       "<Figure size 720x576 with 1 Axes>"
      ]
     },
     "metadata": {},
     "output_type": "display_data"
    }
   ],
   "source": [
    "#Analysis of rating\n",
    "print(df[\"Rating\"].describe())\n",
    "print(df[\"Rating\"].mode())\n",
    "plt.figure(figsize=(10,8))\n",
    "sns.distplot(df[\"Rating\"],color=\"r\")"
   ]
  },
  {
   "cell_type": "code",
   "execution_count": 447,
   "metadata": {},
   "outputs": [],
   "source": [
    "#Observation\n",
    "#Avearge rating all over the county is 95%\n",
    "#minimum rating is 7% where as maximum is 100%\n",
    "# about 75% of doctors are rated 97% or above"
   ]
  },
  {
   "cell_type": "code",
   "execution_count": 448,
   "metadata": {},
   "outputs": [
    {
     "name": "stdout",
     "output_type": "stream",
     "text": [
      "Top 10 Qualification\n",
      "BDS                                               488\n",
      "BHMS                                              477\n",
      "BAMS                                              471\n",
      "MBBS                                              334\n",
      "MBBS, MS - ENT                                    220\n",
      "MBBS, MD - Dermatology                            178\n",
      "MBBS, MD - General Medicine                       177\n",
      "MBBS, MD - Dermatology , Venereology & Leprosy    140\n",
      "BHMS, MD - Homeopathy                              93\n",
      "MBBS, DDVL                                         92\n",
      "Name: Qualification, dtype: int64\n"
     ]
    },
    {
     "data": {
      "text/plain": [
       "<AxesSubplot:ylabel='Qualification'>"
      ]
     },
     "execution_count": 448,
     "metadata": {},
     "output_type": "execute_result"
    },
    {
     "data": {
      "image/png": "[encoded data removed]",
      "text/plain": [
       "<Figure size 720x576 with 1 Axes>"
      ]
     },
     "metadata": {},
     "output_type": "display_data"
    }
   ],
   "source": [
    "#Anlysis of top 10 qualification\n",
    "df1=df[\"Qualification\"].value_counts()\n",
    "df1=df1.head(10)\n",
    "print(\"Top 10 Qualification\")\n",
    "print(df1)\n",
    "plt.figure(figsize=(10,8))\n",
    "df1.plot(kind=\"pie\")"
   ]
  },
  {
   "cell_type": "code",
   "execution_count": 449,
   "metadata": {},
   "outputs": [],
   "source": [
    "#Observation\n",
    "#Most of the doctors have atleast MBBS degree"
   ]
  },
  {
   "cell_type": "code",
   "execution_count": 450,
   "metadata": {},
   "outputs": [
    {
     "name": "stdout",
     "output_type": "stream",
     "text": [
      "Top 10 Places\n",
      " Bangalore             1258\n",
      " Mumbai                1219\n",
      " Delhi                 1185\n",
      " Hyderabad              951\n",
      " Chennai                855\n",
      " Coimbatore             228\n",
      " Ernakulam              153\n",
      " Thiruvananthapuram      86\n",
      "Not_Available            26\n",
      "Name: Place, dtype: int64\n"
     ]
    },
    {
     "data": {
      "text/plain": [
       "<AxesSubplot:ylabel='Place'>"
      ]
     },
     "execution_count": 450,
     "metadata": {},
     "output_type": "execute_result"
    },
    {
     "data": {
      "image/png": "[encoded data removed]",
      "text/plain": [
       "<Figure size 720x576 with 1 Axes>"
      ]
     },
     "metadata": {},
     "output_type": "display_data"
    }
   ],
   "source": [
    "#Anlysis of top 10 places\n",
    "df2=df[\"Place\"].value_counts()\n",
    "df2=df2.head(10)\n",
    "print(\"Top 10 Places\")\n",
    "print(df2)\n",
    "plt.figure(figsize=(10,8))\n",
    "df2.plot(kind=\"pie\")"
   ]
  },
  {
   "cell_type": "code",
   "execution_count": 451,
   "metadata": {},
   "outputs": [],
   "source": [
    "#Observation\n",
    "#most of the values are from banglore\n",
    "#banglore mumbai dehli, hydrabad and chenni are top 5 placeses"
   ]
  },
  {
   "cell_type": "code",
   "execution_count": 452,
   "metadata": {},
   "outputs": [
    {
     "name": "stdout",
     "output_type": "stream",
     "text": [
      "Dentist             1397\n",
      "General Medicine    1173\n",
      "Dermatologists      1034\n",
      "Homeopath            843\n",
      "Ayurveda             786\n",
      "ENT Specialist       728\n",
      "Name: Profile, dtype: int64\n"
     ]
    },
    {
     "data": {
      "text/plain": [
       "(array([ 843.,    0.,  786.,    0.,  728.,    0., 1397.,    0., 1173.,\n",
       "        1034.]),\n",
       " array([0. , 0.5, 1. , 1.5, 2. , 2.5, 3. , 3.5, 4. , 4.5, 5. ]),\n",
       " <BarContainer object of 10 artists>)"
      ]
     },
     "execution_count": 452,
     "metadata": {},
     "output_type": "execute_result"
    },
    {
     "data": {
      "image/png": "[encoded data removed]",
      "text/plain": [
       "<Figure size 720x576 with 1 Axes>"
      ]
     },
     "metadata": {},
     "output_type": "display_data"
    }
   ],
   "source": [
    "#Analysis of profile\n",
    "print(df[\"Profile\"].value_counts())\n",
    "plt.figure(figsize=(10,8))\n",
    "plt.hist(df[\"Profile\"],color=\"c\")"
   ]
  },
  {
   "cell_type": "code",
   "execution_count": 453,
   "metadata": {},
   "outputs": [],
   "source": [
    "#Dentist are highest followed by general medicine and dermetolagist"
   ]
  },
  {
   "cell_type": "code",
   "execution_count": 454,
   "metadata": {},
   "outputs": [
    {
     "name": "stdout",
     "output_type": "stream",
     "text": [
      "count    5961.000000\n",
      "mean       17.303976\n",
      "std        11.142798\n",
      "min         0.000000\n",
      "25%         9.000000\n",
      "50%        14.000000\n",
      "75%        23.000000\n",
      "max        66.000000\n",
      "Name: Experience, dtype: float64\n"
     ]
    },
    {
     "data": {
      "text/plain": [
       "<AxesSubplot:xlabel='Experience', ylabel='Density'>"
      ]
     },
     "execution_count": 454,
     "metadata": {},
     "output_type": "execute_result"
    },
    {
     "data": {
      "image/png": "[encoded data removed]",
      "text/plain": [
       "<Figure size 720x576 with 1 Axes>"
      ]
     },
     "metadata": {},
     "output_type": "display_data"
    }
   ],
   "source": [
    "#Analysis of Experience\n",
    "print(df[\"Experience\"].describe())\n",
    "plt.figure(figsize=(10,8))\n",
    "sns.distplot(df[\"Experience\"],color=\"g\")"
   ]
  },
  {
   "cell_type": "code",
   "execution_count": 455,
   "metadata": {},
   "outputs": [],
   "source": [
    "#Observation\n",
    "#Avearge Experience all over the county is 17\n",
    "#Minimum Experience  is 0  where as maximum is 66 years\n",
    "#About 50% of doctors have Experience less than 14 years"
   ]
  },
  {
   "cell_type": "markdown",
   "metadata": {},
   "source": [
    "# Bi variant analysis"
   ]
  },
  {
   "cell_type": "code",
   "execution_count": 456,
   "metadata": {},
   "outputs": [
    {
     "name": "stdout",
     "output_type": "stream",
     "text": [
      "Experience\n",
      "0.0     197.931034\n",
      "2.0     240.579710\n",
      "3.0     257.747748\n",
      "4.0     273.643478\n",
      "5.0     292.553191\n",
      "6.0     299.931193\n",
      "7.0     291.745833\n",
      "8.0     307.092199\n",
      "9.0     299.659443\n",
      "10.0    308.095238\n",
      "Name: Fees, dtype: float64\n"
     ]
    },
    {
     "data": {
      "image/png": "[encoded data removed]",
      "text/plain": [
       "<Figure size 1080x576 with 1 Axes>"
      ]
     },
     "metadata": {},
     "output_type": "display_data"
    }
   ],
   "source": [
    "#Analysis of experince vs fees\n",
    "df3=df.groupby(\"Experience\").mean().sort_values(by=\"Experience\",ascending=True)[\"Fees\"]\n",
    "print(df3.head(10))\n",
    "plt.figure(figsize=(15,8))\n",
    "df3.plot(kind='bar',color='brown')\n",
    "plt.xlabel(\"Experience\")\n",
    "plt.ylabel(\"Fees\")\n",
    "plt.title(\"Analysis of experince vs fees\",fontsize=20)\n",
    "plt.show()"
   ]
  },
  {
   "cell_type": "code",
   "execution_count": 457,
   "metadata": {},
   "outputs": [],
   "source": [
    "#Observation\n",
    "#As we can see fees linearly increase first few years of experince"
   ]
  },
  {
   "cell_type": "code",
   "execution_count": 458,
   "metadata": {},
   "outputs": [
    {
     "name": "stdout",
     "output_type": "stream",
     "text": [
      "Rating\n",
      "7.0     100.0\n",
      "33.0    575.0\n",
      "36.0    600.0\n",
      "40.0    700.0\n",
      "45.0    500.0\n",
      "47.0    650.0\n",
      "48.0    800.0\n",
      "53.0    100.0\n",
      "55.0    450.0\n",
      "56.0    320.0\n",
      "Name: Fees, dtype: float64\n"
     ]
    },
    {
     "data": {
      "image/png": "[encoded data removed]",
      "text/plain": [
       "<Figure size 1080x576 with 1 Axes>"
      ]
     },
     "metadata": {},
     "output_type": "display_data"
    }
   ],
   "source": [
    "#Analysis of Rating vs fees\n",
    "df4=df.groupby(\"Rating\").mean().sort_values(by=\"Rating\",ascending=True)[\"Fees\"]\n",
    "print(df4.head(10))\n",
    "plt.figure(figsize=(15,8))\n",
    "df4.plot(kind='bar',color='k')\n",
    "plt.xlabel(\"Rating\")\n",
    "plt.ylabel(\"Fees\")\n",
    "plt.title(\"Analysis of Rating vs fees\",fontsize=20)\n",
    "plt.show()"
   ]
  },
  {
   "cell_type": "code",
   "execution_count": 459,
   "metadata": {},
   "outputs": [],
   "source": [
    "#Observation\n",
    "#Average fees decerses as rating increases.so we can say high rated doctors take less fees"
   ]
  },
  {
   "cell_type": "code",
   "execution_count": 460,
   "metadata": {},
   "outputs": [
    {
     "name": "stdout",
     "output_type": "stream",
     "text": [
      "Place\n",
      " Delhi                 362.911392\n",
      " Bangalore             328.842607\n",
      " Mumbai                308.292863\n",
      " Hyderabad             307.507886\n",
      " Chennai               283.602339\n",
      " Ernakulam             188.431373\n",
      " Thiruvananthapuram    167.267442\n",
      " Coimbatore            154.298246\n",
      "Not_Available          107.692308\n",
      "Name: Fees, dtype: float64\n"
     ]
    },
    {
     "data": {
      "image/png": "[encoded data removed]",
      "text/plain": [
       "<Figure size 1080x576 with 1 Axes>"
      ]
     },
     "metadata": {},
     "output_type": "display_data"
    }
   ],
   "source": [
    "#Analysis of Place vs fees\n",
    "df4=df.groupby(\"Place\").mean()[\"Fees\"].sort_values(ascending=False)\n",
    "print(df4.head(10))\n",
    "plt.figure(figsize=(15,8))\n",
    "df4.head(10).plot(kind='bar',color='y')\n",
    "plt.xlabel(\"Place\")\n",
    "plt.ylabel(\"Fees\")\n",
    "plt.title(\"Top 10 avarage fees places \",fontsize=20)\n",
    "plt.show()"
   ]
  },
  {
   "cell_type": "code",
   "execution_count": 461,
   "metadata": {},
   "outputs": [],
   "source": [
    "#observation\n",
    "#Delhi has high avearge fees(362) followed by banglore (328)"
   ]
  },
  {
   "cell_type": "code",
   "execution_count": 462,
   "metadata": {},
   "outputs": [
    {
     "name": "stdout",
     "output_type": "stream",
     "text": [
      "Qualification\n",
      "MD - General Medicine, DM - Nephrology, MBBS                                                                                                               900.0\n",
      "MA - Psychology, BHMS                                                                                                                                      900.0\n",
      "MBBS, DNB - Dermatology & Venereology, DDVL                                                                                                                900.0\n",
      "BAMS, Member of the Royal Society for the Promotion of Health (UK) (MRSH)                                                                                  900.0\n",
      "DNB - Dermatology & Venereology, DVD, MBBS, MCPS                                                                                                           900.0\n",
      "MBBS, Fellowship in Diabetology(Royal Liverpool Academy, UK), Post Graduate Course in Diabetology, Certificate Course in Management of Thyroid Disorder    900.0\n",
      "LCEH, BHMS                                                                                                                                                 800.0\n",
      "MBBS, MD - Pediatrics, DNB - Pediatrics                                                                                                                    800.0\n",
      "MBBS, MS - ENT, DNB - ENT, Diploma in Otorhinolaryngology (DLO), FCPS (ENT)                                                                                800.0\n",
      "MBBS, MD - General Medicine, Certificate Course in Management of Thyroid Disorder, Fellowship in Diabetology(Boston School of Medicine, USA)               800.0\n",
      "Name: Fees, dtype: float64\n"
     ]
    },
    {
     "data": {
      "image/png": "[encoded data removed]",
      "text/plain": [
       "<Figure size 1080x576 with 1 Axes>"
      ]
     },
     "metadata": {},
     "output_type": "display_data"
    }
   ],
   "source": [
    "#Analysis of Place vs fees\n",
    "df4=df.groupby(\"Qualification\").mean()[\"Fees\"].sort_values(ascending=False)\n",
    "print(df4.head(10))\n",
    "plt.figure(figsize=(15,8))\n",
    "df4.head(10).plot(kind='barh',color='b')\n",
    "plt.xlabel(\"Qualification\")\n",
    "plt.ylabel(\"Fees\")\n",
    "plt.title(\"Qualification vs Fees \",fontsize=20)\n",
    "plt.show()"
   ]
  },
  {
   "cell_type": "code",
   "execution_count": 463,
   "metadata": {},
   "outputs": [],
   "source": [
    "#you can see from graph qualification of top 10 highest consultation charges"
   ]
  },
  {
   "cell_type": "code",
   "execution_count": null,
   "metadata": {},
   "outputs": [],
   "source": []
  },
  {
   "cell_type": "markdown",
   "metadata": {},
   "source": [
    "# Multivariant analysis"
   ]
  },
  {
   "cell_type": "code",
   "execution_count": 464,
   "metadata": {},
   "outputs": [
    {
     "data": {
      "text/plain": [
       "Text(0.5, 1.0, 'chart shows the top 500 constultation Fees of doctor at different places and thier rating')"
      ]
     },
     "execution_count": 464,
     "metadata": {},
     "output_type": "execute_result"
    },
    {
     "data": {
      "image/png": "[encoded data removed]",
      "text/plain": [
       "<Figure size 1080x1080 with 1 Axes>"
      ]
     },
     "metadata": {},
     "output_type": "display_data"
    }
   ],
   "source": [
    "#Anlysis of top 500 costs for 2 people at various cities and for various ratings\n",
    "df5=df.sort_values(by=\"Fees\",ascending=False)\n",
    "df5=df5.head(500)\n",
    "plt.figure(figsize=(15,15))\n",
    "sns.set_style('whitegrid')\n",
    "sns.pointplot(x='Fees', y='Place', data=df5, hue='Rating',join=False)\n",
    "plt.xlabel('Fees',{'fontsize' : 'large'})\n",
    "plt.ylabel('Place',{'fontsize':'large'})\n",
    "plt.title(\"chart shows the top 500 constultation Fees of doctor at different places and thier rating\",{'fontsize':20})"
   ]
  },
  {
   "cell_type": "code",
   "execution_count": 465,
   "metadata": {},
   "outputs": [
    {
     "data": {
      "text/plain": [
       "Experience       AxesSubplot(0.125,0.71587;0.168478x0.16413)\n",
       "Rating        AxesSubplot(0.327174,0.71587;0.168478x0.16413)\n",
       "Fees          AxesSubplot(0.529348,0.71587;0.168478x0.16413)\n",
       "dtype: object"
      ]
     },
     "execution_count": 465,
     "metadata": {},
     "output_type": "execute_result"
    },
    {
     "data": {
      "image/png": "[encoded data removed]",
      "text/plain": [
       "<Figure size 1440x1440 with 16 Axes>"
      ]
     },
     "metadata": {},
     "output_type": "display_data"
    }
   ],
   "source": [
    "#Cheking the outliers\n",
    "df.plot(kind=\"box\", subplots=True, layout=(4,4),figsize=(20,20))"
   ]
  },
  {
   "cell_type": "code",
   "execution_count": 466,
   "metadata": {},
   "outputs": [],
   "source": [
    "#columns rating and experince have heavy outliers"
   ]
  },
  {
   "cell_type": "code",
   "execution_count": 467,
   "metadata": {},
   "outputs": [
    {
     "data": {
      "text/plain": [
       "Experience    0.991089\n",
       "Rating       -5.257248\n",
       "Fees          0.751870\n",
       "dtype: float64"
      ]
     },
     "execution_count": 467,
     "metadata": {},
     "output_type": "execute_result"
    }
   ],
   "source": [
    "#Cheking skewness\n",
    "\n",
    "df.skew()"
   ]
  },
  {
   "cell_type": "code",
   "execution_count": 468,
   "metadata": {},
   "outputs": [],
   "source": [
    "#Observation\n",
    "#Doctor who is taking highest fee is presnt in chennai\n",
    "#we can see most of the doctors are from banglore delhi and mumbai have verry good rating and most of the top doctors are from these cities\n"
   ]
  },
  {
   "cell_type": "code",
   "execution_count": 473,
   "metadata": {},
   "outputs": [
    {
     "data": {
      "text/html": [
       "<div>\n",
       "<style scoped>\n",
       "    .dataframe tbody tr th:only-of-type {\n",
       "        vertical-align: middle;\n",
       "    }\n",
       "\n",
       "    .dataframe tbody tr th {\n",
       "        vertical-align: top;\n",
       "    }\n",
       "\n",
       "    .dataframe thead th {\n",
       "        text-align: right;\n",
       "    }\n",
       "</style>\n",
       "<table border=\"1\" class=\"dataframe\">\n",
       "  <thead>\n",
       "    <tr style=\"text-align: right;\">\n",
       "      <th>Profile</th>\n",
       "      <th>Ayurveda</th>\n",
       "      <th>Dentist</th>\n",
       "      <th>Dermatologists</th>\n",
       "      <th>ENT Specialist</th>\n",
       "      <th>General Medicine</th>\n",
       "      <th>Homeopath</th>\n",
       "      <th>All</th>\n",
       "    </tr>\n",
       "    <tr>\n",
       "      <th>Qualification</th>\n",
       "      <th></th>\n",
       "      <th></th>\n",
       "      <th></th>\n",
       "      <th></th>\n",
       "      <th></th>\n",
       "      <th></th>\n",
       "      <th></th>\n",
       "    </tr>\n",
       "  </thead>\n",
       "  <tbody>\n",
       "    <tr>\n",
       "      <th>All</th>\n",
       "      <td>786</td>\n",
       "      <td>1397</td>\n",
       "      <td>1034</td>\n",
       "      <td>728</td>\n",
       "      <td>1173</td>\n",
       "      <td>843</td>\n",
       "      <td>5961</td>\n",
       "    </tr>\n",
       "    <tr>\n",
       "      <th>BDS</th>\n",
       "      <td>0</td>\n",
       "      <td>488</td>\n",
       "      <td>0</td>\n",
       "      <td>0</td>\n",
       "      <td>0</td>\n",
       "      <td>0</td>\n",
       "      <td>488</td>\n",
       "    </tr>\n",
       "    <tr>\n",
       "      <th>BHMS</th>\n",
       "      <td>0</td>\n",
       "      <td>0</td>\n",
       "      <td>1</td>\n",
       "      <td>0</td>\n",
       "      <td>0</td>\n",
       "      <td>476</td>\n",
       "      <td>477</td>\n",
       "    </tr>\n",
       "    <tr>\n",
       "      <th>BAMS</th>\n",
       "      <td>470</td>\n",
       "      <td>0</td>\n",
       "      <td>0</td>\n",
       "      <td>0</td>\n",
       "      <td>0</td>\n",
       "      <td>1</td>\n",
       "      <td>471</td>\n",
       "    </tr>\n",
       "    <tr>\n",
       "      <th>MBBS</th>\n",
       "      <td>0</td>\n",
       "      <td>0</td>\n",
       "      <td>8</td>\n",
       "      <td>6</td>\n",
       "      <td>320</td>\n",
       "      <td>0</td>\n",
       "      <td>334</td>\n",
       "    </tr>\n",
       "  </tbody>\n",
       "</table>\n",
       "</div>"
      ],
      "text/plain": [
       "Profile        Ayurveda  Dentist  Dermatologists  ENT Specialist  \\\n",
       "Qualification                                                      \n",
       "All                 786     1397            1034             728   \n",
       "BDS                   0      488               0               0   \n",
       "BHMS                  0        0               1               0   \n",
       "BAMS                470        0               0               0   \n",
       "MBBS                  0        0               8               6   \n",
       "\n",
       "Profile        General Medicine  Homeopath   All  \n",
       "Qualification                                     \n",
       "All                        1173        843  5961  \n",
       "BDS                           0          0   488  \n",
       "BHMS                          0        476   477  \n",
       "BAMS                          0          1   471  \n",
       "MBBS                        320          0   334  "
      ]
     },
     "execution_count": 473,
     "metadata": {},
     "output_type": "execute_result"
    }
   ],
   "source": [
    "#Saperation of Profile Variable\n",
    "df_qualification= pd.crosstab(df.Qualification, df.Profile, margins=True)\n",
    "df_qualification=df_qualification.sort_values(by=['All'], ascending=False)\n",
    "df_qualification.head()\n"
   ]
  },
  {
   "cell_type": "code",
   "execution_count": 488,
   "metadata": {},
   "outputs": [],
   "source": [
    "#lest add seperate columns\n",
    "df['ayurveda'] = np.where((df.Profile == 'Ayurveda') & df.Qualification.str.contains(r'\\bBAMS\\b',),1,0)\n",
    "df['ayurveda_md/ms'] = np.where((df.Profile == 'Ayurveda') & df.Qualification.str.contains(r'\\bMD\\b') | df.Qualification.str.contains(r'\\bMS\\b'),1,0)\n"
   ]
  },
  {
   "cell_type": "code",
   "execution_count": 489,
   "metadata": {},
   "outputs": [],
   "source": [
    "# Dentist\n",
    "df['dentist_bds'] = np.where((df.Profile == 'Dentist') & df.Qualification.str.contains(r'\\bBDS\\b'),1,0)\n",
    "df['dentist_mds'] = np.where((df.Profile == 'Dentist') & df.Qualification.str.contains(r'\\bMDS\\b'),1,0)\n",
    "df['dentist_orthodontics'] = np.where((df.Profile == 'Dentist') & df.Qualification.str.contains(r'orthodon', case=False),1,0)\n",
    "df['dentist_periodontics'] = np.where((df.Profile == 'Dentist') & df.Qualification.str.contains(r'periodon', case=False),1,0)\n",
    "df['dentist_prosthodontics'] = np.where((df.Profile == 'Dentist') & df.Qualification.str.contains(r'prosthodon', case=False),1,0)\n",
    "df['dentist_oralandmaxi'] = np.where((df.Profile == 'Dentist') & df.Qualification.str.contains(r'Oral & Maxillofacial Surgery', case=False),1,0)\n",
    "df['dentist_cosmetic'] = np.where((df.Profile == 'Dentist') & df.Qualification.str.contains(r'cosmetic', case=False),1,0)"
   ]
  },
  {
   "cell_type": "code",
   "execution_count": 491,
   "metadata": {},
   "outputs": [],
   "source": [
    "# Dermatology\n",
    "df['dermatology_md'] = np.where((df.Profile == 'Dermatologists') & df.Qualification.str.contains(r'\\bMD\\b'),1,0)\n",
    "df['dermatology_venereology'] = np.where((df.Profile == 'Dermatologists') & (df.Qualification.str.contains(r'\\bDDV\\b') | df.Qualification.str.contains(r'venereology', case=False)),1,0)\n",
    "df['dermatology_leprosy'] = np.where((df.Profile == 'Dermatologists') & (df.Qualification.str.contains(r'\\bDDVL\\b') | df.Qualification.str.contains(r'leprosy', case=False)),1,0)\n",
    "df['dermatology_dnb'] = np.where((df.Profile == 'Dermatologists') & df.Qualification.str.contains(r'\\bDNB\\b'),1,0)\n",
    "df['dermatology_cosmetic'] = np.where((df.Profile == 'Dermatologists') & df.Qualification.str.contains(r'cosmetic', case=False),1,0)"
   ]
  },
  {
   "cell_type": "code",
   "execution_count": 493,
   "metadata": {},
   "outputs": [],
   "source": [
    "#ENT - MS, Otorhinolaryngology, Oncology\n",
    "df['ent_ms'] = np.where((df.Profile == 'ENT Specialist') & df.Qualification.str.contains(r'\\bMS\\b'),1,0)\n",
    "df['ent_otorhinolaryngology'] = np.where((df.Profile == 'ENT Specialist') & df.Qualification.str.contains(r'otorhinolaryngology', case=False),1,0)\n",
    "df['ent_oncology'] = np.where((df.Profile == 'ENT Specialist') & df.Qualification.str.contains(r'oncology', case=False),1,0)"
   ]
  },
  {
   "cell_type": "code",
   "execution_count": 494,
   "metadata": {},
   "outputs": [],
   "source": [
    "#General Medicin \n",
    "df['gm_md'] = np.where((df.Profile == 'General Medicine') & df.Qualification.str.contains(r'\\bMD\\b'),1,0)\n",
    "df['gm_cardio'] = np.where((df.Profile == 'General Medicine') & df.Qualification.str.contains(r'cardio', case=False),1,0)\n",
    "df['gm_surgery'] = np.where((df.Profile == 'General Medicine') & df.Qualification.str.contains(r'surgery', case=False),1,0)\n",
    "df['gm_diabet'] = np.where((df.Profile == 'General Medicine') & df.Qualification.str.contains(r'diabet', case=False),1,0)\n",
    "df['gm_child'] = np.where((df.Profile == 'General Medicine') & (df.Qualification.str.contains(r'child', case=False) | df.Qualification.str.contains(r'pediat', case=False)),1,0)\n",
    "df['gm_chest'] = np.where((df.Profile == 'General Medicine') & (df.Qualification.str.contains(r'chest', case=False) | df.Qualification.str.contains(r'tuber', case=False)),1,0)\n",
    "df['gm_obstet'] = np.where((df.Profile == 'General Medicine') & (df.Qualification.str.contains(r'obstet', case=False) | df.Qualification.str.contains(r'gyna', case=False)),1,0)\n",
    "df['gm_pulmonary'] = np.where((df.Profile == 'General Medicine') & df.Qualification.str.contains(r'pulmonary', case=False),1,0)\n",
    "df['gm_psych'] = np.where((df.Profile == 'General Medicine') & df.Qualification.str.contains(r'psych', case=False),1,0)\n",
    "df['gm_endocrin'] = np.where((df.Profile == 'General Medicine') & df.Qualification.str.contains(r'endocrin', case=False),1,0)\n",
    "df['gm_rheum'] = np.where((df.Profile == 'General Medicine') & df.Qualification.str.contains(r'rheum', case=False),1,0)"
   ]
  },
  {
   "cell_type": "code",
   "execution_count": 495,
   "metadata": {},
   "outputs": [
    {
     "data": {
      "text/html": [
       "<div>\n",
       "<style scoped>\n",
       "    .dataframe tbody tr th:only-of-type {\n",
       "        vertical-align: middle;\n",
       "    }\n",
       "\n",
       "    .dataframe tbody tr th {\n",
       "        vertical-align: top;\n",
       "    }\n",
       "\n",
       "    .dataframe thead th {\n",
       "        text-align: right;\n",
       "    }\n",
       "</style>\n",
       "<table border=\"1\" class=\"dataframe\">\n",
       "  <thead>\n",
       "    <tr style=\"text-align: right;\">\n",
       "      <th></th>\n",
       "      <th>Qualification</th>\n",
       "      <th>Experience</th>\n",
       "      <th>Rating</th>\n",
       "      <th>Place</th>\n",
       "      <th>Profile</th>\n",
       "      <th>Fees</th>\n",
       "      <th>Area</th>\n",
       "      <th>ayurveda</th>\n",
       "      <th>ayurveda_md</th>\n",
       "      <th>ayurveda_ms</th>\n",
       "      <th>...</th>\n",
       "      <th>gm_cardio</th>\n",
       "      <th>gm_surgery</th>\n",
       "      <th>gm_diabet</th>\n",
       "      <th>gm_child</th>\n",
       "      <th>gm_chest</th>\n",
       "      <th>gm_obstet</th>\n",
       "      <th>gm_pulmonary</th>\n",
       "      <th>gm_psych</th>\n",
       "      <th>gm_endocrin</th>\n",
       "      <th>gm_rheum</th>\n",
       "    </tr>\n",
       "  </thead>\n",
       "  <tbody>\n",
       "    <tr>\n",
       "      <th>0</th>\n",
       "      <td>BHMS, MD - Homeopathy</td>\n",
       "      <td>24.0</td>\n",
       "      <td>100.0</td>\n",
       "      <td>Ernakulam</td>\n",
       "      <td>Homeopath</td>\n",
       "      <td>100</td>\n",
       "      <td>Kakkanad</td>\n",
       "      <td>0</td>\n",
       "      <td>0</td>\n",
       "      <td>0</td>\n",
       "      <td>...</td>\n",
       "      <td>0</td>\n",
       "      <td>0</td>\n",
       "      <td>0</td>\n",
       "      <td>0</td>\n",
       "      <td>0</td>\n",
       "      <td>0</td>\n",
       "      <td>0</td>\n",
       "      <td>0</td>\n",
       "      <td>0</td>\n",
       "      <td>0</td>\n",
       "    </tr>\n",
       "    <tr>\n",
       "      <th>1</th>\n",
       "      <td>BAMS, MD - Ayurveda Medicine</td>\n",
       "      <td>12.0</td>\n",
       "      <td>98.0</td>\n",
       "      <td>Bangalore</td>\n",
       "      <td>Ayurveda</td>\n",
       "      <td>350</td>\n",
       "      <td>Whitefield</td>\n",
       "      <td>1</td>\n",
       "      <td>1</td>\n",
       "      <td>0</td>\n",
       "      <td>...</td>\n",
       "      <td>0</td>\n",
       "      <td>0</td>\n",
       "      <td>0</td>\n",
       "      <td>0</td>\n",
       "      <td>0</td>\n",
       "      <td>0</td>\n",
       "      <td>0</td>\n",
       "      <td>0</td>\n",
       "      <td>0</td>\n",
       "      <td>0</td>\n",
       "    </tr>\n",
       "    <tr>\n",
       "      <th>2</th>\n",
       "      <td>MBBS, MS - Otorhinolaryngology</td>\n",
       "      <td>9.0</td>\n",
       "      <td>97.0</td>\n",
       "      <td>Bangalore</td>\n",
       "      <td>ENT Specialist</td>\n",
       "      <td>300</td>\n",
       "      <td>Mathikere - BEL</td>\n",
       "      <td>0</td>\n",
       "      <td>0</td>\n",
       "      <td>0</td>\n",
       "      <td>...</td>\n",
       "      <td>0</td>\n",
       "      <td>0</td>\n",
       "      <td>0</td>\n",
       "      <td>0</td>\n",
       "      <td>0</td>\n",
       "      <td>0</td>\n",
       "      <td>0</td>\n",
       "      <td>0</td>\n",
       "      <td>0</td>\n",
       "      <td>0</td>\n",
       "    </tr>\n",
       "    <tr>\n",
       "      <th>3</th>\n",
       "      <td>BSc - Zoology, BAMS</td>\n",
       "      <td>12.0</td>\n",
       "      <td>97.0</td>\n",
       "      <td>Bangalore</td>\n",
       "      <td>Ayurveda</td>\n",
       "      <td>250</td>\n",
       "      <td>Bannerghatta Road</td>\n",
       "      <td>1</td>\n",
       "      <td>0</td>\n",
       "      <td>0</td>\n",
       "      <td>...</td>\n",
       "      <td>0</td>\n",
       "      <td>0</td>\n",
       "      <td>0</td>\n",
       "      <td>0</td>\n",
       "      <td>0</td>\n",
       "      <td>0</td>\n",
       "      <td>0</td>\n",
       "      <td>0</td>\n",
       "      <td>0</td>\n",
       "      <td>0</td>\n",
       "    </tr>\n",
       "    <tr>\n",
       "      <th>4</th>\n",
       "      <td>BAMS</td>\n",
       "      <td>20.0</td>\n",
       "      <td>100.0</td>\n",
       "      <td>Chennai</td>\n",
       "      <td>Ayurveda</td>\n",
       "      <td>250</td>\n",
       "      <td>Keelkattalai</td>\n",
       "      <td>1</td>\n",
       "      <td>0</td>\n",
       "      <td>0</td>\n",
       "      <td>...</td>\n",
       "      <td>0</td>\n",
       "      <td>0</td>\n",
       "      <td>0</td>\n",
       "      <td>0</td>\n",
       "      <td>0</td>\n",
       "      <td>0</td>\n",
       "      <td>0</td>\n",
       "      <td>0</td>\n",
       "      <td>0</td>\n",
       "      <td>0</td>\n",
       "    </tr>\n",
       "  </tbody>\n",
       "</table>\n",
       "<p>5 rows × 37 columns</p>\n",
       "</div>"
      ],
      "text/plain": [
       "                    Qualification  Experience  Rating       Place  \\\n",
       "0           BHMS, MD - Homeopathy        24.0   100.0   Ernakulam   \n",
       "1    BAMS, MD - Ayurveda Medicine        12.0    98.0   Bangalore   \n",
       "2  MBBS, MS - Otorhinolaryngology         9.0    97.0   Bangalore   \n",
       "3             BSc - Zoology, BAMS        12.0    97.0   Bangalore   \n",
       "4                            BAMS        20.0   100.0     Chennai   \n",
       "\n",
       "          Profile  Fees               Area  ayurveda  ayurveda_md  \\\n",
       "0       Homeopath   100           Kakkanad         0            0   \n",
       "1        Ayurveda   350         Whitefield         1            1   \n",
       "2  ENT Specialist   300    Mathikere - BEL         0            0   \n",
       "3        Ayurveda   250  Bannerghatta Road         1            0   \n",
       "4        Ayurveda   250       Keelkattalai         1            0   \n",
       "\n",
       "   ayurveda_ms  ...  gm_cardio  gm_surgery  gm_diabet  gm_child  gm_chest  \\\n",
       "0            0  ...          0           0          0         0         0   \n",
       "1            0  ...          0           0          0         0         0   \n",
       "2            0  ...          0           0          0         0         0   \n",
       "3            0  ...          0           0          0         0         0   \n",
       "4            0  ...          0           0          0         0         0   \n",
       "\n",
       "   gm_obstet  gm_pulmonary  gm_psych  gm_endocrin  gm_rheum  \n",
       "0          0             0         0            0         0  \n",
       "1          0             0         0            0         0  \n",
       "2          0             0         0            0         0  \n",
       "3          0             0         0            0         0  \n",
       "4          0             0         0            0         0  \n",
       "\n",
       "[5 rows x 37 columns]"
      ]
     },
     "execution_count": 495,
     "metadata": {},
     "output_type": "execute_result"
    }
   ],
   "source": [
    "df.head()"
   ]
  },
  {
   "cell_type": "code",
   "execution_count": 496,
   "metadata": {},
   "outputs": [],
   "source": [
    "#n0ow lets drop the qualification column\n",
    "df=df.drop('Qualification',axis=1)"
   ]
  },
  {
   "cell_type": "markdown",
   "metadata": {},
   "source": [
    "# Data cleaning and transfomration"
   ]
  },
  {
   "cell_type": "code",
   "execution_count": 497,
   "metadata": {},
   "outputs": [
    {
     "data": {
      "text/html": [
       "<div>\n",
       "<style scoped>\n",
       "    .dataframe tbody tr th:only-of-type {\n",
       "        vertical-align: middle;\n",
       "    }\n",
       "\n",
       "    .dataframe tbody tr th {\n",
       "        vertical-align: top;\n",
       "    }\n",
       "\n",
       "    .dataframe thead th {\n",
       "        text-align: right;\n",
       "    }\n",
       "</style>\n",
       "<table border=\"1\" class=\"dataframe\">\n",
       "  <thead>\n",
       "    <tr style=\"text-align: right;\">\n",
       "      <th></th>\n",
       "      <th>Experience</th>\n",
       "      <th>Rating</th>\n",
       "      <th>Place</th>\n",
       "      <th>Profile</th>\n",
       "      <th>Fees</th>\n",
       "      <th>Area</th>\n",
       "      <th>ayurveda</th>\n",
       "      <th>ayurveda_md</th>\n",
       "      <th>ayurveda_ms</th>\n",
       "      <th>dentist_bds</th>\n",
       "      <th>...</th>\n",
       "      <th>gm_cardio</th>\n",
       "      <th>gm_surgery</th>\n",
       "      <th>gm_diabet</th>\n",
       "      <th>gm_child</th>\n",
       "      <th>gm_chest</th>\n",
       "      <th>gm_obstet</th>\n",
       "      <th>gm_pulmonary</th>\n",
       "      <th>gm_psych</th>\n",
       "      <th>gm_endocrin</th>\n",
       "      <th>gm_rheum</th>\n",
       "    </tr>\n",
       "  </thead>\n",
       "  <tbody>\n",
       "    <tr>\n",
       "      <th>0</th>\n",
       "      <td>24.0</td>\n",
       "      <td>100.0</td>\n",
       "      <td>4</td>\n",
       "      <td>5</td>\n",
       "      <td>100</td>\n",
       "      <td>297</td>\n",
       "      <td>0</td>\n",
       "      <td>0</td>\n",
       "      <td>0</td>\n",
       "      <td>0</td>\n",
       "      <td>...</td>\n",
       "      <td>0</td>\n",
       "      <td>0</td>\n",
       "      <td>0</td>\n",
       "      <td>0</td>\n",
       "      <td>0</td>\n",
       "      <td>0</td>\n",
       "      <td>0</td>\n",
       "      <td>0</td>\n",
       "      <td>0</td>\n",
       "      <td>0</td>\n",
       "    </tr>\n",
       "    <tr>\n",
       "      <th>1</th>\n",
       "      <td>12.0</td>\n",
       "      <td>98.0</td>\n",
       "      <td>0</td>\n",
       "      <td>0</td>\n",
       "      <td>350</td>\n",
       "      <td>857</td>\n",
       "      <td>1</td>\n",
       "      <td>1</td>\n",
       "      <td>0</td>\n",
       "      <td>0</td>\n",
       "      <td>...</td>\n",
       "      <td>0</td>\n",
       "      <td>0</td>\n",
       "      <td>0</td>\n",
       "      <td>0</td>\n",
       "      <td>0</td>\n",
       "      <td>0</td>\n",
       "      <td>0</td>\n",
       "      <td>0</td>\n",
       "      <td>0</td>\n",
       "      <td>0</td>\n",
       "    </tr>\n",
       "    <tr>\n",
       "      <th>2</th>\n",
       "      <td>9.0</td>\n",
       "      <td>97.0</td>\n",
       "      <td>0</td>\n",
       "      <td>3</td>\n",
       "      <td>300</td>\n",
       "      <td>453</td>\n",
       "      <td>0</td>\n",
       "      <td>0</td>\n",
       "      <td>0</td>\n",
       "      <td>0</td>\n",
       "      <td>...</td>\n",
       "      <td>0</td>\n",
       "      <td>0</td>\n",
       "      <td>0</td>\n",
       "      <td>0</td>\n",
       "      <td>0</td>\n",
       "      <td>0</td>\n",
       "      <td>0</td>\n",
       "      <td>0</td>\n",
       "      <td>0</td>\n",
       "      <td>0</td>\n",
       "    </tr>\n",
       "    <tr>\n",
       "      <th>3</th>\n",
       "      <td>12.0</td>\n",
       "      <td>97.0</td>\n",
       "      <td>0</td>\n",
       "      <td>0</td>\n",
       "      <td>250</td>\n",
       "      <td>68</td>\n",
       "      <td>1</td>\n",
       "      <td>0</td>\n",
       "      <td>0</td>\n",
       "      <td>0</td>\n",
       "      <td>...</td>\n",
       "      <td>0</td>\n",
       "      <td>0</td>\n",
       "      <td>0</td>\n",
       "      <td>0</td>\n",
       "      <td>0</td>\n",
       "      <td>0</td>\n",
       "      <td>0</td>\n",
       "      <td>0</td>\n",
       "      <td>0</td>\n",
       "      <td>0</td>\n",
       "    </tr>\n",
       "    <tr>\n",
       "      <th>4</th>\n",
       "      <td>20.0</td>\n",
       "      <td>100.0</td>\n",
       "      <td>1</td>\n",
       "      <td>0</td>\n",
       "      <td>250</td>\n",
       "      <td>336</td>\n",
       "      <td>1</td>\n",
       "      <td>0</td>\n",
       "      <td>0</td>\n",
       "      <td>0</td>\n",
       "      <td>...</td>\n",
       "      <td>0</td>\n",
       "      <td>0</td>\n",
       "      <td>0</td>\n",
       "      <td>0</td>\n",
       "      <td>0</td>\n",
       "      <td>0</td>\n",
       "      <td>0</td>\n",
       "      <td>0</td>\n",
       "      <td>0</td>\n",
       "      <td>0</td>\n",
       "    </tr>\n",
       "  </tbody>\n",
       "</table>\n",
       "<p>5 rows × 36 columns</p>\n",
       "</div>"
      ],
      "text/plain": [
       "   Experience  Rating  Place  Profile  Fees  Area  ayurveda  ayurveda_md  \\\n",
       "0        24.0   100.0      4        5   100   297         0            0   \n",
       "1        12.0    98.0      0        0   350   857         1            1   \n",
       "2         9.0    97.0      0        3   300   453         0            0   \n",
       "3        12.0    97.0      0        0   250    68         1            0   \n",
       "4        20.0   100.0      1        0   250   336         1            0   \n",
       "\n",
       "   ayurveda_ms  dentist_bds  ...  gm_cardio  gm_surgery  gm_diabet  gm_child  \\\n",
       "0            0            0  ...          0           0          0         0   \n",
       "1            0            0  ...          0           0          0         0   \n",
       "2            0            0  ...          0           0          0         0   \n",
       "3            0            0  ...          0           0          0         0   \n",
       "4            0            0  ...          0           0          0         0   \n",
       "\n",
       "   gm_chest  gm_obstet  gm_pulmonary  gm_psych  gm_endocrin  gm_rheum  \n",
       "0         0          0             0         0            0         0  \n",
       "1         0          0             0         0            0         0  \n",
       "2         0          0             0         0            0         0  \n",
       "3         0          0             0         0            0         0  \n",
       "4         0          0             0         0            0         0  \n",
       "\n",
       "[5 rows x 36 columns]"
      ]
     },
     "execution_count": 497,
     "metadata": {},
     "output_type": "execute_result"
    }
   ],
   "source": [
    "\n",
    "\n",
    "## Label Encoding:\n",
    "from sklearn.preprocessing import LabelEncoder\n",
    "lb = LabelEncoder()\n",
    "\n",
    "categorical_features = list(df.select_dtypes(include=['object']).columns)\n",
    "for i in categorical_features:\n",
    "    df[i] = lb.fit_transform(df[i])\n",
    "df.head()"
   ]
  },
  {
   "cell_type": "code",
   "execution_count": 498,
   "metadata": {},
   "outputs": [
    {
     "data": {
      "text/plain": [
       "Index(['Experience', 'Rating', 'Place', 'Profile', 'Fees', 'Area', 'ayurveda',\n",
       "       'ayurveda_md', 'ayurveda_ms', 'dentist_bds', 'dentist_mds',\n",
       "       'dentist_orthodontics', 'dentist_periodontics',\n",
       "       'dentist_prosthodontics', 'dentist_oralandmaxi', 'dentist_cosmetic',\n",
       "       'ayurveda_md/ms', 'dermatology_md', 'dermatology_venereology',\n",
       "       'dermatology_leprosy', 'dermatology_dnb', 'dermatology_cosmetic',\n",
       "       'ent_ms', 'ent_otorhinolaryngology', 'ent_oncology', 'gm_md',\n",
       "       'gm_cardio', 'gm_surgery', 'gm_diabet', 'gm_child', 'gm_chest',\n",
       "       'gm_obstet', 'gm_pulmonary', 'gm_psych', 'gm_endocrin', 'gm_rheum'],\n",
       "      dtype='object')"
      ]
     },
     "execution_count": 498,
     "metadata": {},
     "output_type": "execute_result"
    },
    {
     "data": {
      "image/png": "[encoded data removed]",
      "text/plain": [
       "<Figure size 576x432 with 1 Axes>"
      ]
     },
     "metadata": {},
     "output_type": "display_data"
    }
   ],
   "source": [
    "## Checking the correlation of the column with the target variable:\n",
    "plt.figure(figsize=(8,6))\n",
    "sns.set_style('dark')\n",
    "df.drop(['Fees'],axis=1).corrwith(df['Fees']).plot(kind='bar',grid=True,color='r')\n",
    "plt.xticks(rotation=90)\n",
    "\n",
    "df.columns"
   ]
  },
  {
   "cell_type": "code",
   "execution_count": 499,
   "metadata": {},
   "outputs": [],
   "source": [
    "#experince does not have any corealtion with fees we have to drop them\n",
    "df=df.drop(['Experience','dermatology_cosmetic','gm_child'],axis=1)"
   ]
  },
  {
   "cell_type": "code",
   "execution_count": 500,
   "metadata": {},
   "outputs": [
    {
     "data": {
      "text/plain": [
       "Index(['Rating', 'Place', 'Profile', 'Fees', 'Area', 'ayurveda', 'ayurveda_md',\n",
       "       'ayurveda_ms', 'dentist_bds', 'dentist_mds', 'dentist_orthodontics',\n",
       "       'dentist_periodontics', 'dentist_prosthodontics', 'dentist_oralandmaxi',\n",
       "       'dentist_cosmetic', 'ayurveda_md/ms', 'dermatology_md',\n",
       "       'dermatology_venereology', 'dermatology_leprosy', 'dermatology_dnb',\n",
       "       'ent_ms', 'ent_otorhinolaryngology', 'ent_oncology', 'gm_md',\n",
       "       'gm_cardio', 'gm_surgery', 'gm_diabet', 'gm_chest', 'gm_obstet',\n",
       "       'gm_pulmonary', 'gm_psych', 'gm_endocrin', 'gm_rheum'],\n",
       "      dtype='object')"
      ]
     },
     "execution_count": 500,
     "metadata": {},
     "output_type": "execute_result"
    }
   ],
   "source": [
    "df.columns\n"
   ]
  },
  {
   "cell_type": "code",
   "execution_count": 537,
   "metadata": {},
   "outputs": [],
   "source": [
    "#Assigning the variables for indipendent and dependent features\n",
    "x=df.drop(labels='Fees',axis=1)\n",
    "y=df['Fees']\n"
   ]
  },
  {
   "cell_type": "code",
   "execution_count": 538,
   "metadata": {},
   "outputs": [
    {
     "data": {
      "text/plain": [
       "Rating                     -5.257248\n",
       "Place                       0.010640\n",
       "Profile                     0.108803\n",
       "Area                        0.107160\n",
       "ayurveda                    2.236555\n",
       "ayurveda_md                 5.684860\n",
       "ayurveda_ms                11.381540\n",
       "dentist_bds                 1.293695\n",
       "dentist_mds                 2.234292\n",
       "dentist_orthodontics        6.131494\n",
       "dentist_periodontics        7.690246\n",
       "dentist_prosthodontics      6.745916\n",
       "dentist_oralandmaxi         7.335969\n",
       "dentist_cosmetic           20.566987\n",
       "ayurveda_md/ms              2.165962\n",
       "dermatology_md              2.509248\n",
       "dermatology_venereology     3.084009\n",
       "dermatology_leprosy         3.178615\n",
       "dermatology_dnb             6.835134\n",
       "ent_ms                      2.967995\n",
       "ent_otorhinolaryngology     3.729493\n",
       "ent_oncology               20.566987\n",
       "gm_md                       2.956508\n",
       "gm_cardio                  13.331593\n",
       "gm_surgery                 11.131042\n",
       "gm_diabet                   6.745916\n",
       "gm_chest                   19.228917\n",
       "gm_obstet                  24.359809\n",
       "gm_pulmonary               20.566987\n",
       "gm_psych                   22.226125\n",
       "gm_endocrin                18.120015\n",
       "gm_rheum                   24.359809\n",
       "dtype: float64"
      ]
     },
     "execution_count": 538,
     "metadata": {},
     "output_type": "execute_result"
    }
   ],
   "source": [
    "x.skew()"
   ]
  },
  {
   "cell_type": "code",
   "execution_count": 539,
   "metadata": {},
   "outputs": [
    {
     "data": {
      "text/plain": [
       "0     -0.298024\n",
       "1     -0.216506\n",
       "2     -0.139151\n",
       "3     -0.268800\n",
       "4      2.236555\n",
       "5      5.684860\n",
       "6     11.381540\n",
       "7      1.293695\n",
       "8      2.234292\n",
       "9      6.131494\n",
       "10     7.690246\n",
       "11     6.745916\n",
       "12     7.335969\n",
       "13    20.566987\n",
       "14     2.165962\n",
       "15     2.509248\n",
       "16     3.084009\n",
       "17     3.178615\n",
       "18     6.835134\n",
       "19     2.967995\n",
       "20     3.729493\n",
       "21    20.566987\n",
       "22     2.956508\n",
       "23    13.331593\n",
       "24    11.131042\n",
       "25     6.745916\n",
       "26    19.228917\n",
       "27    24.359809\n",
       "28    20.566987\n",
       "29    22.226125\n",
       "30    18.120015\n",
       "31    24.359809\n",
       "dtype: float64"
      ]
     },
     "execution_count": 539,
     "metadata": {},
     "output_type": "execute_result"
    }
   ],
   "source": [
    "#lets remove skewness\n",
    "from sklearn.preprocessing import power_transform\n",
    "x=power_transform(x,method=(\"yeo-johnson\"))\n",
    "x=pd.DataFrame(x)\n",
    "x.skew()"
   ]
  },
  {
   "cell_type": "code",
   "execution_count": 540,
   "metadata": {},
   "outputs": [
    {
     "name": "stdout",
     "output_type": "stream",
     "text": [
      "StandardScaler()\n"
     ]
    }
   ],
   "source": [
    "#standardizing the values\n",
    "from sklearn.preprocessing import StandardScaler\n",
    "sl=StandardScaler()\n",
    "print(sl.fit(x))"
   ]
  },
  {
   "cell_type": "code",
   "execution_count": null,
   "metadata": {},
   "outputs": [],
   "source": [
    "\n",
    "\n"
   ]
  },
  {
   "cell_type": "markdown",
   "metadata": {},
   "source": [
    "# Model Fitting"
   ]
  },
  {
   "cell_type": "code",
   "execution_count": 560,
   "metadata": {},
   "outputs": [],
   "source": [
    "from sklearn.linear_model import LinearRegression,Lasso,Ridge,ElasticNet\n",
    "from sklearn.svm import SVR\n",
    "from sklearn.tree import DecisionTreeRegressor\n",
    "from sklearn.neighbors import KNeighborsRegressor\n",
    "\n",
    "#Importing Boosting model:\n",
    "from sklearn.ensemble import RandomForestRegressor\n",
    "from sklearn.ensemble import AdaBoostRegressor\n",
    "from sklearn.ensemble import GradientBoostingRegressor\n",
    "\n",
    "#Importing error metrices:\n",
    "from sklearn.metrics import mean_absolute_error,mean_squared_error,r2_score\n",
    "#Optimizer\n",
    "from sklearn.model_selection import GridSearchCV,cross_val_score\n",
    "from sklearn.model_selection import RandomizedSearchCV\n",
    "from sklearn.metrics import make_scorer\n",
    "from sklearn.model_selection import train_test_split\n",
    "import warnings\n",
    "warnings.filterwarnings(\"ignore\")"
   ]
  },
  {
   "cell_type": "code",
   "execution_count": 542,
   "metadata": {},
   "outputs": [],
   "source": [
    "#Define a function to try different train test folds\n",
    "def model_select(model):\n",
    "    max_score=0\n",
    "    max_state=0\n",
    "    for i in range(0,105):\n",
    "        x_train, x_test, y_train, y_test = train_test_split(x, y, test_size=0.20, random_state=i)\n",
    "        md=model()\n",
    "        md.fit(x_train,y_train)\n",
    "        predict=md.predict(x_test)\n",
    "        r2score=r2_score(y_test,predict)\n",
    "        if r2score>max_score:\n",
    "            max_score=r2score\n",
    "            max_state=i\n",
    "    print(\"Max score is {} with random state {}\".format(max_score,max_state))"
   ]
  },
  {
   "cell_type": "code",
   "execution_count": 543,
   "metadata": {},
   "outputs": [
    {
     "name": "stdout",
     "output_type": "stream",
     "text": [
      "Max score is 0.16204901489746892 with random state 27\n"
     ]
    }
   ],
   "source": [
    "model_select(LinearRegression)"
   ]
  },
  {
   "cell_type": "code",
   "execution_count": 544,
   "metadata": {},
   "outputs": [
    {
     "name": "stdout",
     "output_type": "stream",
     "text": [
      "Max score is 0.11425825564029868 with random state 44\n"
     ]
    }
   ],
   "source": [
    "model_select(KNeighborsRegressor)"
   ]
  },
  {
   "cell_type": "code",
   "execution_count": 545,
   "metadata": {},
   "outputs": [
    {
     "name": "stdout",
     "output_type": "stream",
     "text": [
      "Max score is 0 with random state 0\n"
     ]
    }
   ],
   "source": [
    "model_select(DecisionTreeRegressor)"
   ]
  },
  {
   "cell_type": "code",
   "execution_count": 546,
   "metadata": {},
   "outputs": [
    {
     "name": "stdout",
     "output_type": "stream",
     "text": [
      "Max score is 0.1919874921166833 with random state 95\n"
     ]
    }
   ],
   "source": [
    "model_select(RandomForestRegressor)"
   ]
  },
  {
   "cell_type": "code",
   "execution_count": 547,
   "metadata": {},
   "outputs": [
    {
     "name": "stdout",
     "output_type": "stream",
     "text": [
      "Max score is 0.1409066092547554 with random state 27\n"
     ]
    }
   ],
   "source": [
    "model_select(AdaBoostRegressor)"
   ]
  },
  {
   "cell_type": "code",
   "execution_count": 548,
   "metadata": {},
   "outputs": [
    {
     "name": "stdout",
     "output_type": "stream",
     "text": [
      "Max score is 0.22363364321728885 with random state 63\n"
     ]
    }
   ],
   "source": [
    "model_select(GradientBoostingRegressor)"
   ]
  },
  {
   "cell_type": "code",
   "execution_count": 549,
   "metadata": {},
   "outputs": [
    {
     "name": "stdout",
     "output_type": "stream",
     "text": [
      "Max score is 0.1620261411076943 with random state 27\n"
     ]
    }
   ],
   "source": [
    "model_select(Ridge)"
   ]
  },
  {
   "cell_type": "code",
   "execution_count": 550,
   "metadata": {},
   "outputs": [
    {
     "name": "stdout",
     "output_type": "stream",
     "text": [
      "Max score is 0.15721692844965174 with random state 27\n"
     ]
    }
   ],
   "source": [
    "model_select(Lasso)"
   ]
  },
  {
   "cell_type": "code",
   "execution_count": 551,
   "metadata": {},
   "outputs": [
    {
     "name": "stdout",
     "output_type": "stream",
     "text": [
      "Max score is 0.1369543732009938 with random state 27\n"
     ]
    }
   ],
   "source": [
    "model_select(ElasticNet)"
   ]
  },
  {
   "cell_type": "code",
   "execution_count": 552,
   "metadata": {},
   "outputs": [],
   "source": [
    "#from above model performance we can see that RandomForestRegressor and GradientBoostingRegressor gives best accuracy "
   ]
  },
  {
   "cell_type": "code",
   "execution_count": 554,
   "metadata": {},
   "outputs": [
    {
     "name": "stdout",
     "output_type": "stream",
     "text": [
      "(4768, 32) (1193, 32)\n"
     ]
    }
   ],
   "source": [
    "x_train,x_test, y_train, y_test = train_test_split(x, y, test_size=0.20, random_state=95)\n",
    "print(x_train.shape, x_test.shape)"
   ]
  },
  {
   "cell_type": "code",
   "execution_count": 579,
   "metadata": {},
   "outputs": [
    {
     "data": {
      "text/plain": [
       "{'bootstrap': True,\n",
       " 'max_features': 'auto',\n",
       " 'min_samples_split': 8,\n",
       " 'n_estimators': 500}"
      ]
     },
     "execution_count": 579,
     "metadata": {},
     "output_type": "execute_result"
    }
   ],
   "source": [
    "#Hyperparameter tuning\n",
    "#First we will see randomforest regressor\n",
    "estimator = RandomForestRegressor()\n",
    "param_grid = { \n",
    "            \"n_estimators\"      : [10,50,100,200,500],\n",
    "            \"max_features\"      : [\"auto\", \"sqrt\", \"log2\"],\n",
    "            \"min_samples_split\" : [2,4,8],\n",
    "            \"bootstrap\": [True, False],\n",
    "            }\n",
    "\n",
    "grid = GridSearchCV(estimator, param_grid, n_jobs=-1, cv=5)\n",
    "\n",
    "grid.fit(x_train, y_train)\n",
    "\n",
    "\n",
    "grid.best_params_"
   ]
  },
  {
   "cell_type": "code",
   "execution_count": 580,
   "metadata": {},
   "outputs": [
    {
     "name": "stdout",
     "output_type": "stream",
     "text": [
      "0.7857942235457498\n"
     ]
    }
   ],
   "source": [
    "rf =RandomForestRegressor(bootstrap=True,max_features='log2',min_samples_split=2,n_estimators=500)\n",
    "\n",
    "\n",
    "rf.fit(x_train,y_train)\n",
    "print(rf.score(x_train, y_train))"
   ]
  },
  {
   "cell_type": "code",
   "execution_count": 581,
   "metadata": {},
   "outputs": [
    {
     "data": {
      "text/plain": [
       "{'learning_rate': 0.02, 'max_depth': 4, 'n_estimators': 500, 'subsample': 0.5}"
      ]
     },
     "execution_count": 581,
     "metadata": {},
     "output_type": "execute_result"
    }
   ],
   "source": [
    "#Lets chek with gradiant boost regressor\n",
    "model = GradientBoostingRegressor()\n",
    "parameters = {'learning_rate': [0.001,0.01,0.1,0.02,0.03,1],\n",
    "              'subsample'    : [0.9, 0.5, 0.2],\n",
    "              'n_estimators' : [100,500,1000],\n",
    "              'max_depth'    : [4,6,8]}\n",
    "grid = GridSearchCV(estimator=model, param_grid = parameters, cv = 2, n_jobs=-1)\n",
    "grid.fit(x_train, y_train)\n",
    "grid.best_params_"
   ]
  },
  {
   "cell_type": "code",
   "execution_count": 582,
   "metadata": {},
   "outputs": [
    {
     "name": "stdout",
     "output_type": "stream",
     "text": [
      "0.25299750034080315\n"
     ]
    }
   ],
   "source": [
    "gb=GradientBoostingRegressor()\n",
    "gb.fit(x_train,y_train)\n",
    "print(gb.score(x_train, y_train))"
   ]
  },
  {
   "cell_type": "code",
   "execution_count": 583,
   "metadata": {},
   "outputs": [
    {
     "data": {
      "text/plain": [
       "0.056686100542640075"
      ]
     },
     "execution_count": 583,
     "metadata": {},
     "output_type": "execute_result"
    }
   ],
   "source": [
    "#we can see random forest perform best\n",
    "#lest chek cv score\n",
    "cross_val_score(rf,x_train,y_train,cv=5).mean()"
   ]
  },
  {
   "cell_type": "code",
   "execution_count": 589,
   "metadata": {},
   "outputs": [
    {
     "data": {
      "text/plain": [
       "0       180.456190\n",
       "1       258.472121\n",
       "2       187.483333\n",
       "3       328.127143\n",
       "4       398.060000\n",
       "           ...    \n",
       "1188    277.746667\n",
       "1189    170.738918\n",
       "1190    294.564286\n",
       "1191    359.108333\n",
       "1192    505.506786\n",
       "Length: 1193, dtype: float64"
      ]
     },
     "execution_count": 589,
     "metadata": {},
     "output_type": "execute_result"
    }
   ],
   "source": [
    "#lets try to predict the values\n",
    "predict=rf.predict(x_test)\n",
    "\n",
    "pd.Series(predict)"
   ]
  },
  {
   "cell_type": "code",
   "execution_count": 590,
   "metadata": {},
   "outputs": [
    {
     "name": "stdout",
     "output_type": "stream",
     "text": [
      "R2 score is 0.13245542743493188\n",
      "Mean absolute error is 136.41623888351063\n",
      "Mean squared error is 32351.941823842644\n"
     ]
    }
   ],
   "source": [
    "print(\"R2 score is \"+str(r2_score(y_test,predict)))\n",
    "print(\"Mean absolute error is \"+str(mean_absolute_error(y_test,predict)))\n",
    "print(\"Mean squared error is \"+str(mean_squared_error(y_test,predict)))"
   ]
  },
  {
   "cell_type": "code",
   "execution_count": 591,
   "metadata": {},
   "outputs": [
    {
     "data": {
      "text/plain": [
       "2763    600\n",
       "114     250\n",
       "1982    200\n",
       "1103    150\n",
       "5778    500\n",
       "       ... \n",
       "1954    250\n",
       "1110    100\n",
       "3998    100\n",
       "5656    300\n",
       "4861    300\n",
       "Name: Fees, Length: 1193, dtype: int64"
      ]
     },
     "execution_count": 591,
     "metadata": {},
     "output_type": "execute_result"
    }
   ],
   "source": [
    "y_test"
   ]
  },
  {
   "cell_type": "code",
   "execution_count": 592,
   "metadata": {},
   "outputs": [
    {
     "data": {
      "text/plain": [
       "Text(0.5, 1.0, 'Predicted y vs y test')"
      ]
     },
     "execution_count": 592,
     "metadata": {},
     "output_type": "execute_result"
    },
    {
     "data": {
      "image/png": "[encoded data removed]",
      "text/plain": [
       "<Figure size 432x288 with 1 Axes>"
      ]
     },
     "metadata": {},
     "output_type": "display_data"
    }
   ],
   "source": [
    "# Plotting the actual y and predicted y\n",
    "sns.regplot(x=y_test,y=predict)\n",
    "plt.xlabel('Y Test')\n",
    "plt.ylabel('Predicted Y')\n",
    "plt.title(\"Predicted y vs y test\")"
   ]
  },
  {
   "cell_type": "code",
   "execution_count": 593,
   "metadata": {},
   "outputs": [],
   "source": [
    "#lets save this model since this is the maximum accuracy we get\n",
    "#Random forest performs best\n",
    "#now we can the predict the fees based on the atributes values\n",
    "import pickle"
   ]
  },
  {
   "cell_type": "code",
   "execution_count": 594,
   "metadata": {},
   "outputs": [],
   "source": [
    "filename=\"Doctors_fees_train.pkl\"\n",
    "pickle.dump(rf,open(filename,\"wb\"))"
   ]
  },
  {
   "cell_type": "markdown",
   "metadata": {},
   "source": [
    "We have Successfully saved our best model and now we will load the test data and do all the preprocessing and cleaning on our test data and then we will load our saved model from pickle library and apply it on our cleaned test data"
   ]
  },
  {
   "cell_type": "code",
   "execution_count": 595,
   "metadata": {},
   "outputs": [],
   "source": [
    "#Let's load the test Data "
   ]
  },
  {
   "cell_type": "code",
   "execution_count": 597,
   "metadata": {},
   "outputs": [],
   "source": [
    "df_test=pd.read_excel(\"Final_Test.xlsx\")"
   ]
  },
  {
   "cell_type": "code",
   "execution_count": 598,
   "metadata": {},
   "outputs": [
    {
     "data": {
      "text/html": [
       "<div>\n",
       "<style scoped>\n",
       "    .dataframe tbody tr th:only-of-type {\n",
       "        vertical-align: middle;\n",
       "    }\n",
       "\n",
       "    .dataframe tbody tr th {\n",
       "        vertical-align: top;\n",
       "    }\n",
       "\n",
       "    .dataframe thead th {\n",
       "        text-align: right;\n",
       "    }\n",
       "</style>\n",
       "<table border=\"1\" class=\"dataframe\">\n",
       "  <thead>\n",
       "    <tr style=\"text-align: right;\">\n",
       "      <th></th>\n",
       "      <th>Qualification</th>\n",
       "      <th>Experience</th>\n",
       "      <th>Rating</th>\n",
       "      <th>Place</th>\n",
       "      <th>Profile</th>\n",
       "      <th>Miscellaneous_Info</th>\n",
       "    </tr>\n",
       "  </thead>\n",
       "  <tbody>\n",
       "    <tr>\n",
       "      <th>0</th>\n",
       "      <td>MBBS</td>\n",
       "      <td>35 years experience</td>\n",
       "      <td>NaN</td>\n",
       "      <td>Ghatkopar East, Mumbai</td>\n",
       "      <td>General Medicine</td>\n",
       "      <td>NaN</td>\n",
       "    </tr>\n",
       "    <tr>\n",
       "      <th>1</th>\n",
       "      <td>MBBS, Diploma in Otorhinolaryngology (DLO)</td>\n",
       "      <td>31 years experience</td>\n",
       "      <td>NaN</td>\n",
       "      <td>West Marredpally, Hyderabad</td>\n",
       "      <td>ENT Specialist</td>\n",
       "      <td>NaN</td>\n",
       "    </tr>\n",
       "    <tr>\n",
       "      <th>2</th>\n",
       "      <td>MBBS, DDVL</td>\n",
       "      <td>40 years experience</td>\n",
       "      <td>70%</td>\n",
       "      <td>KK Nagar, Chennai</td>\n",
       "      <td>Dermatologists</td>\n",
       "      <td>70% 4 Feedback KK Nagar, Chennai</td>\n",
       "    </tr>\n",
       "    <tr>\n",
       "      <th>3</th>\n",
       "      <td>BAMS</td>\n",
       "      <td>0 years experience</td>\n",
       "      <td>NaN</td>\n",
       "      <td>New Ashok Nagar, Delhi</td>\n",
       "      <td>Ayurveda</td>\n",
       "      <td>NaN</td>\n",
       "    </tr>\n",
       "    <tr>\n",
       "      <th>4</th>\n",
       "      <td>BDS, MDS - Conservative Dentistry &amp; Endodontics</td>\n",
       "      <td>16 years experience</td>\n",
       "      <td>100%</td>\n",
       "      <td>Kanakpura Road, Bangalore</td>\n",
       "      <td>Dentist</td>\n",
       "      <td>General Dentistry Conservative Dentistry Cosme...</td>\n",
       "    </tr>\n",
       "  </tbody>\n",
       "</table>\n",
       "</div>"
      ],
      "text/plain": [
       "                                     Qualification           Experience  \\\n",
       "0                                             MBBS  35 years experience   \n",
       "1       MBBS, Diploma in Otorhinolaryngology (DLO)  31 years experience   \n",
       "2                                       MBBS, DDVL  40 years experience   \n",
       "3                                             BAMS   0 years experience   \n",
       "4  BDS, MDS - Conservative Dentistry & Endodontics  16 years experience   \n",
       "\n",
       "  Rating                        Place           Profile  \\\n",
       "0    NaN       Ghatkopar East, Mumbai  General Medicine   \n",
       "1    NaN  West Marredpally, Hyderabad    ENT Specialist   \n",
       "2    70%            KK Nagar, Chennai    Dermatologists   \n",
       "3    NaN       New Ashok Nagar, Delhi          Ayurveda   \n",
       "4   100%    Kanakpura Road, Bangalore           Dentist   \n",
       "\n",
       "                                  Miscellaneous_Info  \n",
       "0                                                NaN  \n",
       "1                                                NaN  \n",
       "2                   70% 4 Feedback KK Nagar, Chennai  \n",
       "3                                                NaN  \n",
       "4  General Dentistry Conservative Dentistry Cosme...  "
      ]
     },
     "execution_count": 598,
     "metadata": {},
     "output_type": "execute_result"
    }
   ],
   "source": [
    "#Lets have some insighest of data\n",
    "df_test.head()"
   ]
  },
  {
   "cell_type": "code",
   "execution_count": 599,
   "metadata": {},
   "outputs": [
    {
     "data": {
      "text/html": [
       "<div>\n",
       "<style scoped>\n",
       "    .dataframe tbody tr th:only-of-type {\n",
       "        vertical-align: middle;\n",
       "    }\n",
       "\n",
       "    .dataframe tbody tr th {\n",
       "        vertical-align: top;\n",
       "    }\n",
       "\n",
       "    .dataframe thead th {\n",
       "        text-align: right;\n",
       "    }\n",
       "</style>\n",
       "<table border=\"1\" class=\"dataframe\">\n",
       "  <thead>\n",
       "    <tr style=\"text-align: right;\">\n",
       "      <th></th>\n",
       "      <th>Qualification</th>\n",
       "      <th>Experience</th>\n",
       "      <th>Rating</th>\n",
       "      <th>Place</th>\n",
       "      <th>Profile</th>\n",
       "      <th>Miscellaneous_Info</th>\n",
       "    </tr>\n",
       "  </thead>\n",
       "  <tbody>\n",
       "    <tr>\n",
       "      <th>1982</th>\n",
       "      <td>BAMS, Doctor of Medicine</td>\n",
       "      <td>10 years experience</td>\n",
       "      <td>NaN</td>\n",
       "      <td>Basavanagudi, Bangalore</td>\n",
       "      <td>Ayurveda</td>\n",
       "      <td>NaN</td>\n",
       "    </tr>\n",
       "    <tr>\n",
       "      <th>1983</th>\n",
       "      <td>MD - Dermatology , Venereology &amp; Leprosy, MBBS</td>\n",
       "      <td>4 years experience</td>\n",
       "      <td>NaN</td>\n",
       "      <td>Choolai, Chennai</td>\n",
       "      <td>Dermatologists</td>\n",
       "      <td>NaN</td>\n",
       "    </tr>\n",
       "    <tr>\n",
       "      <th>1984</th>\n",
       "      <td>MBBS, MD / MS - Obstetrics &amp; Gynaecology</td>\n",
       "      <td>9 years experience</td>\n",
       "      <td>NaN</td>\n",
       "      <td>Porur, Chennai</td>\n",
       "      <td>General Medicine</td>\n",
       "      <td>NaN</td>\n",
       "    </tr>\n",
       "    <tr>\n",
       "      <th>1985</th>\n",
       "      <td>BDS</td>\n",
       "      <td>12 years experience</td>\n",
       "      <td>98%</td>\n",
       "      <td>Arekere, Bangalore</td>\n",
       "      <td>Dentist</td>\n",
       "      <td>RCT - Root Canal Treatment Root Canal Treatmen...</td>\n",
       "    </tr>\n",
       "    <tr>\n",
       "      <th>1986</th>\n",
       "      <td>MBBS, MD - Dermatology , Venereology &amp; Leprosy</td>\n",
       "      <td>8 years experience</td>\n",
       "      <td>NaN</td>\n",
       "      <td>Pallikaranai, Chennai</td>\n",
       "      <td>Dermatologists</td>\n",
       "      <td>1 Feedback Pallikaranai, Chennai ₹500</td>\n",
       "    </tr>\n",
       "  </tbody>\n",
       "</table>\n",
       "</div>"
      ],
      "text/plain": [
       "                                       Qualification           Experience  \\\n",
       "1982                        BAMS, Doctor of Medicine  10 years experience   \n",
       "1983  MD - Dermatology , Venereology & Leprosy, MBBS   4 years experience   \n",
       "1984        MBBS, MD / MS - Obstetrics & Gynaecology   9 years experience   \n",
       "1985                                             BDS  12 years experience   \n",
       "1986  MBBS, MD - Dermatology , Venereology & Leprosy   8 years experience   \n",
       "\n",
       "     Rating                    Place           Profile  \\\n",
       "1982    NaN  Basavanagudi, Bangalore          Ayurveda   \n",
       "1983    NaN         Choolai, Chennai    Dermatologists   \n",
       "1984    NaN           Porur, Chennai  General Medicine   \n",
       "1985    98%       Arekere, Bangalore           Dentist   \n",
       "1986    NaN    Pallikaranai, Chennai    Dermatologists   \n",
       "\n",
       "                                     Miscellaneous_Info  \n",
       "1982                                                NaN  \n",
       "1983                                                NaN  \n",
       "1984                                                NaN  \n",
       "1985  RCT - Root Canal Treatment Root Canal Treatmen...  \n",
       "1986              1 Feedback Pallikaranai, Chennai ₹500  "
      ]
     },
     "execution_count": 599,
     "metadata": {},
     "output_type": "execute_result"
    }
   ],
   "source": [
    "df_test.tail()"
   ]
  },
  {
   "cell_type": "code",
   "execution_count": 600,
   "metadata": {},
   "outputs": [
    {
     "name": "stdout",
     "output_type": "stream",
     "text": [
      "<class 'pandas.core.frame.DataFrame'>\n",
      "RangeIndex: 1987 entries, 0 to 1986\n",
      "Data columns (total 6 columns):\n",
      " #   Column              Non-Null Count  Dtype \n",
      "---  ------              --------------  ----- \n",
      " 0   Qualification       1987 non-null   object\n",
      " 1   Experience          1987 non-null   object\n",
      " 2   Rating              897 non-null    object\n",
      " 3   Place               1981 non-null   object\n",
      " 4   Profile             1987 non-null   object\n",
      " 5   Miscellaneous_Info  1153 non-null   object\n",
      "dtypes: object(6)\n",
      "memory usage: 93.3+ KB\n"
     ]
    }
   ],
   "source": [
    "df_test.info()"
   ]
  },
  {
   "cell_type": "code",
   "execution_count": 601,
   "metadata": {},
   "outputs": [
    {
     "data": {
      "text/plain": [
       "Qualification            0\n",
       "Experience               0\n",
       "Rating                1090\n",
       "Place                    6\n",
       "Profile                  0\n",
       "Miscellaneous_Info     834\n",
       "dtype: int64"
      ]
     },
     "execution_count": 601,
     "metadata": {},
     "output_type": "execute_result"
    }
   ],
   "source": [
    "df_test.isnull().sum()"
   ]
  },
  {
   "cell_type": "code",
   "execution_count": 602,
   "metadata": {},
   "outputs": [
    {
     "data": {
      "text/plain": [
       "(1987, 6)"
      ]
     },
     "execution_count": 602,
     "metadata": {},
     "output_type": "execute_result"
    }
   ],
   "source": [
    "df_test.shape"
   ]
  },
  {
   "cell_type": "code",
   "execution_count": 603,
   "metadata": {},
   "outputs": [
    {
     "data": {
      "text/html": [
       "<div>\n",
       "<style scoped>\n",
       "    .dataframe tbody tr th:only-of-type {\n",
       "        vertical-align: middle;\n",
       "    }\n",
       "\n",
       "    .dataframe tbody tr th {\n",
       "        vertical-align: top;\n",
       "    }\n",
       "\n",
       "    .dataframe thead th {\n",
       "        text-align: right;\n",
       "    }\n",
       "</style>\n",
       "<table border=\"1\" class=\"dataframe\">\n",
       "  <thead>\n",
       "    <tr style=\"text-align: right;\">\n",
       "      <th></th>\n",
       "      <th>Qualification</th>\n",
       "      <th>Experience</th>\n",
       "      <th>Rating</th>\n",
       "      <th>Place</th>\n",
       "      <th>Profile</th>\n",
       "      <th>Miscellaneous_Info</th>\n",
       "    </tr>\n",
       "  </thead>\n",
       "  <tbody>\n",
       "    <tr>\n",
       "      <th>count</th>\n",
       "      <td>1987</td>\n",
       "      <td>1987</td>\n",
       "      <td>897</td>\n",
       "      <td>1981</td>\n",
       "      <td>1987</td>\n",
       "      <td>1153</td>\n",
       "    </tr>\n",
       "    <tr>\n",
       "      <th>unique</th>\n",
       "      <td>630</td>\n",
       "      <td>57</td>\n",
       "      <td>36</td>\n",
       "      <td>592</td>\n",
       "      <td>6</td>\n",
       "      <td>1084</td>\n",
       "    </tr>\n",
       "    <tr>\n",
       "      <th>top</th>\n",
       "      <td>BAMS</td>\n",
       "      <td>10 years experience</td>\n",
       "      <td>100%</td>\n",
       "      <td>Andheri West, Mumbai</td>\n",
       "      <td>General Medicine</td>\n",
       "      <td>Acrylic Partial Denture Crowns and Bridges Fix...</td>\n",
       "    </tr>\n",
       "    <tr>\n",
       "      <th>freq</th>\n",
       "      <td>153</td>\n",
       "      <td>110</td>\n",
       "      <td>223</td>\n",
       "      <td>27</td>\n",
       "      <td>444</td>\n",
       "      <td>10</td>\n",
       "    </tr>\n",
       "  </tbody>\n",
       "</table>\n",
       "</div>"
      ],
      "text/plain": [
       "       Qualification           Experience Rating                 Place  \\\n",
       "count           1987                 1987    897                  1981   \n",
       "unique           630                   57     36                   592   \n",
       "top             BAMS  10 years experience   100%  Andheri West, Mumbai   \n",
       "freq             153                  110    223                    27   \n",
       "\n",
       "                 Profile                                 Miscellaneous_Info  \n",
       "count               1987                                               1153  \n",
       "unique                 6                                               1084  \n",
       "top     General Medicine  Acrylic Partial Denture Crowns and Bridges Fix...  \n",
       "freq                 444                                                 10  "
      ]
     },
     "execution_count": 603,
     "metadata": {},
     "output_type": "execute_result"
    }
   ],
   "source": [
    "df_test.describe(include=\"all\")"
   ]
  },
  {
   "cell_type": "markdown",
   "metadata": {},
   "source": [
    "# DATA cleaning and transforming"
   ]
  },
  {
   "cell_type": "code",
   "execution_count": 604,
   "metadata": {},
   "outputs": [
    {
     "name": "stdout",
     "output_type": "stream",
     "text": [
      "-2.5613958323551618\n"
     ]
    }
   ],
   "source": [
    "df_test['Rating'] = df_test['Rating'].str.replace('%', '').astype(float)\n",
    "#it has  null values\n",
    "print(df_test['Rating'].skew())\n",
    "#skewness is present hence it is better to replace with median\n",
    "df_test['Rating'].fillna(df_test['Rating'].median(),inplace=True)"
   ]
  },
  {
   "cell_type": "code",
   "execution_count": 605,
   "metadata": {},
   "outputs": [],
   "source": [
    "#place has null values lets replace it with Not_Available\n",
    "df_test['Place'] = df_test['Place'].fillna('Not_Available')\n",
    "#we can create a sperate column called area\n",
    "df_test['Area']=df_test['Place'].str.rsplit(',',1).str.get(0)\n",
    "df_test['Place']=df_test['Place'].str.rsplit(',',1).str.get(1)\n",
    "df_test['Place'] = df_test['Place'].fillna('Not_Available')"
   ]
  },
  {
   "cell_type": "code",
   "execution_count": 606,
   "metadata": {},
   "outputs": [],
   "source": [
    "#lets drop \"Miscellaneous_Info\"\n",
    "df_test=df_test.drop('Miscellaneous_Info',axis=1)"
   ]
  },
  {
   "cell_type": "code",
   "execution_count": 608,
   "metadata": {},
   "outputs": [],
   "source": [
    "df_test['ayurveda'] = np.where((df_test.Profile == 'Ayurveda') & df_test.Qualification.str.contains(r'\\bBAMS\\b',),1,0)\n",
    "df_test['ayurveda_md/ms'] = np.where((df_test.Profile == 'Ayurveda') & df_test.Qualification.str.contains(r'\\bMD\\b') | df_test.Qualification.str.contains(r'\\bMS\\b'),1,0)\n",
    "df_test['dermatology_md'] = np.where((df_test.Profile == 'Dermatologists') & df_test.Qualification.str.contains(r'\\bMD\\b'),1,0)\n",
    "df_test['dermatology_venereology'] = np.where((df_test.Profile == 'Dermatologists') & (df_test.Qualification.str.contains(r'\\bDDV\\b') | df_test.Qualification.str.contains(r'venereology', case=False)),1,0)\n",
    "df_test['dermatology_leprosy'] = np.where((df_test.Profile == 'Dermatologists') & (df_test.Qualification.str.contains(r'\\bDDVL\\b') | df_test.Qualification.str.contains(r'leprosy', case=False)),1,0)\n",
    "df_test['dermatology_dnb'] = np.where((df_test.Profile == 'Dermatologists') & df_test.Qualification.str.contains(r'\\bDNB\\b'),1,0)\n",
    "df_test['dermatology_cosmetic'] = np.where((df_test.Profile == 'Dermatologists') & df_test.Qualification.str.contains(r'cosmetic', case=False),1,0)\n",
    "df_test['ent_ms'] = np.where((df_test.Profile == 'ENT Specialist') & df_test.Qualification.str.contains(r'\\bMS\\b'),1,0)\n",
    "df_test['ent_otorhinolaryngology'] = np.where((df_test.Profile == 'ENT Specialist') & df_test.Qualification.str.contains(r'otorhinolaryngology', case=False),1,0)\n",
    "df_test['ent_oncology'] = np.where((df_test.Profile == 'ENT Specialist') & df_test.Qualification.str.contains(r'oncology', case=False),1,0)\n",
    "df_test['gm_md'] = np.where((df_test.Profile == 'General Medicine') & df_test.Qualification.str.contains(r'\\bMD\\b'),1,0)\n",
    "df_test['gm_cardio'] = np.where((df_test.Profile == 'General Medicine') & df_test.Qualification.str.contains(r'cardio', case=False),1,0)\n",
    "df_test['gm_surgery'] = np.where((df_test.Profile == 'General Medicine') & df_test.Qualification.str.contains(r'surgery', case=False),1,0)\n",
    "df_test['gm_diabet'] = np.where((df_test.Profile == 'General Medicine') & df_test.Qualification.str.contains(r'diabet', case=False),1,0)\n",
    "df_test['gm_child'] = np.where((df_test.Profile == 'General Medicine') & (df_test.Qualification.str.contains(r'child', case=False) | df_test.Qualification.str.contains(r'pediat', case=False)),1,0)\n",
    "df_test['gm_chest'] = np.where((df_test.Profile == 'General Medicine') & (df_test.Qualification.str.contains(r'chest', case=False) | df_test.Qualification.str.contains(r'tuber', case=False)),1,0)\n",
    "df_test['gm_obstet'] = np.where((df_test.Profile == 'General Medicine') & (df_test.Qualification.str.contains(r'obstet', case=False) | df_test.Qualification.str.contains(r'gyna', case=False)),1,0)\n",
    "df_test['gm_pulmonary'] = np.where((df_test.Profile == 'General Medicine') & df_test.Qualification.str.contains(r'pulmonary', case=False),1,0)\n",
    "df_test['gm_psych'] = np.where((df_test.Profile == 'General Medicine') & df_test.Qualification.str.contains(r'psych', case=False),1,0)\n",
    "df_test['gm_endocrin'] = np.where((df_test.Profile == 'General Medicine') & df_test.Qualification.str.contains(r'endocrin', case=False),1,0)\n",
    "df_test['gm_rheum'] = np.where((df_test.Profile == 'General Medicine') & df_test.Qualification.str.contains(r'rheum', case=False),1,0)"
   ]
  },
  {
   "cell_type": "code",
   "execution_count": 609,
   "metadata": {},
   "outputs": [
    {
     "data": {
      "text/html": [
       "<div>\n",
       "<style scoped>\n",
       "    .dataframe tbody tr th:only-of-type {\n",
       "        vertical-align: middle;\n",
       "    }\n",
       "\n",
       "    .dataframe tbody tr th {\n",
       "        vertical-align: top;\n",
       "    }\n",
       "\n",
       "    .dataframe thead th {\n",
       "        text-align: right;\n",
       "    }\n",
       "</style>\n",
       "<table border=\"1\" class=\"dataframe\">\n",
       "  <thead>\n",
       "    <tr style=\"text-align: right;\">\n",
       "      <th></th>\n",
       "      <th>Qualification</th>\n",
       "      <th>Experience</th>\n",
       "      <th>Rating</th>\n",
       "      <th>Place</th>\n",
       "      <th>Profile</th>\n",
       "      <th>Area</th>\n",
       "      <th>ayurveda</th>\n",
       "      <th>ayurveda_md/ms</th>\n",
       "      <th>dermatology_md</th>\n",
       "      <th>dermatology_venereology</th>\n",
       "      <th>...</th>\n",
       "      <th>gm_cardio</th>\n",
       "      <th>gm_surgery</th>\n",
       "      <th>gm_diabet</th>\n",
       "      <th>gm_child</th>\n",
       "      <th>gm_chest</th>\n",
       "      <th>gm_obstet</th>\n",
       "      <th>gm_pulmonary</th>\n",
       "      <th>gm_psych</th>\n",
       "      <th>gm_endocrin</th>\n",
       "      <th>gm_rheum</th>\n",
       "    </tr>\n",
       "  </thead>\n",
       "  <tbody>\n",
       "    <tr>\n",
       "      <th>0</th>\n",
       "      <td>241</td>\n",
       "      <td>28</td>\n",
       "      <td>97.0</td>\n",
       "      <td>6</td>\n",
       "      <td>4</td>\n",
       "      <td>142</td>\n",
       "      <td>0</td>\n",
       "      <td>0</td>\n",
       "      <td>0</td>\n",
       "      <td>0</td>\n",
       "      <td>...</td>\n",
       "      <td>0</td>\n",
       "      <td>0</td>\n",
       "      <td>0</td>\n",
       "      <td>0</td>\n",
       "      <td>0</td>\n",
       "      <td>0</td>\n",
       "      <td>0</td>\n",
       "      <td>0</td>\n",
       "      <td>0</td>\n",
       "      <td>0</td>\n",
       "    </tr>\n",
       "    <tr>\n",
       "      <th>1</th>\n",
       "      <td>340</td>\n",
       "      <td>24</td>\n",
       "      <td>97.0</td>\n",
       "      <td>5</td>\n",
       "      <td>3</td>\n",
       "      <td>578</td>\n",
       "      <td>0</td>\n",
       "      <td>0</td>\n",
       "      <td>0</td>\n",
       "      <td>0</td>\n",
       "      <td>...</td>\n",
       "      <td>0</td>\n",
       "      <td>0</td>\n",
       "      <td>0</td>\n",
       "      <td>0</td>\n",
       "      <td>0</td>\n",
       "      <td>0</td>\n",
       "      <td>0</td>\n",
       "      <td>0</td>\n",
       "      <td>0</td>\n",
       "      <td>0</td>\n",
       "    </tr>\n",
       "    <tr>\n",
       "      <th>2</th>\n",
       "      <td>258</td>\n",
       "      <td>34</td>\n",
       "      <td>70.0</td>\n",
       "      <td>1</td>\n",
       "      <td>2</td>\n",
       "      <td>212</td>\n",
       "      <td>0</td>\n",
       "      <td>0</td>\n",
       "      <td>0</td>\n",
       "      <td>0</td>\n",
       "      <td>...</td>\n",
       "      <td>0</td>\n",
       "      <td>0</td>\n",
       "      <td>0</td>\n",
       "      <td>0</td>\n",
       "      <td>0</td>\n",
       "      <td>0</td>\n",
       "      <td>0</td>\n",
       "      <td>0</td>\n",
       "      <td>0</td>\n",
       "      <td>0</td>\n",
       "    </tr>\n",
       "    <tr>\n",
       "      <th>3</th>\n",
       "      <td>6</td>\n",
       "      <td>0</td>\n",
       "      <td>97.0</td>\n",
       "      <td>3</td>\n",
       "      <td>0</td>\n",
       "      <td>373</td>\n",
       "      <td>1</td>\n",
       "      <td>0</td>\n",
       "      <td>0</td>\n",
       "      <td>0</td>\n",
       "      <td>...</td>\n",
       "      <td>0</td>\n",
       "      <td>0</td>\n",
       "      <td>0</td>\n",
       "      <td>0</td>\n",
       "      <td>0</td>\n",
       "      <td>0</td>\n",
       "      <td>0</td>\n",
       "      <td>0</td>\n",
       "      <td>0</td>\n",
       "      <td>0</td>\n",
       "    </tr>\n",
       "    <tr>\n",
       "      <th>4</th>\n",
       "      <td>79</td>\n",
       "      <td>7</td>\n",
       "      <td>100.0</td>\n",
       "      <td>0</td>\n",
       "      <td>1</td>\n",
       "      <td>231</td>\n",
       "      <td>0</td>\n",
       "      <td>0</td>\n",
       "      <td>0</td>\n",
       "      <td>0</td>\n",
       "      <td>...</td>\n",
       "      <td>0</td>\n",
       "      <td>0</td>\n",
       "      <td>0</td>\n",
       "      <td>0</td>\n",
       "      <td>0</td>\n",
       "      <td>0</td>\n",
       "      <td>0</td>\n",
       "      <td>0</td>\n",
       "      <td>0</td>\n",
       "      <td>0</td>\n",
       "    </tr>\n",
       "  </tbody>\n",
       "</table>\n",
       "<p>5 rows × 27 columns</p>\n",
       "</div>"
      ],
      "text/plain": [
       "   Qualification  Experience  Rating  Place  Profile  Area  ayurveda  \\\n",
       "0            241          28    97.0      6        4   142         0   \n",
       "1            340          24    97.0      5        3   578         0   \n",
       "2            258          34    70.0      1        2   212         0   \n",
       "3              6           0    97.0      3        0   373         1   \n",
       "4             79           7   100.0      0        1   231         0   \n",
       "\n",
       "   ayurveda_md/ms  dermatology_md  dermatology_venereology  ...  gm_cardio  \\\n",
       "0               0               0                        0  ...          0   \n",
       "1               0               0                        0  ...          0   \n",
       "2               0               0                        0  ...          0   \n",
       "3               0               0                        0  ...          0   \n",
       "4               0               0                        0  ...          0   \n",
       "\n",
       "   gm_surgery  gm_diabet  gm_child  gm_chest  gm_obstet  gm_pulmonary  \\\n",
       "0           0          0         0         0          0             0   \n",
       "1           0          0         0         0          0             0   \n",
       "2           0          0         0         0          0             0   \n",
       "3           0          0         0         0          0             0   \n",
       "4           0          0         0         0          0             0   \n",
       "\n",
       "   gm_psych  gm_endocrin  gm_rheum  \n",
       "0         0            0         0  \n",
       "1         0            0         0  \n",
       "2         0            0         0  \n",
       "3         0            0         0  \n",
       "4         0            0         0  \n",
       "\n",
       "[5 rows x 27 columns]"
      ]
     },
     "execution_count": 609,
     "metadata": {},
     "output_type": "execute_result"
    }
   ],
   "source": [
    "## Label Encoding:\n",
    "from sklearn.preprocessing import LabelEncoder\n",
    "lb = LabelEncoder()\n",
    "\n",
    "categorical_features = list(df_test.select_dtypes(include=['object']).columns)\n",
    "for i in categorical_features:\n",
    "    df_test[i] = lb.fit_transform(df_test[i])\n",
    "df_test.head()"
   ]
  },
  {
   "cell_type": "code",
   "execution_count": 610,
   "metadata": {},
   "outputs": [],
   "source": [
    "#experince does not have any corealtion with fees we have to drop them\n",
    "df_test=df_test.drop(['Experience','dermatology_cosmetic','gm_child',\"Qualification\"],axis=1)\n",
    "x_test=df_test"
   ]
  },
  {
   "cell_type": "code",
   "execution_count": 611,
   "metadata": {},
   "outputs": [
    {
     "data": {
      "text/plain": [
       "0      0.000698\n",
       "1     -0.040283\n",
       "2     -0.065721\n",
       "3     -0.053074\n",
       "4      2.471995\n",
       "5      5.966577\n",
       "6     11.396916\n",
       "7      1.270164\n",
       "8      2.182256\n",
       "9      5.966577\n",
       "10     6.844460\n",
       "11     7.167651\n",
       "12     6.303258\n",
       "13    17.204578\n",
       "14     2.249065\n",
       "15     2.771545\n",
       "16     3.219193\n",
       "17     3.413485\n",
       "18     6.303258\n",
       "19     3.109457\n",
       "20     4.120555\n",
       "21    17.204578\n",
       "22     2.911998\n",
       "23    11.396916\n",
       "24    11.396916\n",
       "25     6.427457\n",
       "26    34.539832\n",
       "27    34.539832\n",
       "28    17.204578\n",
       "29    19.891301\n",
       "30    17.204578\n",
       "31    24.392570\n",
       "dtype: float64"
      ]
     },
     "execution_count": 611,
     "metadata": {},
     "output_type": "execute_result"
    }
   ],
   "source": [
    "from sklearn.preprocessing import power_transform\n",
    "x_test=power_transform(x_test,method=(\"yeo-johnson\"))\n",
    "x_test=pd.DataFrame(x_test)\n",
    "x_test.skew()"
   ]
  },
  {
   "cell_type": "code",
   "execution_count": 612,
   "metadata": {},
   "outputs": [
    {
     "name": "stdout",
     "output_type": "stream",
     "text": [
      "StandardScaler()\n"
     ]
    }
   ],
   "source": [
    "#standardizing the values\n",
    "from sklearn.preprocessing import StandardScaler\n",
    "sl=StandardScaler()\n",
    "print(sl.fit(x_test))"
   ]
  },
  {
   "cell_type": "code",
   "execution_count": 613,
   "metadata": {},
   "outputs": [
    {
     "data": {
      "text/plain": [
       "RandomForestRegressor(max_features='log2', n_estimators=500)"
      ]
     },
     "execution_count": 613,
     "metadata": {},
     "output_type": "execute_result"
    }
   ],
   "source": [
    "#lets import the saved model and predict the values\n",
    "filename= pickle.load( open( \"Doctors_fees_train.pkl\", \"rb\" ) )\n",
    "filename"
   ]
  },
  {
   "cell_type": "code",
   "execution_count": 614,
   "metadata": {},
   "outputs": [
    {
     "data": {
      "text/plain": [
       "array([169.6134127 , 273.90354978, 217.26333333, ..., 291.33333333,\n",
       "       477.475     , 504.47345238])"
      ]
     },
     "execution_count": 614,
     "metadata": {},
     "output_type": "execute_result"
    }
   ],
   "source": [
    "#lets predict the values\n",
    "test_predict=filename.predict(x_test)\n",
    "test_predict"
   ]
  },
  {
   "cell_type": "code",
   "execution_count": 618,
   "metadata": {},
   "outputs": [
    {
     "data": {
      "text/html": [
       "<div>\n",
       "<style scoped>\n",
       "    .dataframe tbody tr th:only-of-type {\n",
       "        vertical-align: middle;\n",
       "    }\n",
       "\n",
       "    .dataframe tbody tr th {\n",
       "        vertical-align: top;\n",
       "    }\n",
       "\n",
       "    .dataframe thead th {\n",
       "        text-align: right;\n",
       "    }\n",
       "</style>\n",
       "<table border=\"1\" class=\"dataframe\">\n",
       "  <thead>\n",
       "    <tr style=\"text-align: right;\">\n",
       "      <th></th>\n",
       "      <th>Cost</th>\n",
       "    </tr>\n",
       "  </thead>\n",
       "  <tbody>\n",
       "    <tr>\n",
       "      <th>0</th>\n",
       "      <td>169.613413</td>\n",
       "    </tr>\n",
       "    <tr>\n",
       "      <th>1</th>\n",
       "      <td>273.903550</td>\n",
       "    </tr>\n",
       "    <tr>\n",
       "      <th>2</th>\n",
       "      <td>217.263333</td>\n",
       "    </tr>\n",
       "    <tr>\n",
       "      <th>3</th>\n",
       "      <td>188.980000</td>\n",
       "    </tr>\n",
       "    <tr>\n",
       "      <th>4</th>\n",
       "      <td>402.460000</td>\n",
       "    </tr>\n",
       "  </tbody>\n",
       "</table>\n",
       "</div>"
      ],
      "text/plain": [
       "         Cost\n",
       "0  169.613413\n",
       "1  273.903550\n",
       "2  217.263333\n",
       "3  188.980000\n",
       "4  402.460000"
      ]
     },
     "execution_count": 618,
     "metadata": {},
     "output_type": "execute_result"
    }
   ],
   "source": [
    "test_predict=pd.DataFrame(test_predict).rename(columns = {0 : 'Cost'}).head()\n",
    "test_predict.head()"
   ]
  },
  {
   "cell_type": "code",
   "execution_count": 619,
   "metadata": {},
   "outputs": [],
   "source": [
    "#Let's save the predicted result into the csv file\n",
    "\n",
    "test_predict.to_csv('Doctors_fees_tested.csv',index=False)"
   ]
  },
  {
   "cell_type": "code",
   "execution_count": null,
   "metadata": {},
   "outputs": [],
   "source": []
  }
 ],
 "metadata": {
  "kernelspec": {
   "display_name": "Python 3",
   "language": "python",
   "name": "python3"
  }
 },
 "nbformat": 4,
 "nbformat_minor": 4
}
